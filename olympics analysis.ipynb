{
 "cells": [
  {
   "cell_type": "code",
   "execution_count": 1,
   "id": "b974d44f-768a-48fe-b843-0fd1629e523d",
   "metadata": {},
   "outputs": [],
   "source": [
    "import numpy as np\n",
    "import pandas as pd"
   ]
  },
  {
   "cell_type": "code",
   "execution_count": null,
   "id": "6aadfb1b-ff9a-406c-8494-3509f0c1ec36",
   "metadata": {},
   "outputs": [],
   "source": [
    "import os\n",
    "print(os.getcwd())\n"
   ]
  },
  {
   "cell_type": "code",
   "execution_count": 67,
   "id": "34c4532b-40e1-43fd-8b76-0b6e30371f75",
   "metadata": {},
   "outputs": [],
   "source": [
    "df = pd.read_csv(\"athlete_events.csv\")\n",
    "region_df = pd.read_csv(\"noc_regions.csv\")\n"
   ]
  },
  {
   "cell_type": "code",
   "execution_count": 68,
   "id": "dce98778-5302-4928-a306-cfce85c73bd2",
   "metadata": {},
   "outputs": [
    {
     "name": "stdout",
     "output_type": "stream",
     "text": [
      "CSV files in folder:\n",
      "- athlete_events.csv\n",
      "- noc_regions (1).csv\n"
     ]
    }
   ],
   "source": [
    "import os\n",
    "\n",
    "folder_path = \"D:/Machine Learning projects\"\n",
    "\n",
    "print(\"CSV files in folder:\")\n",
    "for file in os.listdir(folder_path):\n",
    "    if file.endswith(\".csv\"):\n",
    "        print(\"-\", file)\n"
   ]
  },
  {
   "cell_type": "code",
   "execution_count": null,
   "id": "ae60ab34-7400-4596-8feb-6ec5506c6583",
   "metadata": {},
   "outputs": [],
   "source": [
    "import tkinter as tk\n",
    "from tkinter import filedialog\n",
    "\n",
    "root = tk.Tk()\n",
    "root.withdraw()  # Hide the main window\n",
    "\n",
    "file_path = filedialog.askopenfilename()\n",
    "print(\"Selected:\", file_path)\n",
    "\n",
    "region_df = pd.read_csv(file_path)\n"
   ]
  },
  {
   "cell_type": "code",
   "execution_count": null,
   "id": "593f8519-099f-4dbd-bb26-7e9dec75cf48",
   "metadata": {},
   "outputs": [],
   "source": [
    "import pandas as pd\n",
    "\n",
    "# Load athlete events data\n",
    "df = pd.read_csv(\"D:/Machine Learning projects/athlete_events.csv\")\n",
    "\n",
    "# Load region mapping data\n",
    "region_df = pd.read_csv(\"D:/Machine Learning projects/noc_region.csv\")\n"
   ]
  },
  {
   "cell_type": "code",
   "execution_count": null,
   "id": "5f4fa1b4-584c-4c9f-ad37-bae3b9258949",
   "metadata": {},
   "outputs": [],
   "source": [
    "import os\n",
    "\n",
    "folder_path = \"D:/Machine Learning projects\"\n",
    "print(\"Files in folder:\")\n",
    "print(os.listdir(folder_path))\n"
   ]
  },
  {
   "cell_type": "code",
   "execution_count": null,
   "id": "a9a78b15-67dd-4da8-9561-7a30927840bc",
   "metadata": {},
   "outputs": [],
   "source": [
    "print(df.tail())\n"
   ]
  },
  {
   "cell_type": "code",
   "execution_count": null,
   "id": "76be4c85-f193-400a-b387-7e0e9f8e9bfc",
   "metadata": {},
   "outputs": [],
   "source": [
    "print(df.shape)     # Check number of rows and columns\n",
    "print(df.columns)   # Check column names\n"
   ]
  },
  {
   "cell_type": "code",
   "execution_count": null,
   "id": "8364b9c4-984b-42fb-bba7-6eef422230d6",
   "metadata": {},
   "outputs": [],
   "source": [
    "df[df['Season']=='Summer']"
   ]
  },
  {
   "cell_type": "code",
   "execution_count": null,
   "id": "e06dc4f2-d6a0-4aef-bd73-d7d7977d963c",
   "metadata": {},
   "outputs": [],
   "source": [
    "df.shape()"
   ]
  },
  {
   "cell_type": "code",
   "execution_count": null,
   "id": "05d4867a-cd57-41c4-b8d3-ab66d4c342ae",
   "metadata": {},
   "outputs": [],
   "source": [
    "region_df.tail()"
   ]
  },
  {
   "cell_type": "code",
   "execution_count": null,
   "id": "115ac66d-00d6-4e72-81f8-9c02b65c18c6",
   "metadata": {},
   "outputs": [],
   "source": [
    "df=df.merge(region_df.left_on='NOC',how='left')"
   ]
  },
  {
   "cell_type": "code",
   "execution_count": null,
   "id": "e9da271e-71be-4dd3-92b0-56c5a225cb97",
   "metadata": {},
   "outputs": [],
   "source": [
    "df.tail()"
   ]
  },
  {
   "cell_type": "code",
   "execution_count": null,
   "id": "400a5fe4-c87e-4c05-8c69-1228660927f8",
   "metadata": {},
   "outputs": [],
   "source": [
    "df['region'].unique()"
   ]
  },
  {
   "cell_type": "code",
   "execution_count": null,
   "id": "69332b8d-03ef-4401-b32e-d02c343e4f1a",
   "metadata": {},
   "outputs": [],
   "source": [
    "df.isnull().sum()"
   ]
  },
  {
   "cell_type": "code",
   "execution_count": null,
   "id": "009b340a-e2a4-42ed-95fb-c3bdaecf6d88",
   "metadata": {},
   "outputs": [],
   "source": [
    "df.duplicated().sum()"
   ]
  },
  {
   "cell_type": "code",
   "execution_count": null,
   "id": "1318e1f5-f437-45d6-9147-59fcd06fce58",
   "metadata": {},
   "outputs": [],
   "source": [
    "df.drop_duplicates(inplace=True)"
   ]
  },
  {
   "cell_type": "code",
   "execution_count": null,
   "id": "d80ddad1-657d-4a4e-882a-49495e373073",
   "metadata": {},
   "outputs": [],
   "source": [
    "df.duplicated().sum()"
   ]
  },
  {
   "cell_type": "code",
   "execution_count": null,
   "id": "31a285e4-d62a-4890-9389-96f24f8332b9",
   "metadata": {},
   "outputs": [],
   "source": [
    "df['Medal'].value_counts()"
   ]
  },
  {
   "cell_type": "code",
   "execution_count": null,
   "id": "9c0d1fad-d95f-49bb-881b-3288a9b5609e",
   "metadata": {},
   "outputs": [],
   "source": [
    "df=pd.concat([pd.get_dummies(df['Medal'])], axis=1)\n"
   ]
  },
  {
   "cell_type": "code",
   "execution_count": null,
   "id": "48b1f80f-90a8-48f5-a603-1e77b8bd6743",
   "metadata": {},
   "outputs": [],
   "source": [
    "df.shape"
   ]
  },
  {
   "cell_type": "code",
   "execution_count": null,
   "id": "91581a95-c676-4f8a-a185-9ee2b961caf1",
   "metadata": {},
   "outputs": [],
   "source": [
    "df.columns = df.columns.str.strip()  # Removes leading/trailing spaces\n"
   ]
  },
  {
   "cell_type": "code",
   "execution_count": null,
   "id": "9c1ef1c8-42be-4535-9e1a-96ebab3f184e",
   "metadata": {},
   "outputs": [],
   "source": [
    "import pandas as pd\n",
    "\n",
    "# Load CSV\n",
    "df = pd.read_csv(\"D:/Machine Learning projects/athlete_events.csv\")\n",
    "\n",
    "# Clean column names\n",
    "df.columns = df.columns.str.strip()\n",
    "\n",
    "# Check if 'Medal' exists now\n",
    "print(df.columns)\n",
    "\n",
    "# Create dummy medal columns\n",
    "dummy_medals = pd.get_dummies(df['Medal'])\n",
    "\n",
    "# Combine with df\n",
    "df = pd.concat([df, dummy_medals], axis=1)\n",
    "\n",
    "# Group by NOC and sum medal columns\n",
    "medal_counts = df.groupby('NOC')[['Gold', 'Silver', 'Bronze']].sum()\n",
    "\n",
    "# Show top 10 countries\n",
    "print(medal_counts.head(10))\n"
   ]
  },
  {
   "cell_type": "code",
   "execution_count": null,
   "id": "bc324dd3-c7bb-481d-a3f7-b8b4f2b263f8",
   "metadata": {},
   "outputs": [],
   "source": [
    "df.groupby('NOC').sum()[['Gold','Silver','Bronze']].sort_values('Gold',ascending=False).reset_index().head(25)"
   ]
  },
  {
   "cell_type": "code",
   "execution_count": null,
   "id": "bec428bf-d3d0-472e-b1f6-a23fb19f3ddb",
   "metadata": {},
   "outputs": [],
   "source": [
    "df[(df['NOC'] == 'IND') & (df['Medal'] == 'Gold')].shape[0]\n"
   ]
  },
  {
   "cell_type": "code",
   "execution_count": null,
   "id": "2f16c37f-cea3-44f9-be62-22e184d893d5",
   "metadata": {},
   "outputs": [],
   "source": [
    "medal_tally=df.drop_duplicates(subset=['Team','NOC','Year','City','Sport','Event','Medal'])"
   ]
  },
  {
   "cell_type": "code",
   "execution_count": null,
   "id": "fbbd8151-9031-44c4-bcda-8a8dd149e827",
   "metadata": {},
   "outputs": [],
   "source": [
    "medal_tally.df.groupby('NOC').sum()[['Gold','Silver','Bronze']].sort_values('Gold',ascending=False).reset_index().head(25)"
   ]
  },
  {
   "cell_type": "markdown",
   "id": "cc226c06-9f86-48f2-8d6b-dfe666590c8d",
   "metadata": {},
   "source": []
  },
  {
   "cell_type": "code",
   "execution_count": null,
   "id": "67d58b66-eecd-4d6a-a219-ac9d3d40af73",
   "metadata": {},
   "outputs": [],
   "source": [
    "medal_tally[medal_tally['NOC']=='IND']"
   ]
  },
  {
   "cell_type": "code",
   "execution_count": 3,
   "id": "41ec0541-2a2b-4064-af90-36c19d21d4ff",
   "metadata": {},
   "outputs": [],
   "source": [
    "import pandas as pd\n",
    "\n",
    "\n",
    "df = pd.read_csv(\"athlete_events.csv\")\n",
    "\n",
    "\n",
    "df = df.drop_duplicates(\n",
    "    subset=['Team', 'NOC', 'Year', 'Season', 'Games', 'City', 'Sport', 'Event', 'Medal'],\n",
    "    keep='first'\n",
    ")\n"
   ]
  },
  {
   "cell_type": "code",
   "execution_count": 7,
   "id": "a0278e81-3420-4b91-a95d-73ce39162c73",
   "metadata": {},
   "outputs": [
    {
     "name": "stdout",
     "output_type": "stream",
     "text": [
      "Medal  Bronze  Gold  Silver  Total\n",
      "NOC                               \n",
      "AFG         2     0       0      2\n",
      "AHO         0     0       1      1\n",
      "ALG         8     5       4     17\n",
      "ANZ         5     3       4     12\n",
      "ARG        28    21      25     74\n"
     ]
    }
   ],
   "source": [
    "import pandas as pd\n",
    "\n",
    "\n",
    "df = pd.read_csv('athlete_events.csv')\n",
    "\n",
    "df = df.drop_duplicates(\n",
    "    subset=['Team', 'NOC', 'Year', 'Season', 'Games', 'City', 'Sport', 'Event', 'Medal']\n",
    ")\n",
    "\n",
    "\n",
    "medal_df = df[df['Medal'].notnull()]\n",
    "\n",
    "\n",
    "medal_tally = medal_df.groupby('NOC')['Medal'].value_counts().unstack(fill_value=0)\n",
    "\n",
    "\n",
    "medal_tally['Total'] = medal_tally.sum(axis=1)\n",
    "\n",
    "\n",
    "print(medal_tally.head())\n"
   ]
  },
  {
   "cell_type": "code",
   "execution_count": 8,
   "id": "97c580c6-1f54-482f-a0d5-7ec56dc1df48",
   "metadata": {},
   "outputs": [
    {
     "data": {
      "text/html": [
       "<div>\n",
       "<style scoped>\n",
       "    .dataframe tbody tr th:only-of-type {\n",
       "        vertical-align: middle;\n",
       "    }\n",
       "\n",
       "    .dataframe tbody tr th {\n",
       "        vertical-align: top;\n",
       "    }\n",
       "\n",
       "    .dataframe thead th {\n",
       "        text-align: right;\n",
       "    }\n",
       "</style>\n",
       "<table border=\"1\" class=\"dataframe\">\n",
       "  <thead>\n",
       "    <tr style=\"text-align: right;\">\n",
       "      <th>Medal</th>\n",
       "      <th>NOC</th>\n",
       "      <th>Gold</th>\n",
       "      <th>Silver</th>\n",
       "      <th>Bronze</th>\n",
       "    </tr>\n",
       "  </thead>\n",
       "  <tbody>\n",
       "    <tr>\n",
       "      <th>0</th>\n",
       "      <td>USA</td>\n",
       "      <td>1131</td>\n",
       "      <td>901</td>\n",
       "      <td>792</td>\n",
       "    </tr>\n",
       "    <tr>\n",
       "      <th>1</th>\n",
       "      <td>URS</td>\n",
       "      <td>471</td>\n",
       "      <td>373</td>\n",
       "      <td>353</td>\n",
       "    </tr>\n",
       "    <tr>\n",
       "      <th>2</th>\n",
       "      <td>GER</td>\n",
       "      <td>321</td>\n",
       "      <td>345</td>\n",
       "      <td>341</td>\n",
       "    </tr>\n",
       "    <tr>\n",
       "      <th>3</th>\n",
       "      <td>GBR</td>\n",
       "      <td>289</td>\n",
       "      <td>321</td>\n",
       "      <td>312</td>\n",
       "    </tr>\n",
       "    <tr>\n",
       "      <th>4</th>\n",
       "      <td>FRA</td>\n",
       "      <td>265</td>\n",
       "      <td>287</td>\n",
       "      <td>334</td>\n",
       "    </tr>\n",
       "    <tr>\n",
       "      <th>5</th>\n",
       "      <td>ITA</td>\n",
       "      <td>256</td>\n",
       "      <td>225</td>\n",
       "      <td>241</td>\n",
       "    </tr>\n",
       "    <tr>\n",
       "      <th>6</th>\n",
       "      <td>CHN</td>\n",
       "      <td>239</td>\n",
       "      <td>184</td>\n",
       "      <td>172</td>\n",
       "    </tr>\n",
       "    <tr>\n",
       "      <th>7</th>\n",
       "      <td>RUS</td>\n",
       "      <td>202</td>\n",
       "      <td>183</td>\n",
       "      <td>199</td>\n",
       "    </tr>\n",
       "    <tr>\n",
       "      <th>8</th>\n",
       "      <td>SWE</td>\n",
       "      <td>200</td>\n",
       "      <td>215</td>\n",
       "      <td>242</td>\n",
       "    </tr>\n",
       "    <tr>\n",
       "      <th>9</th>\n",
       "      <td>GDR</td>\n",
       "      <td>192</td>\n",
       "      <td>165</td>\n",
       "      <td>162</td>\n",
       "    </tr>\n",
       "    <tr>\n",
       "      <th>10</th>\n",
       "      <td>HUN</td>\n",
       "      <td>178</td>\n",
       "      <td>156</td>\n",
       "      <td>176</td>\n",
       "    </tr>\n",
       "    <tr>\n",
       "      <th>11</th>\n",
       "      <td>NOR</td>\n",
       "      <td>170</td>\n",
       "      <td>159</td>\n",
       "      <td>148</td>\n",
       "    </tr>\n",
       "    <tr>\n",
       "      <th>12</th>\n",
       "      <td>AUS</td>\n",
       "      <td>153</td>\n",
       "      <td>170</td>\n",
       "      <td>196</td>\n",
       "    </tr>\n",
       "    <tr>\n",
       "      <th>13</th>\n",
       "      <td>JPN</td>\n",
       "      <td>152</td>\n",
       "      <td>151</td>\n",
       "      <td>179</td>\n",
       "    </tr>\n",
       "    <tr>\n",
       "      <th>14</th>\n",
       "      <td>FIN</td>\n",
       "      <td>146</td>\n",
       "      <td>148</td>\n",
       "      <td>177</td>\n",
       "    </tr>\n",
       "    <tr>\n",
       "      <th>15</th>\n",
       "      <td>CAN</td>\n",
       "      <td>126</td>\n",
       "      <td>160</td>\n",
       "      <td>189</td>\n",
       "    </tr>\n",
       "    <tr>\n",
       "      <th>16</th>\n",
       "      <td>NED</td>\n",
       "      <td>125</td>\n",
       "      <td>135</td>\n",
       "      <td>149</td>\n",
       "    </tr>\n",
       "    <tr>\n",
       "      <th>17</th>\n",
       "      <td>KOR</td>\n",
       "      <td>116</td>\n",
       "      <td>102</td>\n",
       "      <td>99</td>\n",
       "    </tr>\n",
       "    <tr>\n",
       "      <th>18</th>\n",
       "      <td>SUI</td>\n",
       "      <td>108</td>\n",
       "      <td>122</td>\n",
       "      <td>116</td>\n",
       "    </tr>\n",
       "    <tr>\n",
       "      <th>19</th>\n",
       "      <td>ROU</td>\n",
       "      <td>88</td>\n",
       "      <td>95</td>\n",
       "      <td>121</td>\n",
       "    </tr>\n",
       "    <tr>\n",
       "      <th>20</th>\n",
       "      <td>AUT</td>\n",
       "      <td>85</td>\n",
       "      <td>118</td>\n",
       "      <td>123</td>\n",
       "    </tr>\n",
       "    <tr>\n",
       "      <th>21</th>\n",
       "      <td>CUB</td>\n",
       "      <td>77</td>\n",
       "      <td>67</td>\n",
       "      <td>70</td>\n",
       "    </tr>\n",
       "    <tr>\n",
       "      <th>22</th>\n",
       "      <td>POL</td>\n",
       "      <td>75</td>\n",
       "      <td>94</td>\n",
       "      <td>141</td>\n",
       "    </tr>\n",
       "    <tr>\n",
       "      <th>23</th>\n",
       "      <td>FRG</td>\n",
       "      <td>67</td>\n",
       "      <td>82</td>\n",
       "      <td>94</td>\n",
       "    </tr>\n",
       "    <tr>\n",
       "      <th>24</th>\n",
       "      <td>EUN</td>\n",
       "      <td>54</td>\n",
       "      <td>44</td>\n",
       "      <td>37</td>\n",
       "    </tr>\n",
       "  </tbody>\n",
       "</table>\n",
       "</div>"
      ],
      "text/plain": [
       "Medal  NOC  Gold  Silver  Bronze\n",
       "0      USA  1131     901     792\n",
       "1      URS   471     373     353\n",
       "2      GER   321     345     341\n",
       "3      GBR   289     321     312\n",
       "4      FRA   265     287     334\n",
       "5      ITA   256     225     241\n",
       "6      CHN   239     184     172\n",
       "7      RUS   202     183     199\n",
       "8      SWE   200     215     242\n",
       "9      GDR   192     165     162\n",
       "10     HUN   178     156     176\n",
       "11     NOR   170     159     148\n",
       "12     AUS   153     170     196\n",
       "13     JPN   152     151     179\n",
       "14     FIN   146     148     177\n",
       "15     CAN   126     160     189\n",
       "16     NED   125     135     149\n",
       "17     KOR   116     102      99\n",
       "18     SUI   108     122     116\n",
       "19     ROU    88      95     121\n",
       "20     AUT    85     118     123\n",
       "21     CUB    77      67      70\n",
       "22     POL    75      94     141\n",
       "23     FRG    67      82      94\n",
       "24     EUN    54      44      37"
      ]
     },
     "execution_count": 8,
     "metadata": {},
     "output_type": "execute_result"
    }
   ],
   "source": [
    "medal_tally.groupby('NOC').sum()[['Gold','Silver','Bronze']].sort_values('Gold',ascending=False).reset_index().head(25)"
   ]
  },
  {
   "cell_type": "code",
   "execution_count": 10,
   "id": "e8ea28e3-1458-4654-a8ca-555f7fde7173",
   "metadata": {},
   "outputs": [
    {
     "data": {
      "text/plain": [
       "Medal\n",
       "Bronze    12\n",
       "Gold      10\n",
       "Silver     7\n",
       "Total     29\n",
       "Name: IND, dtype: int64"
      ]
     },
     "execution_count": 10,
     "metadata": {},
     "output_type": "execute_result"
    }
   ],
   "source": [
    "medal_tally.loc['IND']"
   ]
  },
  {
   "cell_type": "code",
   "execution_count": 12,
   "id": "778ba0d3-82b7-4219-a2af-7ef1c7ca5073",
   "metadata": {},
   "outputs": [],
   "source": [
    "medal_tally['Total'] = medal_tally['Gold'] + medal_tally['Silver'] + medal_tally['Bronze']\n"
   ]
  },
  {
   "cell_type": "code",
   "execution_count": 13,
   "id": "8ecbdb34-0ff0-4f76-b988-0f87694840f4",
   "metadata": {},
   "outputs": [
    {
     "data": {
      "text/html": [
       "<div>\n",
       "<style scoped>\n",
       "    .dataframe tbody tr th:only-of-type {\n",
       "        vertical-align: middle;\n",
       "    }\n",
       "\n",
       "    .dataframe tbody tr th {\n",
       "        vertical-align: top;\n",
       "    }\n",
       "\n",
       "    .dataframe thead th {\n",
       "        text-align: right;\n",
       "    }\n",
       "</style>\n",
       "<table border=\"1\" class=\"dataframe\">\n",
       "  <thead>\n",
       "    <tr style=\"text-align: right;\">\n",
       "      <th>Medal</th>\n",
       "      <th>Bronze</th>\n",
       "      <th>Gold</th>\n",
       "      <th>Silver</th>\n",
       "      <th>Total</th>\n",
       "    </tr>\n",
       "    <tr>\n",
       "      <th>NOC</th>\n",
       "      <th></th>\n",
       "      <th></th>\n",
       "      <th></th>\n",
       "      <th></th>\n",
       "    </tr>\n",
       "  </thead>\n",
       "  <tbody>\n",
       "    <tr>\n",
       "      <th>AFG</th>\n",
       "      <td>2</td>\n",
       "      <td>0</td>\n",
       "      <td>0</td>\n",
       "      <td>2</td>\n",
       "    </tr>\n",
       "    <tr>\n",
       "      <th>AHO</th>\n",
       "      <td>0</td>\n",
       "      <td>0</td>\n",
       "      <td>1</td>\n",
       "      <td>1</td>\n",
       "    </tr>\n",
       "    <tr>\n",
       "      <th>ALG</th>\n",
       "      <td>8</td>\n",
       "      <td>5</td>\n",
       "      <td>4</td>\n",
       "      <td>17</td>\n",
       "    </tr>\n",
       "    <tr>\n",
       "      <th>ANZ</th>\n",
       "      <td>5</td>\n",
       "      <td>3</td>\n",
       "      <td>4</td>\n",
       "      <td>12</td>\n",
       "    </tr>\n",
       "    <tr>\n",
       "      <th>ARG</th>\n",
       "      <td>28</td>\n",
       "      <td>21</td>\n",
       "      <td>25</td>\n",
       "      <td>74</td>\n",
       "    </tr>\n",
       "    <tr>\n",
       "      <th>...</th>\n",
       "      <td>...</td>\n",
       "      <td>...</td>\n",
       "      <td>...</td>\n",
       "      <td>...</td>\n",
       "    </tr>\n",
       "    <tr>\n",
       "      <th>VIE</th>\n",
       "      <td>0</td>\n",
       "      <td>1</td>\n",
       "      <td>3</td>\n",
       "      <td>4</td>\n",
       "    </tr>\n",
       "    <tr>\n",
       "      <th>WIF</th>\n",
       "      <td>2</td>\n",
       "      <td>0</td>\n",
       "      <td>0</td>\n",
       "      <td>2</td>\n",
       "    </tr>\n",
       "    <tr>\n",
       "      <th>YUG</th>\n",
       "      <td>29</td>\n",
       "      <td>26</td>\n",
       "      <td>32</td>\n",
       "      <td>87</td>\n",
       "    </tr>\n",
       "    <tr>\n",
       "      <th>ZAM</th>\n",
       "      <td>1</td>\n",
       "      <td>0</td>\n",
       "      <td>1</td>\n",
       "      <td>2</td>\n",
       "    </tr>\n",
       "    <tr>\n",
       "      <th>ZIM</th>\n",
       "      <td>1</td>\n",
       "      <td>3</td>\n",
       "      <td>4</td>\n",
       "      <td>8</td>\n",
       "    </tr>\n",
       "  </tbody>\n",
       "</table>\n",
       "<p>149 rows × 4 columns</p>\n",
       "</div>"
      ],
      "text/plain": [
       "Medal  Bronze  Gold  Silver  Total\n",
       "NOC                               \n",
       "AFG         2     0       0      2\n",
       "AHO         0     0       1      1\n",
       "ALG         8     5       4     17\n",
       "ANZ         5     3       4     12\n",
       "ARG        28    21      25     74\n",
       "..        ...   ...     ...    ...\n",
       "VIE         0     1       3      4\n",
       "WIF         2     0       0      2\n",
       "YUG        29    26      32     87\n",
       "ZAM         1     0       1      2\n",
       "ZIM         1     3       4      8\n",
       "\n",
       "[149 rows x 4 columns]"
      ]
     },
     "execution_count": 13,
     "metadata": {},
     "output_type": "execute_result"
    }
   ],
   "source": [
    "medal_tally"
   ]
  },
  {
   "cell_type": "code",
   "execution_count": 14,
   "id": "bd4ba596-159a-4fe9-b173-4bdd4540b3a9",
   "metadata": {},
   "outputs": [
    {
     "data": {
      "text/plain": [
       "[1992,\n",
       " 2012,\n",
       " 1920,\n",
       " 1900,\n",
       " 1988,\n",
       " 1994,\n",
       " 1932,\n",
       " 2002,\n",
       " 1952,\n",
       " 1980,\n",
       " 2000,\n",
       " 1996,\n",
       " 1912,\n",
       " 1924,\n",
       " 2014,\n",
       " 1948,\n",
       " 1998,\n",
       " 2006,\n",
       " 2008,\n",
       " 2016,\n",
       " 2004,\n",
       " 1960,\n",
       " 1964,\n",
       " 1984,\n",
       " 1968,\n",
       " 1972,\n",
       " 1936,\n",
       " 1956,\n",
       " 1928,\n",
       " 1976,\n",
       " 2010,\n",
       " 1906,\n",
       " 1904,\n",
       " 1908,\n",
       " 1896]"
      ]
     },
     "execution_count": 14,
     "metadata": {},
     "output_type": "execute_result"
    }
   ],
   "source": [
    "df['Year'].unique().tolist()"
   ]
  },
  {
   "cell_type": "code",
   "execution_count": 18,
   "id": "f94bfc2f-302d-4a6a-b5e6-aeae9dfaa59f",
   "metadata": {},
   "outputs": [
    {
     "name": "stdout",
     "output_type": "stream",
     "text": [
      "[1896, 1900, 1904, 1906, 1908, 1912, 1920, 1924, 1928, 1932, 1936, 1948, 1952, 1956, 1960, 1964, 1968, 1972, 1976, 1980, 1984, 1988, 1992, 1994, 1996, 1998, 2000, 2002, 2004, 2006, 2008, 2010, 2012, 2014, 2016]\n"
     ]
    }
   ],
   "source": [
    "years = sorted(df['Year'].dropna().unique())\n",
    "print(years)\n"
   ]
  },
  {
   "cell_type": "raw",
   "id": "0820437d-4125-4c88-ad31-345d9440bfc3",
   "metadata": {},
   "source": [
    "years"
   ]
  },
  {
   "cell_type": "code",
   "execution_count": 20,
   "id": "5df961ac-23fa-4b3c-a0cd-5c4c7f80afa1",
   "metadata": {},
   "outputs": [],
   "source": [
    "years.insert(0,'overall')"
   ]
  },
  {
   "cell_type": "code",
   "execution_count": 21,
   "id": "0fb4fd24-af5c-4e40-9160-eaf106d96563",
   "metadata": {},
   "outputs": [
    {
     "data": {
      "text/plain": [
       "['overall',\n",
       " 1896,\n",
       " 1900,\n",
       " 1904,\n",
       " 1906,\n",
       " 1908,\n",
       " 1912,\n",
       " 1920,\n",
       " 1924,\n",
       " 1928,\n",
       " 1932,\n",
       " 1936,\n",
       " 1948,\n",
       " 1952,\n",
       " 1956,\n",
       " 1960,\n",
       " 1964,\n",
       " 1968,\n",
       " 1972,\n",
       " 1976,\n",
       " 1980,\n",
       " 1984,\n",
       " 1988,\n",
       " 1992,\n",
       " 1994,\n",
       " 1996,\n",
       " 1998,\n",
       " 2000,\n",
       " 2002,\n",
       " 2004,\n",
       " 2006,\n",
       " 2008,\n",
       " 2010,\n",
       " 2012,\n",
       " 2014,\n",
       " 2016]"
      ]
     },
     "execution_count": 21,
     "metadata": {},
     "output_type": "execute_result"
    }
   ],
   "source": [
    "years"
   ]
  },
  {
   "cell_type": "code",
   "execution_count": 26,
   "id": "f763f856-0f20-4e93-8617-87ba71770cc7",
   "metadata": {},
   "outputs": [
    {
     "data": {
      "text/html": [
       "<div>\n",
       "<style scoped>\n",
       "    .dataframe tbody tr th:only-of-type {\n",
       "        vertical-align: middle;\n",
       "    }\n",
       "\n",
       "    .dataframe tbody tr th {\n",
       "        vertical-align: top;\n",
       "    }\n",
       "\n",
       "    .dataframe thead th {\n",
       "        text-align: right;\n",
       "    }\n",
       "</style>\n",
       "<table border=\"1\" class=\"dataframe\">\n",
       "  <thead>\n",
       "    <tr style=\"text-align: right;\">\n",
       "      <th></th>\n",
       "      <th>ID</th>\n",
       "      <th>Name</th>\n",
       "      <th>Sex</th>\n",
       "      <th>Age</th>\n",
       "      <th>Height</th>\n",
       "      <th>Weight</th>\n",
       "      <th>Team</th>\n",
       "      <th>NOC</th>\n",
       "      <th>Games</th>\n",
       "      <th>Year</th>\n",
       "      <th>Season</th>\n",
       "      <th>City</th>\n",
       "      <th>Sport</th>\n",
       "      <th>Event</th>\n",
       "      <th>Medal</th>\n",
       "      <th>region</th>\n",
       "    </tr>\n",
       "  </thead>\n",
       "  <tbody>\n",
       "    <tr>\n",
       "      <th>0</th>\n",
       "      <td>1</td>\n",
       "      <td>A Dijiang</td>\n",
       "      <td>M</td>\n",
       "      <td>24.0</td>\n",
       "      <td>180.0</td>\n",
       "      <td>80.0</td>\n",
       "      <td>China</td>\n",
       "      <td>CHN</td>\n",
       "      <td>1992 Summer</td>\n",
       "      <td>1992</td>\n",
       "      <td>Summer</td>\n",
       "      <td>Barcelona</td>\n",
       "      <td>Basketball</td>\n",
       "      <td>Basketball Men's Basketball</td>\n",
       "      <td>NaN</td>\n",
       "      <td>China</td>\n",
       "    </tr>\n",
       "    <tr>\n",
       "      <th>1</th>\n",
       "      <td>2</td>\n",
       "      <td>A Lamusi</td>\n",
       "      <td>M</td>\n",
       "      <td>23.0</td>\n",
       "      <td>170.0</td>\n",
       "      <td>60.0</td>\n",
       "      <td>China</td>\n",
       "      <td>CHN</td>\n",
       "      <td>2012 Summer</td>\n",
       "      <td>2012</td>\n",
       "      <td>Summer</td>\n",
       "      <td>London</td>\n",
       "      <td>Judo</td>\n",
       "      <td>Judo Men's Extra-Lightweight</td>\n",
       "      <td>NaN</td>\n",
       "      <td>China</td>\n",
       "    </tr>\n",
       "    <tr>\n",
       "      <th>2</th>\n",
       "      <td>3</td>\n",
       "      <td>Gunnar Nielsen Aaby</td>\n",
       "      <td>M</td>\n",
       "      <td>24.0</td>\n",
       "      <td>NaN</td>\n",
       "      <td>NaN</td>\n",
       "      <td>Denmark</td>\n",
       "      <td>DEN</td>\n",
       "      <td>1920 Summer</td>\n",
       "      <td>1920</td>\n",
       "      <td>Summer</td>\n",
       "      <td>Antwerpen</td>\n",
       "      <td>Football</td>\n",
       "      <td>Football Men's Football</td>\n",
       "      <td>NaN</td>\n",
       "      <td>NaN</td>\n",
       "    </tr>\n",
       "    <tr>\n",
       "      <th>3</th>\n",
       "      <td>4</td>\n",
       "      <td>Edgar Lindenau Aabye</td>\n",
       "      <td>M</td>\n",
       "      <td>34.0</td>\n",
       "      <td>NaN</td>\n",
       "      <td>NaN</td>\n",
       "      <td>Denmark/Sweden</td>\n",
       "      <td>DEN</td>\n",
       "      <td>1900 Summer</td>\n",
       "      <td>1900</td>\n",
       "      <td>Summer</td>\n",
       "      <td>Paris</td>\n",
       "      <td>Tug-Of-War</td>\n",
       "      <td>Tug-Of-War Men's Tug-Of-War</td>\n",
       "      <td>Gold</td>\n",
       "      <td>NaN</td>\n",
       "    </tr>\n",
       "    <tr>\n",
       "      <th>4</th>\n",
       "      <td>5</td>\n",
       "      <td>Christine Jacoba Aaftink</td>\n",
       "      <td>F</td>\n",
       "      <td>21.0</td>\n",
       "      <td>185.0</td>\n",
       "      <td>82.0</td>\n",
       "      <td>Netherlands</td>\n",
       "      <td>NED</td>\n",
       "      <td>1988 Winter</td>\n",
       "      <td>1988</td>\n",
       "      <td>Winter</td>\n",
       "      <td>Calgary</td>\n",
       "      <td>Speed Skating</td>\n",
       "      <td>Speed Skating Women's 500 metres</td>\n",
       "      <td>NaN</td>\n",
       "      <td>NaN</td>\n",
       "    </tr>\n",
       "  </tbody>\n",
       "</table>\n",
       "</div>"
      ],
      "text/plain": [
       "   ID                      Name Sex   Age  Height  Weight            Team  \\\n",
       "0   1                 A Dijiang   M  24.0   180.0    80.0           China   \n",
       "1   2                  A Lamusi   M  23.0   170.0    60.0           China   \n",
       "2   3       Gunnar Nielsen Aaby   M  24.0     NaN     NaN         Denmark   \n",
       "3   4      Edgar Lindenau Aabye   M  34.0     NaN     NaN  Denmark/Sweden   \n",
       "4   5  Christine Jacoba Aaftink   F  21.0   185.0    82.0     Netherlands   \n",
       "\n",
       "   NOC        Games  Year  Season       City          Sport  \\\n",
       "0  CHN  1992 Summer  1992  Summer  Barcelona     Basketball   \n",
       "1  CHN  2012 Summer  2012  Summer     London           Judo   \n",
       "2  DEN  1920 Summer  1920  Summer  Antwerpen       Football   \n",
       "3  DEN  1900 Summer  1900  Summer      Paris     Tug-Of-War   \n",
       "4  NED  1988 Winter  1988  Winter    Calgary  Speed Skating   \n",
       "\n",
       "                              Event Medal region  \n",
       "0       Basketball Men's Basketball   NaN  China  \n",
       "1      Judo Men's Extra-Lightweight   NaN  China  \n",
       "2           Football Men's Football   NaN    NaN  \n",
       "3       Tug-Of-War Men's Tug-Of-War  Gold    NaN  \n",
       "4  Speed Skating Women's 500 metres   NaN    NaN  "
      ]
     },
     "execution_count": 26,
     "metadata": {},
     "output_type": "execute_result"
    }
   ],
   "source": [
    "import pandas as pd\n",
    "\n",
    "# Step 1: Load athlete data\n",
    "df = pd.read_csv('athlete_events.csv')\n",
    "\n",
    "# Step 2: Create sample noc_regions dataframe\n",
    "region_df = pd.DataFrame({\n",
    "    'NOC': ['USA', 'IND', 'CHN', 'GBR'],\n",
    "    'region': ['United States', 'India', 'China', 'United Kingdom']\n",
    "})\n",
    "\n",
    "# Step 3: Merge to get the 'region' column\n",
    "df = df.merge(region_df, on='NOC', how='left')\n",
    "\n",
    "# Display first few rows to verify\n",
    "df.head()\n"
   ]
  },
  {
   "cell_type": "code",
   "execution_count": 32,
   "id": "836cb2e7-ae89-45f6-90ec-e586cedfb1b1",
   "metadata": {},
   "outputs": [
    {
     "name": "stdout",
     "output_type": "stream",
     "text": [
      "Medal  NOC  Bronze  Gold  Silver  Total\n",
      "0      USA     792  1131     901   2824\n",
      "1      URS     353   471     373   1197\n",
      "2      GER     341   321     345   1007\n",
      "3      GBR     312   289     321    922\n",
      "4      FRA     334   265     287    886\n",
      "5      ITA     241   256     225    722\n",
      "6      SWE     242   200     215    657\n",
      "7      CHN     172   239     184    595\n",
      "8      RUS     199   202     183    584\n",
      "9      GDR     162   192     165    519\n"
     ]
    }
   ],
   "source": [
    "import pandas as pd\n",
    "\n",
    "df = pd.read_csv('athlete_events.csv')\n",
    "\n",
    "# Remove duplicates for team medals\n",
    "medal_df = df.drop_duplicates(subset=['Team', 'NOC', 'Games', 'Year', 'City', 'Sport', 'Event', 'Medal'])\n",
    "\n",
    "# Remove null medals\n",
    "medal_df = medal_df[medal_df['Medal'].notnull()]\n",
    "\n",
    "# Group by country code (NOC)\n",
    "medal_tally = medal_df.groupby(['NOC', 'Medal']).size().unstack(fill_value=0)\n",
    "\n",
    "medal_tally['Total'] = medal_tally.sum(axis=1)\n",
    "medal_tally = medal_tally.sort_values(by='Total', ascending=False).reset_index()\n",
    "\n",
    "print(medal_tally.head(10))\n"
   ]
  },
  {
   "cell_type": "code",
   "execution_count": 35,
   "id": "659cc5f8-2de6-4366-9404-e77ec5352675",
   "metadata": {},
   "outputs": [
    {
     "name": "stdout",
     "output_type": "stream",
     "text": [
      "Total Countries in Olympics: 205\n",
      "Sample Countries: ['Afghanistan', 'Albania', 'Algeria', 'American Samoa', 'Andorra', 'Angola', 'Antigua', 'Argentina', 'Armenia', 'Aruba']\n"
     ]
    }
   ],
   "source": [
    "import pandas as pd\n",
    "\n",
    "# Load datasets\n",
    "df = pd.read_csv('athlete_events.csv')\n",
    "region_df = pd.read_csv('noc_regions.csv')\n",
    "\n",
    "# Merge on 'NOC' to get region (country) names\n",
    "df = df.merge(region_df, on='NOC', how='left')\n",
    "\n",
    "# Get all unique country names\n",
    "countries = df['region'].dropna().unique().tolist()\n",
    "countries.sort()\n",
    "\n",
    "# Display\n",
    "print(\"Total Countries in Olympics:\", len(countries))\n",
    "print(\"Sample Countries:\", countries[:10])\n"
   ]
  },
  {
   "cell_type": "code",
   "execution_count": 38,
   "id": "8d3f46c0-8bb4-41f2-a048-cc193606e49a",
   "metadata": {},
   "outputs": [
    {
     "name": "stdout",
     "output_type": "stream",
     "text": [
      "Total Countries in Olympics: 205\n",
      "Sample Countries: ['Afghanistan' 'Albania' 'Algeria' 'American Samoa' 'Andorra' 'Angola'\n",
      " 'Antigua' 'Argentina' 'Armenia' 'Aruba']\n"
     ]
    }
   ],
   "source": [
    "import pandas as pd\n",
    "import numpy as np\n",
    "\n",
    "# Load the datasets\n",
    "df = pd.read_csv('athlete_events.csv')\n",
    "region_df = pd.read_csv('noc_regions.csv')\n",
    "\n",
    "# Merge to get full region (country) names\n",
    "df = df.merge(region_df, on='NOC', how='left')\n",
    "\n",
    "# Get unique country names\n",
    "countries = np.unique(df['region'].dropna().values.tolist())\n",
    "\n",
    "# Display\n",
    "print(\"Total Countries in Olympics:\", len(countries))\n",
    "print(\"Sample Countries:\", countries[:10])\n"
   ]
  },
  {
   "cell_type": "code",
   "execution_count": 40,
   "id": "94d86d1b-7b19-4aec-920c-272f8d1408b8",
   "metadata": {},
   "outputs": [],
   "source": [
    "years = df['Year'].unique().tolist()\n"
   ]
  },
  {
   "cell_type": "code",
   "execution_count": 41,
   "id": "f2b809b3-a1d7-4eb9-bd65-9fac62d28dd4",
   "metadata": {},
   "outputs": [],
   "source": [
    "country.sort()"
   ]
  },
  {
   "cell_type": "code",
   "execution_count": 43,
   "id": "5816bccf-27ad-4d1e-a846-7057546dc04b",
   "metadata": {},
   "outputs": [
    {
     "name": "stdout",
     "output_type": "stream",
     "text": [
      "       Country  Number_of_Athletes\n",
      "191        USA                9653\n",
      "67     Germany                7575\n",
      "190         UK                6281\n",
      "63      France                6170\n",
      "151     Russia                5610\n",
      "87       Italy                4935\n",
      "33      Canada                4812\n",
      "90       Japan                4067\n",
      "10   Australia                3870\n",
      "176     Sweden                3787\n"
     ]
    }
   ],
   "source": [
    "import pandas as pd\n",
    "\n",
    "df = pd.read_csv(\"athlete_events.csv\")\n",
    "region_df = pd.read_csv(\"noc_regions.csv\")\n",
    "\n",
    "\n",
    "df = df.merge(region_df, on=\"NOC\", how=\"left\")\n",
    "\n",
    "\n",
    "country_participation = df.groupby('region')['ID'].nunique().reset_index()\n",
    "country_participation.columns = ['Country', 'Number_of_Athletes']\n",
    "\n",
    "\n",
    "country_participation = country_participation.sort_values(by='Number_of_Athletes', ascending=False)\n",
    "\n",
    "\n",
    "print(country_participation.head(10))\n"
   ]
  },
  {
   "cell_type": "code",
   "execution_count": 44,
   "id": "886faffa-626f-4cc1-a1b8-b29cdedc7936",
   "metadata": {},
   "outputs": [],
   "source": [
    "country.insert(0,'overall')"
   ]
  },
  {
   "cell_type": "code",
   "execution_count": 46,
   "id": "74b11d85-d99d-4437-8341-18b124287d71",
   "metadata": {},
   "outputs": [
    {
     "name": "stdout",
     "output_type": "stream",
     "text": [
      "Total countries: 205\n",
      "First 10 countries: ['Afghanistan', 'Albania', 'Algeria', 'American Samoa', 'Andorra', 'Angola', 'Antigua', 'Argentina', 'Armenia', 'Aruba']\n"
     ]
    }
   ],
   "source": [
    "import pandas as pd\n",
    "\n",
    "# Load the data files\n",
    "df = pd.read_csv(\"athlete_events.csv\")\n",
    "noc_df = pd.read_csv(\"noc_regions.csv\")\n",
    "\n",
    "# Merge the two DataFrames on 'NOC' to get the 'region' info\n",
    "df = df.merge(noc_df, on='NOC', how='left')\n",
    "\n",
    "# Drop NaN values in region and get the unique list of countries\n",
    "countries = df['region'].dropna().unique().tolist()\n",
    "\n",
    "# Sort the countries alphabetically\n",
    "countries.sort()\n",
    "\n",
    "# Print the total number and first 10 countries\n",
    "print(\"Total countries:\", len(countries))\n",
    "print(\"First 10 countries:\", countries[:10])\n"
   ]
  },
  {
   "cell_type": "code",
   "execution_count": 49,
   "id": "817927b7-8913-4ede-bea1-60418520aa87",
   "metadata": {},
   "outputs": [],
   "source": [
    "def fetch_medal_tally(df, year, country):\n",
    "    \n",
    "    medal_df = df.drop_duplicates(subset=['Team', 'NOC', 'Games', 'Year', 'City', 'Sport', 'Event', 'Medal'])\n",
    "\n",
    "    if year != 'Overall' and country != 'Overall':\n",
    "        temp_df = medal_df[(medal_df['Year'] == year) & (medal_df['region'] == country)]\n",
    "    elif year == 'Overall' and country != 'Overall':\n",
    "        temp_df = medal_df[medal_df['region'] == country]\n",
    "    elif year != 'Overall' and country == 'Overall':\n",
    "        temp_df = medal_df[medal_df['Year'] == year]\n",
    "    else:\n",
    "        temp_df = medal_df\n",
    "\n",
    "    if country != 'Overall':\n",
    "        tally = temp_df.groupby('Year').agg({'Medal': 'count'}).reset_index()\n",
    "    else:\n",
    "        tally = temp_df.groupby('region')['Medal'].value_counts().unstack(fill_value=0).reset_index()\n",
    "        tally['Total'] = tally.get('Gold', 0) + tally.get('Silver', 0) + tally.get('Bronze', 0)\n",
    "\n",
    "    return tally\n"
   ]
  },
  {
   "cell_type": "code",
   "execution_count": 61,
   "id": "bd181e11-d2ad-4475-9a27-eb4219fde6af",
   "metadata": {},
   "outputs": [
    {
     "name": "stdout",
     "output_type": "stream",
     "text": [
      "Empty DataFrame\n",
      "Columns: [Year, Medal]\n",
      "Index: []\n"
     ]
    }
   ],
   "source": [
    "# Assuming df is already defined\n",
    "result = fetch_medal_tally(df, year='overall', country='India')\n",
    "print(result)\n"
   ]
  },
  {
   "cell_type": "code",
   "execution_count": 62,
   "id": "b0f44581-992f-4fd6-bf5d-0ab582e6d037",
   "metadata": {},
   "outputs": [],
   "source": [
    "medal_df=df.drop_duplicates(subset=['Team', 'NOC', 'Games', 'Year', 'City', 'Sport', 'Event', 'Medal'])"
   ]
  },
  {
   "cell_type": "code",
   "execution_count": 63,
   "id": "30e2dc7c-2f14-4c32-836c-71c20038327d",
   "metadata": {},
   "outputs": [
    {
     "data": {
      "text/html": [
       "<div>\n",
       "<style scoped>\n",
       "    .dataframe tbody tr th:only-of-type {\n",
       "        vertical-align: middle;\n",
       "    }\n",
       "\n",
       "    .dataframe tbody tr th {\n",
       "        vertical-align: top;\n",
       "    }\n",
       "\n",
       "    .dataframe thead th {\n",
       "        text-align: right;\n",
       "    }\n",
       "</style>\n",
       "<table border=\"1\" class=\"dataframe\">\n",
       "  <thead>\n",
       "    <tr style=\"text-align: right;\">\n",
       "      <th></th>\n",
       "      <th>ID</th>\n",
       "      <th>Name</th>\n",
       "      <th>Sex</th>\n",
       "      <th>Age</th>\n",
       "      <th>Height</th>\n",
       "      <th>Weight</th>\n",
       "      <th>Team</th>\n",
       "      <th>NOC</th>\n",
       "      <th>Games</th>\n",
       "      <th>Year</th>\n",
       "      <th>Season</th>\n",
       "      <th>City</th>\n",
       "      <th>Sport</th>\n",
       "      <th>Event</th>\n",
       "      <th>Medal</th>\n",
       "      <th>region</th>\n",
       "      <th>notes</th>\n",
       "    </tr>\n",
       "  </thead>\n",
       "  <tbody>\n",
       "    <tr>\n",
       "      <th>80</th>\n",
       "      <td>22</td>\n",
       "      <td>Andreea Aanei</td>\n",
       "      <td>F</td>\n",
       "      <td>22.0</td>\n",
       "      <td>170.0</td>\n",
       "      <td>125.0</td>\n",
       "      <td>Romania</td>\n",
       "      <td>ROU</td>\n",
       "      <td>2016 Summer</td>\n",
       "      <td>2016</td>\n",
       "      <td>Summer</td>\n",
       "      <td>Rio de Janeiro</td>\n",
       "      <td>Weightlifting</td>\n",
       "      <td>Weightlifting Women's Super-Heavyweight</td>\n",
       "      <td>NaN</td>\n",
       "      <td>Romania</td>\n",
       "      <td>NaN</td>\n",
       "    </tr>\n",
       "    <tr>\n",
       "      <th>139</th>\n",
       "      <td>51</td>\n",
       "      <td>Nstor Abad Sanjun</td>\n",
       "      <td>M</td>\n",
       "      <td>23.0</td>\n",
       "      <td>167.0</td>\n",
       "      <td>64.0</td>\n",
       "      <td>Spain</td>\n",
       "      <td>ESP</td>\n",
       "      <td>2016 Summer</td>\n",
       "      <td>2016</td>\n",
       "      <td>Summer</td>\n",
       "      <td>Rio de Janeiro</td>\n",
       "      <td>Gymnastics</td>\n",
       "      <td>Gymnastics Men's Individual All-Around</td>\n",
       "      <td>NaN</td>\n",
       "      <td>Spain</td>\n",
       "      <td>NaN</td>\n",
       "    </tr>\n",
       "    <tr>\n",
       "      <th>140</th>\n",
       "      <td>51</td>\n",
       "      <td>Nstor Abad Sanjun</td>\n",
       "      <td>M</td>\n",
       "      <td>23.0</td>\n",
       "      <td>167.0</td>\n",
       "      <td>64.0</td>\n",
       "      <td>Spain</td>\n",
       "      <td>ESP</td>\n",
       "      <td>2016 Summer</td>\n",
       "      <td>2016</td>\n",
       "      <td>Summer</td>\n",
       "      <td>Rio de Janeiro</td>\n",
       "      <td>Gymnastics</td>\n",
       "      <td>Gymnastics Men's Floor Exercise</td>\n",
       "      <td>NaN</td>\n",
       "      <td>Spain</td>\n",
       "      <td>NaN</td>\n",
       "    </tr>\n",
       "    <tr>\n",
       "      <th>141</th>\n",
       "      <td>51</td>\n",
       "      <td>Nstor Abad Sanjun</td>\n",
       "      <td>M</td>\n",
       "      <td>23.0</td>\n",
       "      <td>167.0</td>\n",
       "      <td>64.0</td>\n",
       "      <td>Spain</td>\n",
       "      <td>ESP</td>\n",
       "      <td>2016 Summer</td>\n",
       "      <td>2016</td>\n",
       "      <td>Summer</td>\n",
       "      <td>Rio de Janeiro</td>\n",
       "      <td>Gymnastics</td>\n",
       "      <td>Gymnastics Men's Parallel Bars</td>\n",
       "      <td>NaN</td>\n",
       "      <td>Spain</td>\n",
       "      <td>NaN</td>\n",
       "    </tr>\n",
       "    <tr>\n",
       "      <th>142</th>\n",
       "      <td>51</td>\n",
       "      <td>Nstor Abad Sanjun</td>\n",
       "      <td>M</td>\n",
       "      <td>23.0</td>\n",
       "      <td>167.0</td>\n",
       "      <td>64.0</td>\n",
       "      <td>Spain</td>\n",
       "      <td>ESP</td>\n",
       "      <td>2016 Summer</td>\n",
       "      <td>2016</td>\n",
       "      <td>Summer</td>\n",
       "      <td>Rio de Janeiro</td>\n",
       "      <td>Gymnastics</td>\n",
       "      <td>Gymnastics Men's Horizontal Bar</td>\n",
       "      <td>NaN</td>\n",
       "      <td>Spain</td>\n",
       "      <td>NaN</td>\n",
       "    </tr>\n",
       "    <tr>\n",
       "      <th>143</th>\n",
       "      <td>51</td>\n",
       "      <td>Nstor Abad Sanjun</td>\n",
       "      <td>M</td>\n",
       "      <td>23.0</td>\n",
       "      <td>167.0</td>\n",
       "      <td>64.0</td>\n",
       "      <td>Spain</td>\n",
       "      <td>ESP</td>\n",
       "      <td>2016 Summer</td>\n",
       "      <td>2016</td>\n",
       "      <td>Summer</td>\n",
       "      <td>Rio de Janeiro</td>\n",
       "      <td>Gymnastics</td>\n",
       "      <td>Gymnastics Men's Rings</td>\n",
       "      <td>NaN</td>\n",
       "      <td>Spain</td>\n",
       "      <td>NaN</td>\n",
       "    </tr>\n",
       "    <tr>\n",
       "      <th>144</th>\n",
       "      <td>51</td>\n",
       "      <td>Nstor Abad Sanjun</td>\n",
       "      <td>M</td>\n",
       "      <td>23.0</td>\n",
       "      <td>167.0</td>\n",
       "      <td>64.0</td>\n",
       "      <td>Spain</td>\n",
       "      <td>ESP</td>\n",
       "      <td>2016 Summer</td>\n",
       "      <td>2016</td>\n",
       "      <td>Summer</td>\n",
       "      <td>Rio de Janeiro</td>\n",
       "      <td>Gymnastics</td>\n",
       "      <td>Gymnastics Men's Pommelled Horse</td>\n",
       "      <td>NaN</td>\n",
       "      <td>Spain</td>\n",
       "      <td>NaN</td>\n",
       "    </tr>\n",
       "    <tr>\n",
       "      <th>148</th>\n",
       "      <td>55</td>\n",
       "      <td>Antonio Abadia Beci</td>\n",
       "      <td>M</td>\n",
       "      <td>26.0</td>\n",
       "      <td>170.0</td>\n",
       "      <td>65.0</td>\n",
       "      <td>Spain</td>\n",
       "      <td>ESP</td>\n",
       "      <td>2016 Summer</td>\n",
       "      <td>2016</td>\n",
       "      <td>Summer</td>\n",
       "      <td>Rio de Janeiro</td>\n",
       "      <td>Athletics</td>\n",
       "      <td>Athletics Men's 5,000 metres</td>\n",
       "      <td>NaN</td>\n",
       "      <td>Spain</td>\n",
       "      <td>NaN</td>\n",
       "    </tr>\n",
       "    <tr>\n",
       "      <th>158</th>\n",
       "      <td>62</td>\n",
       "      <td>Giovanni Abagnale</td>\n",
       "      <td>M</td>\n",
       "      <td>21.0</td>\n",
       "      <td>198.0</td>\n",
       "      <td>90.0</td>\n",
       "      <td>Italy</td>\n",
       "      <td>ITA</td>\n",
       "      <td>2016 Summer</td>\n",
       "      <td>2016</td>\n",
       "      <td>Summer</td>\n",
       "      <td>Rio de Janeiro</td>\n",
       "      <td>Rowing</td>\n",
       "      <td>Rowing Men's Coxless Pairs</td>\n",
       "      <td>Bronze</td>\n",
       "      <td>Italy</td>\n",
       "      <td>NaN</td>\n",
       "    </tr>\n",
       "    <tr>\n",
       "      <th>161</th>\n",
       "      <td>65</td>\n",
       "      <td>Patimat Abakarova</td>\n",
       "      <td>F</td>\n",
       "      <td>21.0</td>\n",
       "      <td>165.0</td>\n",
       "      <td>49.0</td>\n",
       "      <td>Azerbaijan</td>\n",
       "      <td>AZE</td>\n",
       "      <td>2016 Summer</td>\n",
       "      <td>2016</td>\n",
       "      <td>Summer</td>\n",
       "      <td>Rio de Janeiro</td>\n",
       "      <td>Taekwondo</td>\n",
       "      <td>Taekwondo Women's Flyweight</td>\n",
       "      <td>Bronze</td>\n",
       "      <td>Azerbaijan</td>\n",
       "      <td>NaN</td>\n",
       "    </tr>\n",
       "  </tbody>\n",
       "</table>\n",
       "</div>"
      ],
      "text/plain": [
       "     ID                 Name Sex   Age  Height  Weight        Team  NOC  \\\n",
       "80   22        Andreea Aanei   F  22.0   170.0   125.0     Romania  ROU   \n",
       "139  51    Nstor Abad Sanjun   M  23.0   167.0    64.0       Spain  ESP   \n",
       "140  51    Nstor Abad Sanjun   M  23.0   167.0    64.0       Spain  ESP   \n",
       "141  51    Nstor Abad Sanjun   M  23.0   167.0    64.0       Spain  ESP   \n",
       "142  51    Nstor Abad Sanjun   M  23.0   167.0    64.0       Spain  ESP   \n",
       "143  51    Nstor Abad Sanjun   M  23.0   167.0    64.0       Spain  ESP   \n",
       "144  51    Nstor Abad Sanjun   M  23.0   167.0    64.0       Spain  ESP   \n",
       "148  55  Antonio Abadia Beci   M  26.0   170.0    65.0       Spain  ESP   \n",
       "158  62    Giovanni Abagnale   M  21.0   198.0    90.0       Italy  ITA   \n",
       "161  65    Patimat Abakarova   F  21.0   165.0    49.0  Azerbaijan  AZE   \n",
       "\n",
       "           Games  Year  Season            City          Sport  \\\n",
       "80   2016 Summer  2016  Summer  Rio de Janeiro  Weightlifting   \n",
       "139  2016 Summer  2016  Summer  Rio de Janeiro     Gymnastics   \n",
       "140  2016 Summer  2016  Summer  Rio de Janeiro     Gymnastics   \n",
       "141  2016 Summer  2016  Summer  Rio de Janeiro     Gymnastics   \n",
       "142  2016 Summer  2016  Summer  Rio de Janeiro     Gymnastics   \n",
       "143  2016 Summer  2016  Summer  Rio de Janeiro     Gymnastics   \n",
       "144  2016 Summer  2016  Summer  Rio de Janeiro     Gymnastics   \n",
       "148  2016 Summer  2016  Summer  Rio de Janeiro      Athletics   \n",
       "158  2016 Summer  2016  Summer  Rio de Janeiro         Rowing   \n",
       "161  2016 Summer  2016  Summer  Rio de Janeiro      Taekwondo   \n",
       "\n",
       "                                       Event   Medal      region notes  \n",
       "80   Weightlifting Women's Super-Heavyweight     NaN     Romania   NaN  \n",
       "139   Gymnastics Men's Individual All-Around     NaN       Spain   NaN  \n",
       "140          Gymnastics Men's Floor Exercise     NaN       Spain   NaN  \n",
       "141           Gymnastics Men's Parallel Bars     NaN       Spain   NaN  \n",
       "142          Gymnastics Men's Horizontal Bar     NaN       Spain   NaN  \n",
       "143                   Gymnastics Men's Rings     NaN       Spain   NaN  \n",
       "144         Gymnastics Men's Pommelled Horse     NaN       Spain   NaN  \n",
       "148             Athletics Men's 5,000 metres     NaN       Spain   NaN  \n",
       "158               Rowing Men's Coxless Pairs  Bronze       Italy   NaN  \n",
       "161              Taekwondo Women's Flyweight  Bronze  Azerbaijan   NaN  "
      ]
     },
     "execution_count": 63,
     "metadata": {},
     "output_type": "execute_result"
    }
   ],
   "source": [
    "medal_df[medal_df['Year'] == 2016].head(10)\n"
   ]
  },
  {
   "cell_type": "code",
   "execution_count": 64,
   "id": "2e6ae9ce-7416-4321-9d0c-f75b8877d4c3",
   "metadata": {},
   "outputs": [
    {
     "data": {
      "text/html": [
       "<div>\n",
       "<style scoped>\n",
       "    .dataframe tbody tr th:only-of-type {\n",
       "        vertical-align: middle;\n",
       "    }\n",
       "\n",
       "    .dataframe tbody tr th {\n",
       "        vertical-align: top;\n",
       "    }\n",
       "\n",
       "    .dataframe thead th {\n",
       "        text-align: right;\n",
       "    }\n",
       "</style>\n",
       "<table border=\"1\" class=\"dataframe\">\n",
       "  <thead>\n",
       "    <tr style=\"text-align: right;\">\n",
       "      <th></th>\n",
       "      <th>Name</th>\n",
       "      <th>Team</th>\n",
       "      <th>Sport</th>\n",
       "      <th>Event</th>\n",
       "      <th>Medal</th>\n",
       "    </tr>\n",
       "  </thead>\n",
       "  <tbody>\n",
       "    <tr>\n",
       "      <th>80</th>\n",
       "      <td>Andreea Aanei</td>\n",
       "      <td>Romania</td>\n",
       "      <td>Weightlifting</td>\n",
       "      <td>Weightlifting Women's Super-Heavyweight</td>\n",
       "      <td>NaN</td>\n",
       "    </tr>\n",
       "    <tr>\n",
       "      <th>139</th>\n",
       "      <td>Nstor Abad Sanjun</td>\n",
       "      <td>Spain</td>\n",
       "      <td>Gymnastics</td>\n",
       "      <td>Gymnastics Men's Individual All-Around</td>\n",
       "      <td>NaN</td>\n",
       "    </tr>\n",
       "    <tr>\n",
       "      <th>140</th>\n",
       "      <td>Nstor Abad Sanjun</td>\n",
       "      <td>Spain</td>\n",
       "      <td>Gymnastics</td>\n",
       "      <td>Gymnastics Men's Floor Exercise</td>\n",
       "      <td>NaN</td>\n",
       "    </tr>\n",
       "    <tr>\n",
       "      <th>141</th>\n",
       "      <td>Nstor Abad Sanjun</td>\n",
       "      <td>Spain</td>\n",
       "      <td>Gymnastics</td>\n",
       "      <td>Gymnastics Men's Parallel Bars</td>\n",
       "      <td>NaN</td>\n",
       "    </tr>\n",
       "    <tr>\n",
       "      <th>142</th>\n",
       "      <td>Nstor Abad Sanjun</td>\n",
       "      <td>Spain</td>\n",
       "      <td>Gymnastics</td>\n",
       "      <td>Gymnastics Men's Horizontal Bar</td>\n",
       "      <td>NaN</td>\n",
       "    </tr>\n",
       "    <tr>\n",
       "      <th>143</th>\n",
       "      <td>Nstor Abad Sanjun</td>\n",
       "      <td>Spain</td>\n",
       "      <td>Gymnastics</td>\n",
       "      <td>Gymnastics Men's Rings</td>\n",
       "      <td>NaN</td>\n",
       "    </tr>\n",
       "    <tr>\n",
       "      <th>144</th>\n",
       "      <td>Nstor Abad Sanjun</td>\n",
       "      <td>Spain</td>\n",
       "      <td>Gymnastics</td>\n",
       "      <td>Gymnastics Men's Pommelled Horse</td>\n",
       "      <td>NaN</td>\n",
       "    </tr>\n",
       "    <tr>\n",
       "      <th>148</th>\n",
       "      <td>Antonio Abadia Beci</td>\n",
       "      <td>Spain</td>\n",
       "      <td>Athletics</td>\n",
       "      <td>Athletics Men's 5,000 metres</td>\n",
       "      <td>NaN</td>\n",
       "    </tr>\n",
       "    <tr>\n",
       "      <th>158</th>\n",
       "      <td>Giovanni Abagnale</td>\n",
       "      <td>Italy</td>\n",
       "      <td>Rowing</td>\n",
       "      <td>Rowing Men's Coxless Pairs</td>\n",
       "      <td>Bronze</td>\n",
       "    </tr>\n",
       "    <tr>\n",
       "      <th>161</th>\n",
       "      <td>Patimat Abakarova</td>\n",
       "      <td>Azerbaijan</td>\n",
       "      <td>Taekwondo</td>\n",
       "      <td>Taekwondo Women's Flyweight</td>\n",
       "      <td>Bronze</td>\n",
       "    </tr>\n",
       "  </tbody>\n",
       "</table>\n",
       "</div>"
      ],
      "text/plain": [
       "                    Name        Team          Sport  \\\n",
       "80         Andreea Aanei     Romania  Weightlifting   \n",
       "139    Nstor Abad Sanjun       Spain     Gymnastics   \n",
       "140    Nstor Abad Sanjun       Spain     Gymnastics   \n",
       "141    Nstor Abad Sanjun       Spain     Gymnastics   \n",
       "142    Nstor Abad Sanjun       Spain     Gymnastics   \n",
       "143    Nstor Abad Sanjun       Spain     Gymnastics   \n",
       "144    Nstor Abad Sanjun       Spain     Gymnastics   \n",
       "148  Antonio Abadia Beci       Spain      Athletics   \n",
       "158    Giovanni Abagnale       Italy         Rowing   \n",
       "161    Patimat Abakarova  Azerbaijan      Taekwondo   \n",
       "\n",
       "                                       Event   Medal  \n",
       "80   Weightlifting Women's Super-Heavyweight     NaN  \n",
       "139   Gymnastics Men's Individual All-Around     NaN  \n",
       "140          Gymnastics Men's Floor Exercise     NaN  \n",
       "141           Gymnastics Men's Parallel Bars     NaN  \n",
       "142          Gymnastics Men's Horizontal Bar     NaN  \n",
       "143                   Gymnastics Men's Rings     NaN  \n",
       "144         Gymnastics Men's Pommelled Horse     NaN  \n",
       "148             Athletics Men's 5,000 metres     NaN  \n",
       "158               Rowing Men's Coxless Pairs  Bronze  \n",
       "161              Taekwondo Women's Flyweight  Bronze  "
      ]
     },
     "execution_count": 64,
     "metadata": {},
     "output_type": "execute_result"
    }
   ],
   "source": [
    "medal_df[medal_df['Year'] == 2016][['Name', 'Team', 'Sport', 'Event', 'Medal']].head(10)\n"
   ]
  },
  {
   "cell_type": "code",
   "execution_count": 65,
   "id": "68059a54-950e-4c32-bbf0-f7413788f4e3",
   "metadata": {},
   "outputs": [
    {
     "data": {
      "text/html": [
       "<div>\n",
       "<style scoped>\n",
       "    .dataframe tbody tr th:only-of-type {\n",
       "        vertical-align: middle;\n",
       "    }\n",
       "\n",
       "    .dataframe tbody tr th {\n",
       "        vertical-align: top;\n",
       "    }\n",
       "\n",
       "    .dataframe thead th {\n",
       "        text-align: right;\n",
       "    }\n",
       "</style>\n",
       "<table border=\"1\" class=\"dataframe\">\n",
       "  <thead>\n",
       "    <tr style=\"text-align: right;\">\n",
       "      <th></th>\n",
       "      <th>ID</th>\n",
       "      <th>Name</th>\n",
       "      <th>Sex</th>\n",
       "      <th>Age</th>\n",
       "      <th>Height</th>\n",
       "      <th>Weight</th>\n",
       "      <th>Team</th>\n",
       "      <th>NOC</th>\n",
       "      <th>Games</th>\n",
       "      <th>Year</th>\n",
       "      <th>Season</th>\n",
       "      <th>City</th>\n",
       "      <th>Sport</th>\n",
       "      <th>Event</th>\n",
       "      <th>Medal</th>\n",
       "      <th>region</th>\n",
       "      <th>notes</th>\n",
       "    </tr>\n",
       "  </thead>\n",
       "  <tbody>\n",
       "    <tr>\n",
       "      <th>0</th>\n",
       "      <td>1</td>\n",
       "      <td>A Dijiang</td>\n",
       "      <td>M</td>\n",
       "      <td>24.0</td>\n",
       "      <td>180.0</td>\n",
       "      <td>80.0</td>\n",
       "      <td>China</td>\n",
       "      <td>CHN</td>\n",
       "      <td>1992 Summer</td>\n",
       "      <td>1992</td>\n",
       "      <td>Summer</td>\n",
       "      <td>Barcelona</td>\n",
       "      <td>Basketball</td>\n",
       "      <td>Basketball Men's Basketball</td>\n",
       "      <td>NaN</td>\n",
       "      <td>China</td>\n",
       "      <td>NaN</td>\n",
       "    </tr>\n",
       "    <tr>\n",
       "      <th>1</th>\n",
       "      <td>2</td>\n",
       "      <td>A Lamusi</td>\n",
       "      <td>M</td>\n",
       "      <td>23.0</td>\n",
       "      <td>170.0</td>\n",
       "      <td>60.0</td>\n",
       "      <td>China</td>\n",
       "      <td>CHN</td>\n",
       "      <td>2012 Summer</td>\n",
       "      <td>2012</td>\n",
       "      <td>Summer</td>\n",
       "      <td>London</td>\n",
       "      <td>Judo</td>\n",
       "      <td>Judo Men's Extra-Lightweight</td>\n",
       "      <td>NaN</td>\n",
       "      <td>China</td>\n",
       "      <td>NaN</td>\n",
       "    </tr>\n",
       "    <tr>\n",
       "      <th>2</th>\n",
       "      <td>3</td>\n",
       "      <td>Gunnar Nielsen Aaby</td>\n",
       "      <td>M</td>\n",
       "      <td>24.0</td>\n",
       "      <td>NaN</td>\n",
       "      <td>NaN</td>\n",
       "      <td>Denmark</td>\n",
       "      <td>DEN</td>\n",
       "      <td>1920 Summer</td>\n",
       "      <td>1920</td>\n",
       "      <td>Summer</td>\n",
       "      <td>Antwerpen</td>\n",
       "      <td>Football</td>\n",
       "      <td>Football Men's Football</td>\n",
       "      <td>NaN</td>\n",
       "      <td>Denmark</td>\n",
       "      <td>NaN</td>\n",
       "    </tr>\n",
       "    <tr>\n",
       "      <th>3</th>\n",
       "      <td>4</td>\n",
       "      <td>Edgar Lindenau Aabye</td>\n",
       "      <td>M</td>\n",
       "      <td>34.0</td>\n",
       "      <td>NaN</td>\n",
       "      <td>NaN</td>\n",
       "      <td>Denmark/Sweden</td>\n",
       "      <td>DEN</td>\n",
       "      <td>1900 Summer</td>\n",
       "      <td>1900</td>\n",
       "      <td>Summer</td>\n",
       "      <td>Paris</td>\n",
       "      <td>Tug-Of-War</td>\n",
       "      <td>Tug-Of-War Men's Tug-Of-War</td>\n",
       "      <td>Gold</td>\n",
       "      <td>Denmark</td>\n",
       "      <td>NaN</td>\n",
       "    </tr>\n",
       "    <tr>\n",
       "      <th>4</th>\n",
       "      <td>5</td>\n",
       "      <td>Christine Jacoba Aaftink</td>\n",
       "      <td>F</td>\n",
       "      <td>21.0</td>\n",
       "      <td>185.0</td>\n",
       "      <td>82.0</td>\n",
       "      <td>Netherlands</td>\n",
       "      <td>NED</td>\n",
       "      <td>1988 Winter</td>\n",
       "      <td>1988</td>\n",
       "      <td>Winter</td>\n",
       "      <td>Calgary</td>\n",
       "      <td>Speed Skating</td>\n",
       "      <td>Speed Skating Women's 500 metres</td>\n",
       "      <td>NaN</td>\n",
       "      <td>Netherlands</td>\n",
       "      <td>NaN</td>\n",
       "    </tr>\n",
       "    <tr>\n",
       "      <th>...</th>\n",
       "      <td>...</td>\n",
       "      <td>...</td>\n",
       "      <td>...</td>\n",
       "      <td>...</td>\n",
       "      <td>...</td>\n",
       "      <td>...</td>\n",
       "      <td>...</td>\n",
       "      <td>...</td>\n",
       "      <td>...</td>\n",
       "      <td>...</td>\n",
       "      <td>...</td>\n",
       "      <td>...</td>\n",
       "      <td>...</td>\n",
       "      <td>...</td>\n",
       "      <td>...</td>\n",
       "      <td>...</td>\n",
       "      <td>...</td>\n",
       "    </tr>\n",
       "    <tr>\n",
       "      <th>271095</th>\n",
       "      <td>135559</td>\n",
       "      <td>Pawe Jan Zygmunt</td>\n",
       "      <td>M</td>\n",
       "      <td>25.0</td>\n",
       "      <td>182.0</td>\n",
       "      <td>79.0</td>\n",
       "      <td>Poland</td>\n",
       "      <td>POL</td>\n",
       "      <td>1998 Winter</td>\n",
       "      <td>1998</td>\n",
       "      <td>Winter</td>\n",
       "      <td>Nagano</td>\n",
       "      <td>Speed Skating</td>\n",
       "      <td>Speed Skating Men's 5,000 metres</td>\n",
       "      <td>NaN</td>\n",
       "      <td>Poland</td>\n",
       "      <td>NaN</td>\n",
       "    </tr>\n",
       "    <tr>\n",
       "      <th>271096</th>\n",
       "      <td>135559</td>\n",
       "      <td>Pawe Jan Zygmunt</td>\n",
       "      <td>M</td>\n",
       "      <td>29.0</td>\n",
       "      <td>182.0</td>\n",
       "      <td>79.0</td>\n",
       "      <td>Poland</td>\n",
       "      <td>POL</td>\n",
       "      <td>2002 Winter</td>\n",
       "      <td>2002</td>\n",
       "      <td>Winter</td>\n",
       "      <td>Salt Lake City</td>\n",
       "      <td>Speed Skating</td>\n",
       "      <td>Speed Skating Men's 5,000 metres</td>\n",
       "      <td>NaN</td>\n",
       "      <td>Poland</td>\n",
       "      <td>NaN</td>\n",
       "    </tr>\n",
       "    <tr>\n",
       "      <th>271097</th>\n",
       "      <td>135559</td>\n",
       "      <td>Pawe Jan Zygmunt</td>\n",
       "      <td>M</td>\n",
       "      <td>29.0</td>\n",
       "      <td>182.0</td>\n",
       "      <td>79.0</td>\n",
       "      <td>Poland</td>\n",
       "      <td>POL</td>\n",
       "      <td>2002 Winter</td>\n",
       "      <td>2002</td>\n",
       "      <td>Winter</td>\n",
       "      <td>Salt Lake City</td>\n",
       "      <td>Speed Skating</td>\n",
       "      <td>Speed Skating Men's 10,000 metres</td>\n",
       "      <td>NaN</td>\n",
       "      <td>Poland</td>\n",
       "      <td>NaN</td>\n",
       "    </tr>\n",
       "    <tr>\n",
       "      <th>271098</th>\n",
       "      <td>135559</td>\n",
       "      <td>Pawe Jan Zygmunt</td>\n",
       "      <td>M</td>\n",
       "      <td>33.0</td>\n",
       "      <td>182.0</td>\n",
       "      <td>79.0</td>\n",
       "      <td>Poland</td>\n",
       "      <td>POL</td>\n",
       "      <td>2006 Winter</td>\n",
       "      <td>2006</td>\n",
       "      <td>Winter</td>\n",
       "      <td>Torino</td>\n",
       "      <td>Speed Skating</td>\n",
       "      <td>Speed Skating Men's 5,000 metres</td>\n",
       "      <td>NaN</td>\n",
       "      <td>Poland</td>\n",
       "      <td>NaN</td>\n",
       "    </tr>\n",
       "    <tr>\n",
       "      <th>271099</th>\n",
       "      <td>135560</td>\n",
       "      <td>Stavroula Zygouri</td>\n",
       "      <td>F</td>\n",
       "      <td>36.0</td>\n",
       "      <td>171.0</td>\n",
       "      <td>63.0</td>\n",
       "      <td>Greece</td>\n",
       "      <td>GRE</td>\n",
       "      <td>2004 Summer</td>\n",
       "      <td>2004</td>\n",
       "      <td>Summer</td>\n",
       "      <td>Athina</td>\n",
       "      <td>Wrestling</td>\n",
       "      <td>Wrestling Women's Middleweight, Freestyle</td>\n",
       "      <td>NaN</td>\n",
       "      <td>Greece</td>\n",
       "      <td>NaN</td>\n",
       "    </tr>\n",
       "  </tbody>\n",
       "</table>\n",
       "<p>124634 rows × 17 columns</p>\n",
       "</div>"
      ],
      "text/plain": [
       "            ID                      Name Sex   Age  Height  Weight  \\\n",
       "0            1                 A Dijiang   M  24.0   180.0    80.0   \n",
       "1            2                  A Lamusi   M  23.0   170.0    60.0   \n",
       "2            3       Gunnar Nielsen Aaby   M  24.0     NaN     NaN   \n",
       "3            4      Edgar Lindenau Aabye   M  34.0     NaN     NaN   \n",
       "4            5  Christine Jacoba Aaftink   F  21.0   185.0    82.0   \n",
       "...        ...                       ...  ..   ...     ...     ...   \n",
       "271095  135559          Pawe Jan Zygmunt   M  25.0   182.0    79.0   \n",
       "271096  135559          Pawe Jan Zygmunt   M  29.0   182.0    79.0   \n",
       "271097  135559          Pawe Jan Zygmunt   M  29.0   182.0    79.0   \n",
       "271098  135559          Pawe Jan Zygmunt   M  33.0   182.0    79.0   \n",
       "271099  135560         Stavroula Zygouri   F  36.0   171.0    63.0   \n",
       "\n",
       "                  Team  NOC        Games  Year  Season            City  \\\n",
       "0                China  CHN  1992 Summer  1992  Summer       Barcelona   \n",
       "1                China  CHN  2012 Summer  2012  Summer          London   \n",
       "2              Denmark  DEN  1920 Summer  1920  Summer       Antwerpen   \n",
       "3       Denmark/Sweden  DEN  1900 Summer  1900  Summer           Paris   \n",
       "4          Netherlands  NED  1988 Winter  1988  Winter         Calgary   \n",
       "...                ...  ...          ...   ...     ...             ...   \n",
       "271095          Poland  POL  1998 Winter  1998  Winter          Nagano   \n",
       "271096          Poland  POL  2002 Winter  2002  Winter  Salt Lake City   \n",
       "271097          Poland  POL  2002 Winter  2002  Winter  Salt Lake City   \n",
       "271098          Poland  POL  2006 Winter  2006  Winter          Torino   \n",
       "271099          Greece  GRE  2004 Summer  2004  Summer          Athina   \n",
       "\n",
       "                Sport                                      Event Medal  \\\n",
       "0          Basketball                Basketball Men's Basketball   NaN   \n",
       "1                Judo               Judo Men's Extra-Lightweight   NaN   \n",
       "2            Football                    Football Men's Football   NaN   \n",
       "3          Tug-Of-War                Tug-Of-War Men's Tug-Of-War  Gold   \n",
       "4       Speed Skating           Speed Skating Women's 500 metres   NaN   \n",
       "...               ...                                        ...   ...   \n",
       "271095  Speed Skating           Speed Skating Men's 5,000 metres   NaN   \n",
       "271096  Speed Skating           Speed Skating Men's 5,000 metres   NaN   \n",
       "271097  Speed Skating          Speed Skating Men's 10,000 metres   NaN   \n",
       "271098  Speed Skating           Speed Skating Men's 5,000 metres   NaN   \n",
       "271099      Wrestling  Wrestling Women's Middleweight, Freestyle   NaN   \n",
       "\n",
       "             region notes  \n",
       "0             China   NaN  \n",
       "1             China   NaN  \n",
       "2           Denmark   NaN  \n",
       "3           Denmark   NaN  \n",
       "4       Netherlands   NaN  \n",
       "...             ...   ...  \n",
       "271095       Poland   NaN  \n",
       "271096       Poland   NaN  \n",
       "271097       Poland   NaN  \n",
       "271098       Poland   NaN  \n",
       "271099       Greece   NaN  \n",
       "\n",
       "[124634 rows x 17 columns]"
      ]
     },
     "execution_count": 65,
     "metadata": {},
     "output_type": "execute_result"
    }
   ],
   "source": [
    "medal_df"
   ]
  },
  {
   "cell_type": "code",
   "execution_count": 66,
   "id": "202461dd-325e-4bf0-88a9-5bda8eee2de8",
   "metadata": {},
   "outputs": [
    {
     "name": "stdout",
     "output_type": "stream",
     "text": [
      "                                 Name        Team       Sport  \\\n",
      "158                 Giovanni Abagnale       Italy      Rowing   \n",
      "161                 Patimat Abakarova  Azerbaijan   Taekwondo   \n",
      "175                         Luc Abalo      France    Handball   \n",
      "450              Saeid Morad Abdevali        Iran   Wrestling   \n",
      "794       Denis Mikhaylovich Ablyazin      Russia  Gymnastics   \n",
      "796       Denis Mikhaylovich Ablyazin      Russia  Gymnastics   \n",
      "797       Denis Mikhaylovich Ablyazin      Russia  Gymnastics   \n",
      "814              Matthew \"Matt\" Abood   Australia    Swimming   \n",
      "1029  Alejandro \"lex\" Abrines Redondo       Spain  Basketball   \n",
      "1080                  Ahmad Abughaush      Jordan   Taekwondo   \n",
      "\n",
      "                                              Event   Medal  \n",
      "158                      Rowing Men's Coxless Pairs  Bronze  \n",
      "161                     Taekwondo Women's Flyweight  Bronze  \n",
      "175                         Handball Men's Handball  Silver  \n",
      "450       Wrestling Men's Middleweight, Greco-Roman  Bronze  \n",
      "794                Gymnastics Men's Team All-Around  Silver  \n",
      "796                    Gymnastics Men's Horse Vault  Silver  \n",
      "797                          Gymnastics Men's Rings  Bronze  \n",
      "814   Swimming Men's 4 x 100 metres Freestyle Relay  Bronze  \n",
      "1029                    Basketball Men's Basketball  Bronze  \n",
      "1080                  Taekwondo Men's Featherweight    Gold  \n"
     ]
    }
   ],
   "source": [
    "import pandas as pd\n",
    "import numpy as np\n",
    "\n",
    "# Load CSV files\n",
    "athlete_df = pd.read_csv('athlete_events.csv')\n",
    "region_df = pd.read_csv('noc_regions.csv')\n",
    "\n",
    "# Merge region info\n",
    "df = athlete_df.merge(region_df, on='NOC', how='left')\n",
    "\n",
    "# Drop duplicate medals\n",
    "df.drop_duplicates(subset=['Team','NOC','Year','Season','Games','City','Sport','Event','Medal'], inplace=True)\n",
    "\n",
    "# Create medal-specific DataFrame\n",
    "medal_df = df[df['Medal'].notnull()]\n",
    "\n",
    "# 🔍 View top 10 medal winners from 2016\n",
    "medal_2016 = medal_df[medal_df['Year'] == 2016][['Name', 'Team', 'Sport', 'Event', 'Medal']].head(10)\n",
    "print(medal_2016)\n"
   ]
  },
  {
   "cell_type": "code",
   "execution_count": null,
   "id": "adb47076-f593-4969-94bf-746c9d2efd20",
   "metadata": {},
   "outputs": [],
   "source": [
    "medal_tally = medal_df.groupby('region')['Medal'].count().sort_values(ascending=False).reset_index()\n",
    "medal_tally.columns = ['Country', 'Total Medals']\n",
    "print(medal_tally.head(10))\n"
   ]
  },
  {
   "cell_type": "code",
   "execution_count": null,
   "id": "12664790-fc01-4e78-b89e-420839173a85",
   "metadata": {},
   "outputs": [],
   "source": [
    "medal_tally = medal_df.groupby('region')['Medal'].count().sort_values(ascending=False).reset_index()\n",
    "medal_tally.columns = ['Country', 'Total Medals']\n",
    "print(medal_tally.head(10))\n"
   ]
  },
  {
   "cell_type": "code",
   "execution_count": null,
   "id": "95e57bda-ef41-487b-af7b-70462f43ac27",
   "metadata": {},
   "outputs": [],
   "source": [
    "participation = df.drop_duplicates(subset=['Year', 'region'])[['Year', 'region']].groupby('Year').count()\n",
    "participation.columns = ['No. of Participating Countries']\n",
    "participation.plot(kind='line', title='Countries Participating Over the Years')\n"
   ]
  },
  {
   "cell_type": "code",
   "execution_count": null,
   "id": "fda07670-45c4-4427-bc9f-9d47d272ceb5",
   "metadata": {},
   "outputs": [],
   "source": [
    "gender_participation = df.drop_duplicates(subset=['Year', 'ID'])[['Year', 'Sex']].groupby(['Year', 'Sex']).size().unstack()\n",
    "gender_participation.plot(kind='line', title='Gender Participation Over the Years')\n"
   ]
  },
  {
   "cell_type": "code",
   "execution_count": null,
   "id": "98aaf40a-0aec-4eea-85c6-23c7d4ee5c39",
   "metadata": {},
   "outputs": [],
   "source": [
    "top_athletes = medal_df['Name'].value_counts().head(10)\n",
    "print(top_athletes)\n"
   ]
  },
  {
   "cell_type": "code",
   "execution_count": null,
   "id": "2060c400-ec80-4ee5-bf39-f94e3f63c0c7",
   "metadata": {},
   "outputs": [],
   "source": [
    "def fetch_medal_tally(df, year, country):\n",
    "    temp_df = df.copy()\n",
    "    if year != \"Overall\":\n",
    "        temp_df = temp_df[temp_df[\"Year\"] == int(year)]\n",
    "    if country != \"Overall\":\n",
    "        temp_df = temp_df[temp_df[\"region\"] == country]\n",
    "\n",
    "    medal_tally = temp_df.groupby('region')['Medal'].count().reset_index().sort_values(by='Medal', ascending=False)\n",
    "    return medal_tally\n"
   ]
  },
  {
   "cell_type": "code",
   "execution_count": 75,
   "id": "5d3f205d-871f-4086-a799-520ceafad5bd",
   "metadata": {},
   "outputs": [
    {
     "data": {
      "text/plain": [
       "(35,)"
      ]
     },
     "execution_count": 75,
     "metadata": {},
     "output_type": "execute_result"
    }
   ],
   "source": [
    "df['Year'].unique().shape"
   ]
  },
  {
   "cell_type": "code",
   "execution_count": 76,
   "id": "f19241dd-4e5a-4124-b5d0-e117814c64f4",
   "metadata": {},
   "outputs": [
    {
     "data": {
      "text/html": [
       "<div>\n",
       "<style scoped>\n",
       "    .dataframe tbody tr th:only-of-type {\n",
       "        vertical-align: middle;\n",
       "    }\n",
       "\n",
       "    .dataframe tbody tr th {\n",
       "        vertical-align: top;\n",
       "    }\n",
       "\n",
       "    .dataframe thead th {\n",
       "        text-align: right;\n",
       "    }\n",
       "</style>\n",
       "<table border=\"1\" class=\"dataframe\">\n",
       "  <thead>\n",
       "    <tr style=\"text-align: right;\">\n",
       "      <th></th>\n",
       "      <th>ID</th>\n",
       "      <th>Name</th>\n",
       "      <th>Sex</th>\n",
       "      <th>Age</th>\n",
       "      <th>Height</th>\n",
       "      <th>Weight</th>\n",
       "      <th>Team</th>\n",
       "      <th>NOC</th>\n",
       "      <th>Games</th>\n",
       "      <th>Year</th>\n",
       "      <th>Season</th>\n",
       "      <th>City</th>\n",
       "      <th>Sport</th>\n",
       "      <th>Event</th>\n",
       "      <th>Medal</th>\n",
       "      <th>region</th>\n",
       "      <th>notes</th>\n",
       "    </tr>\n",
       "  </thead>\n",
       "  <tbody>\n",
       "    <tr>\n",
       "      <th>147624</th>\n",
       "      <td>74069</td>\n",
       "      <td>Sakshi Malik</td>\n",
       "      <td>F</td>\n",
       "      <td>23.0</td>\n",
       "      <td>162.0</td>\n",
       "      <td>58.0</td>\n",
       "      <td>India</td>\n",
       "      <td>IND</td>\n",
       "      <td>2016 Summer</td>\n",
       "      <td>2016</td>\n",
       "      <td>Summer</td>\n",
       "      <td>Rio de Janeiro</td>\n",
       "      <td>Wrestling</td>\n",
       "      <td>Wrestling Women's Lightweight, Freestyle</td>\n",
       "      <td>Bronze</td>\n",
       "      <td>India</td>\n",
       "      <td>NaN</td>\n",
       "    </tr>\n",
       "    <tr>\n",
       "      <th>220929</th>\n",
       "      <td>110974</td>\n",
       "      <td>Pusarla Venkata \"P. V.\" Sindhu</td>\n",
       "      <td>F</td>\n",
       "      <td>21.0</td>\n",
       "      <td>179.0</td>\n",
       "      <td>65.0</td>\n",
       "      <td>India</td>\n",
       "      <td>IND</td>\n",
       "      <td>2016 Summer</td>\n",
       "      <td>2016</td>\n",
       "      <td>Summer</td>\n",
       "      <td>Rio de Janeiro</td>\n",
       "      <td>Badminton</td>\n",
       "      <td>Badminton Women's Singles</td>\n",
       "      <td>Silver</td>\n",
       "      <td>India</td>\n",
       "      <td>NaN</td>\n",
       "    </tr>\n",
       "  </tbody>\n",
       "</table>\n",
       "</div>"
      ],
      "text/plain": [
       "            ID                            Name Sex   Age  Height  Weight  \\\n",
       "147624   74069                    Sakshi Malik   F  23.0   162.0    58.0   \n",
       "220929  110974  Pusarla Venkata \"P. V.\" Sindhu   F  21.0   179.0    65.0   \n",
       "\n",
       "         Team  NOC        Games  Year  Season            City      Sport  \\\n",
       "147624  India  IND  2016 Summer  2016  Summer  Rio de Janeiro  Wrestling   \n",
       "220929  India  IND  2016 Summer  2016  Summer  Rio de Janeiro  Badminton   \n",
       "\n",
       "                                           Event   Medal region notes  \n",
       "147624  Wrestling Women's Lightweight, Freestyle  Bronze  India   NaN  \n",
       "220929                 Badminton Women's Singles  Silver  India   NaN  "
      ]
     },
     "execution_count": 76,
     "metadata": {},
     "output_type": "execute_result"
    }
   ],
   "source": [
    "medal_df[(medal_df['Year']==2016) & (medal_df['region']=='India')]"
   ]
  },
  {
   "cell_type": "code",
   "execution_count": 80,
   "id": "3638c9c4-2ff8-4e8c-83c1-1ab4bdda7f25",
   "metadata": {},
   "outputs": [],
   "source": [
    "df = pd.read_csv(\"athlete_events.csv\")\n",
    "region_df = pd.read_csv(\"noc_regions.csv\")\n",
    "\n",
    "\n",
    "df = df.merge(region_df, on=\"NOC\", how=\"left\")\n"
   ]
  },
  {
   "cell_type": "code",
   "execution_count": 3,
   "id": "590f07b4-3d48-401d-b500-a21a172d9b17",
   "metadata": {},
   "outputs": [
    {
     "name": "stdout",
     "output_type": "stream",
     "text": [
      "Collecting pandas\n",
      "  Downloading pandas-2.3.1-cp312-cp312-win_amd64.whl.metadata (19 kB)\n",
      "Requirement already satisfied: numpy>=1.26.0 in c:\\users\\dolly rathore\\miniconda3\\lib\\site-packages (from pandas) (1.26.4)\n",
      "Requirement already satisfied: python-dateutil>=2.8.2 in c:\\users\\dolly rathore\\miniconda3\\lib\\site-packages (from pandas) (2.9.0.post0)\n",
      "Collecting pytz>=2020.1 (from pandas)\n",
      "  Using cached pytz-2025.2-py2.py3-none-any.whl.metadata (22 kB)\n",
      "Collecting tzdata>=2022.7 (from pandas)\n",
      "  Using cached tzdata-2025.2-py2.py3-none-any.whl.metadata (1.4 kB)\n",
      "Requirement already satisfied: six>=1.5 in c:\\users\\dolly rathore\\miniconda3\\lib\\site-packages (from python-dateutil>=2.8.2->pandas) (1.17.0)\n",
      "Downloading pandas-2.3.1-cp312-cp312-win_amd64.whl (11.0 MB)\n",
      "   ---------------------------------------- 0.0/11.0 MB ? eta -:--:--\n",
      "   ---------------------------------------- 0.0/11.0 MB ? eta -:--:--\n",
      "   ---------------------------------------- 0.0/11.0 MB ? eta -:--:--\n",
      "    --------------------------------------- 0.3/11.0 MB ? eta -:--:--\n",
      "    --------------------------------------- 0.3/11.0 MB ? eta -:--:--\n",
      "   - -------------------------------------- 0.5/11.0 MB 929.6 kB/s eta 0:00:12\n",
      "   -- ------------------------------------- 0.8/11.0 MB 1.0 MB/s eta 0:00:10\n",
      "   -- ------------------------------------- 0.8/11.0 MB 1.0 MB/s eta 0:00:10\n",
      "   -- ------------------------------------- 0.8/11.0 MB 1.0 MB/s eta 0:00:10\n",
      "   --- ------------------------------------ 1.0/11.0 MB 699.0 kB/s eta 0:00:15\n",
      "   ---- ----------------------------------- 1.3/11.0 MB 699.0 kB/s eta 0:00:14\n",
      "   ---- ----------------------------------- 1.3/11.0 MB 699.0 kB/s eta 0:00:14\n",
      "   ----- ---------------------------------- 1.6/11.0 MB 699.0 kB/s eta 0:00:14\n",
      "   ----- ---------------------------------- 1.6/11.0 MB 699.0 kB/s eta 0:00:14\n",
      "   ------ --------------------------------- 1.8/11.0 MB 718.9 kB/s eta 0:00:13\n",
      "   ------- -------------------------------- 2.1/11.0 MB 729.3 kB/s eta 0:00:13\n",
      "   ------- -------------------------------- 2.1/11.0 MB 729.3 kB/s eta 0:00:13\n",
      "   ------- -------------------------------- 2.1/11.0 MB 729.3 kB/s eta 0:00:13\n",
      "   -------- ------------------------------- 2.4/11.0 MB 691.7 kB/s eta 0:00:13\n",
      "   -------- ------------------------------- 2.4/11.0 MB 691.7 kB/s eta 0:00:13\n",
      "   --------- ------------------------------ 2.6/11.0 MB 680.1 kB/s eta 0:00:13\n",
      "   --------- ------------------------------ 2.6/11.0 MB 680.1 kB/s eta 0:00:13\n",
      "   ---------- ----------------------------- 2.9/11.0 MB 655.4 kB/s eta 0:00:13\n",
      "   ---------- ----------------------------- 2.9/11.0 MB 655.4 kB/s eta 0:00:13\n",
      "   ----------- ---------------------------- 3.1/11.0 MB 640.8 kB/s eta 0:00:13\n",
      "   ----------- ---------------------------- 3.1/11.0 MB 640.8 kB/s eta 0:00:13\n",
      "   ------------ --------------------------- 3.4/11.0 MB 641.1 kB/s eta 0:00:12\n",
      "   ------------ --------------------------- 3.4/11.0 MB 641.1 kB/s eta 0:00:12\n",
      "   ------------ --------------------------- 3.4/11.0 MB 641.1 kB/s eta 0:00:12\n",
      "   ------------ --------------------------- 3.4/11.0 MB 641.1 kB/s eta 0:00:12\n",
      "   ------------- -------------------------- 3.7/11.0 MB 595.9 kB/s eta 0:00:13\n",
      "   ------------- -------------------------- 3.7/11.0 MB 595.9 kB/s eta 0:00:13\n",
      "   -------------- ------------------------- 3.9/11.0 MB 603.8 kB/s eta 0:00:12\n",
      "   -------------- ------------------------- 3.9/11.0 MB 603.8 kB/s eta 0:00:12\n",
      "   --------------- ------------------------ 4.2/11.0 MB 603.5 kB/s eta 0:00:12\n",
      "   --------------- ------------------------ 4.2/11.0 MB 603.5 kB/s eta 0:00:12\n",
      "   --------------- ------------------------ 4.2/11.0 MB 603.5 kB/s eta 0:00:12\n",
      "   --------------- ------------------------ 4.2/11.0 MB 603.5 kB/s eta 0:00:12\n",
      "   ---------------- ----------------------- 4.5/11.0 MB 571.1 kB/s eta 0:00:12\n",
      "   ---------------- ----------------------- 4.5/11.0 MB 571.1 kB/s eta 0:00:12\n",
      "   ---------------- ----------------------- 4.5/11.0 MB 571.1 kB/s eta 0:00:12\n",
      "   ---------------- ----------------------- 4.5/11.0 MB 571.1 kB/s eta 0:00:12\n",
      "   ---------------- ----------------------- 4.5/11.0 MB 571.1 kB/s eta 0:00:12\n",
      "   ----------------- ---------------------- 4.7/11.0 MB 525.2 kB/s eta 0:00:12\n",
      "   ----------------- ---------------------- 4.7/11.0 MB 525.2 kB/s eta 0:00:12\n",
      "   ----------------- ---------------------- 4.7/11.0 MB 525.2 kB/s eta 0:00:12\n",
      "   ------------------ --------------------- 5.0/11.0 MB 515.3 kB/s eta 0:00:12\n",
      "   ------------------ --------------------- 5.0/11.0 MB 515.3 kB/s eta 0:00:12\n",
      "   ------------------ --------------------- 5.0/11.0 MB 515.3 kB/s eta 0:00:12\n",
      "   ------------------ --------------------- 5.0/11.0 MB 515.3 kB/s eta 0:00:12\n",
      "   ------------------ --------------------- 5.0/11.0 MB 515.3 kB/s eta 0:00:12\n",
      "   ------------------- -------------------- 5.2/11.0 MB 488.9 kB/s eta 0:00:12\n",
      "   ------------------- -------------------- 5.2/11.0 MB 488.9 kB/s eta 0:00:12\n",
      "   ------------------- -------------------- 5.2/11.0 MB 488.9 kB/s eta 0:00:12\n",
      "   ------------------- -------------------- 5.2/11.0 MB 488.9 kB/s eta 0:00:12\n",
      "   ------------------- -------------------- 5.2/11.0 MB 488.9 kB/s eta 0:00:12\n",
      "   -------------------- ------------------- 5.5/11.0 MB 465.4 kB/s eta 0:00:12\n",
      "   -------------------- ------------------- 5.5/11.0 MB 465.4 kB/s eta 0:00:12\n",
      "   -------------------- ------------------- 5.5/11.0 MB 465.4 kB/s eta 0:00:12\n",
      "   -------------------- ------------------- 5.5/11.0 MB 465.4 kB/s eta 0:00:12\n",
      "   -------------------- ------------------- 5.5/11.0 MB 465.4 kB/s eta 0:00:12\n",
      "   -------------------- ------------------- 5.5/11.0 MB 465.4 kB/s eta 0:00:12\n",
      "   -------------------- ------------------- 5.8/11.0 MB 438.2 kB/s eta 0:00:12\n",
      "   -------------------- ------------------- 5.8/11.0 MB 438.2 kB/s eta 0:00:12\n",
      "   -------------------- ------------------- 5.8/11.0 MB 438.2 kB/s eta 0:00:12\n",
      "   -------------------- ------------------- 5.8/11.0 MB 438.2 kB/s eta 0:00:12\n",
      "   -------------------- ------------------- 5.8/11.0 MB 438.2 kB/s eta 0:00:12\n",
      "   -------------------- ------------------- 5.8/11.0 MB 438.2 kB/s eta 0:00:12\n",
      "   -------------------- ------------------- 5.8/11.0 MB 438.2 kB/s eta 0:00:12\n",
      "   -------------------- ------------------- 5.8/11.0 MB 438.2 kB/s eta 0:00:12\n",
      "   -------------------- ------------------- 5.8/11.0 MB 438.2 kB/s eta 0:00:12\n",
      "   -------------------- ------------------- 5.8/11.0 MB 438.2 kB/s eta 0:00:12\n",
      "   -------------------- ------------------- 5.8/11.0 MB 438.2 kB/s eta 0:00:12\n",
      "   -------------------- ------------------- 5.8/11.0 MB 438.2 kB/s eta 0:00:12\n",
      "   --------------------- ------------------ 6.0/11.0 MB 382.5 kB/s eta 0:00:13\n",
      "   --------------------- ------------------ 6.0/11.0 MB 382.5 kB/s eta 0:00:13\n",
      "   --------------------- ------------------ 6.0/11.0 MB 382.5 kB/s eta 0:00:13\n",
      "   --------------------- ------------------ 6.0/11.0 MB 382.5 kB/s eta 0:00:13\n",
      "   --------------------- ------------------ 6.0/11.0 MB 382.5 kB/s eta 0:00:13\n",
      "   --------------------- ------------------ 6.0/11.0 MB 382.5 kB/s eta 0:00:13\n",
      "   --------------------- ------------------ 6.0/11.0 MB 382.5 kB/s eta 0:00:13\n",
      "   --------------------- ------------------ 6.0/11.0 MB 382.5 kB/s eta 0:00:13\n",
      "   --------------------- ------------------ 6.0/11.0 MB 382.5 kB/s eta 0:00:13\n",
      "   --------------------- ------------------ 6.0/11.0 MB 382.5 kB/s eta 0:00:13\n",
      "   --------------------- ------------------ 6.0/11.0 MB 382.5 kB/s eta 0:00:13\n",
      "   --------------------- ------------------ 6.0/11.0 MB 382.5 kB/s eta 0:00:13\n",
      "   --------------------- ------------------ 6.0/11.0 MB 382.5 kB/s eta 0:00:13\n",
      "   --------------------- ------------------ 6.0/11.0 MB 382.5 kB/s eta 0:00:13\n",
      "   ---------------------- ----------------- 6.3/11.0 MB 332.7 kB/s eta 0:00:15\n",
      "   ---------------------- ----------------- 6.3/11.0 MB 332.7 kB/s eta 0:00:15\n",
      "   ---------------------- ----------------- 6.3/11.0 MB 332.7 kB/s eta 0:00:15\n",
      "   ---------------------- ----------------- 6.3/11.0 MB 332.7 kB/s eta 0:00:15\n",
      "   ---------------------- ----------------- 6.3/11.0 MB 332.7 kB/s eta 0:00:15\n",
      "   ---------------------- ----------------- 6.3/11.0 MB 332.7 kB/s eta 0:00:15\n",
      "   ---------------------- ----------------- 6.3/11.0 MB 332.7 kB/s eta 0:00:15\n",
      "   ---------------------- ----------------- 6.3/11.0 MB 332.7 kB/s eta 0:00:15\n",
      "   ----------------------- ---------------- 6.6/11.0 MB 318.3 kB/s eta 0:00:14\n",
      "   ----------------------- ---------------- 6.6/11.0 MB 318.3 kB/s eta 0:00:14\n",
      "   ----------------------- ---------------- 6.6/11.0 MB 318.3 kB/s eta 0:00:14\n",
      "   ----------------------- ---------------- 6.6/11.0 MB 318.3 kB/s eta 0:00:14\n",
      "   ----------------------- ---------------- 6.6/11.0 MB 318.3 kB/s eta 0:00:14\n",
      "   ------------------------ --------------- 6.8/11.0 MB 313.0 kB/s eta 0:00:14\n",
      "   ------------------------ --------------- 6.8/11.0 MB 313.0 kB/s eta 0:00:14\n",
      "   ------------------------ --------------- 6.8/11.0 MB 313.0 kB/s eta 0:00:14\n",
      "   ------------------------ --------------- 6.8/11.0 MB 313.0 kB/s eta 0:00:14\n",
      "   ------------------------ --------------- 6.8/11.0 MB 313.0 kB/s eta 0:00:14\n",
      "   ------------------------- -------------- 7.1/11.0 MB 311.1 kB/s eta 0:00:13\n",
      "   ------------------------- -------------- 7.1/11.0 MB 311.1 kB/s eta 0:00:13\n",
      "   ------------------------- -------------- 7.1/11.0 MB 311.1 kB/s eta 0:00:13\n",
      "   ------------------------- -------------- 7.1/11.0 MB 311.1 kB/s eta 0:00:13\n",
      "   -------------------------- ------------- 7.3/11.0 MB 309.2 kB/s eta 0:00:12\n",
      "   -------------------------- ------------- 7.3/11.0 MB 309.2 kB/s eta 0:00:12\n",
      "   -------------------------- ------------- 7.3/11.0 MB 309.2 kB/s eta 0:00:12\n",
      "   --------------------------- ------------ 7.6/11.0 MB 312.8 kB/s eta 0:00:11\n",
      "   --------------------------- ------------ 7.6/11.0 MB 312.8 kB/s eta 0:00:11\n",
      "   --------------------------- ------------ 7.6/11.0 MB 312.8 kB/s eta 0:00:11\n",
      "   ---------------------------- ----------- 7.9/11.0 MB 315.5 kB/s eta 0:00:10\n",
      "   ---------------------------- ----------- 7.9/11.0 MB 315.5 kB/s eta 0:00:10\n",
      "   ---------------------------- ----------- 7.9/11.0 MB 315.5 kB/s eta 0:00:10\n",
      "   ----------------------------- ---------- 8.1/11.0 MB 317.5 kB/s eta 0:00:10\n",
      "   ----------------------------- ---------- 8.1/11.0 MB 317.5 kB/s eta 0:00:10\n",
      "   ----------------------------- ---------- 8.1/11.0 MB 317.5 kB/s eta 0:00:10\n",
      "   ------------------------------ --------- 8.4/11.0 MB 318.5 kB/s eta 0:00:09\n",
      "   ------------------------------ --------- 8.4/11.0 MB 318.5 kB/s eta 0:00:09\n",
      "   ------------------------------ --------- 8.4/11.0 MB 318.5 kB/s eta 0:00:09\n",
      "   ------------------------------ --------- 8.4/11.0 MB 318.5 kB/s eta 0:00:09\n",
      "   ------------------------------ --------- 8.4/11.0 MB 318.5 kB/s eta 0:00:09\n",
      "   ------------------------------- -------- 8.7/11.0 MB 316.7 kB/s eta 0:00:08\n",
      "   ------------------------------- -------- 8.7/11.0 MB 316.7 kB/s eta 0:00:08\n",
      "   ------------------------------- -------- 8.7/11.0 MB 316.7 kB/s eta 0:00:08\n",
      "   ------------------------------- -------- 8.7/11.0 MB 316.7 kB/s eta 0:00:08\n",
      "   -------------------------------- ------- 8.9/11.0 MB 315.6 kB/s eta 0:00:07\n",
      "   -------------------------------- ------- 8.9/11.0 MB 315.6 kB/s eta 0:00:07\n",
      "   -------------------------------- ------- 8.9/11.0 MB 315.6 kB/s eta 0:00:07\n",
      "   --------------------------------- ------ 9.2/11.0 MB 317.6 kB/s eta 0:00:06\n",
      "   --------------------------------- ------ 9.2/11.0 MB 317.6 kB/s eta 0:00:06\n",
      "   --------------------------------- ------ 9.2/11.0 MB 317.6 kB/s eta 0:00:06\n",
      "   --------------------------------- ------ 9.2/11.0 MB 317.6 kB/s eta 0:00:06\n",
      "   --------------------------------- ------ 9.2/11.0 MB 317.6 kB/s eta 0:00:06\n",
      "   ---------------------------------- ----- 9.4/11.0 MB 315.7 kB/s eta 0:00:05\n",
      "   ---------------------------------- ----- 9.4/11.0 MB 315.7 kB/s eta 0:00:05\n",
      "   ---------------------------------- ----- 9.4/11.0 MB 315.7 kB/s eta 0:00:05\n",
      "   ---------------------------------- ----- 9.4/11.0 MB 315.7 kB/s eta 0:00:05\n",
      "   ---------------------------------- ----- 9.4/11.0 MB 315.7 kB/s eta 0:00:05\n",
      "   ---------------------------------- ----- 9.4/11.0 MB 315.7 kB/s eta 0:00:05\n",
      "   ---------------------------------- ----- 9.4/11.0 MB 315.7 kB/s eta 0:00:05\n",
      "   ----------------------------------- ---- 9.7/11.0 MB 293.4 kB/s eta 0:00:05\n",
      "   ----------------------------------- ---- 9.7/11.0 MB 293.4 kB/s eta 0:00:05\n",
      "   ----------------------------------- ---- 9.7/11.0 MB 293.4 kB/s eta 0:00:05\n",
      "   ----------------------------------- ---- 9.7/11.0 MB 293.4 kB/s eta 0:00:05\n",
      "   ----------------------------------- ---- 9.7/11.0 MB 293.4 kB/s eta 0:00:05\n",
      "   ----------------------------------- ---- 9.7/11.0 MB 293.4 kB/s eta 0:00:05\n",
      "   ----------------------------------- ---- 9.7/11.0 MB 293.4 kB/s eta 0:00:05\n",
      "   ----------------------------------- ---- 9.7/11.0 MB 293.4 kB/s eta 0:00:05\n",
      "   ----------------------------------- ---- 9.7/11.0 MB 293.4 kB/s eta 0:00:05\n",
      "   ----------------------------------- ---- 9.7/11.0 MB 293.4 kB/s eta 0:00:05\n",
      "   ----------------------------------- ---- 9.7/11.0 MB 293.4 kB/s eta 0:00:05\n",
      "   ----------------------------------- ---- 9.7/11.0 MB 293.4 kB/s eta 0:00:05\n",
      "   ------------------------------------ --- 10.0/11.0 MB 247.1 kB/s eta 0:00:05\n",
      "   ------------------------------------ --- 10.0/11.0 MB 247.1 kB/s eta 0:00:05\n",
      "   ------------------------------------ --- 10.0/11.0 MB 247.1 kB/s eta 0:00:05\n",
      "   ------------------------------------ --- 10.0/11.0 MB 247.1 kB/s eta 0:00:05\n",
      "   ------------------------------------ --- 10.0/11.0 MB 247.1 kB/s eta 0:00:05\n",
      "   ------------------------------------ --- 10.0/11.0 MB 247.1 kB/s eta 0:00:05\n",
      "   ------------------------------------ --- 10.0/11.0 MB 247.1 kB/s eta 0:00:05\n",
      "   ------------------------------------- -- 10.2/11.0 MB 230.1 kB/s eta 0:00:04\n",
      "   ------------------------------------- -- 10.2/11.0 MB 230.1 kB/s eta 0:00:04\n",
      "   ------------------------------------- -- 10.2/11.0 MB 230.1 kB/s eta 0:00:04\n",
      "   ------------------------------------- -- 10.2/11.0 MB 230.1 kB/s eta 0:00:04\n",
      "   -------------------------------------- - 10.5/11.0 MB 229.6 kB/s eta 0:00:03\n",
      "   -------------------------------------- - 10.5/11.0 MB 229.6 kB/s eta 0:00:03\n",
      "   -------------------------------------- - 10.5/11.0 MB 229.6 kB/s eta 0:00:03\n",
      "   ---------------------------------------  10.7/11.0 MB 220.8 kB/s eta 0:00:02\n",
      "   ---------------------------------------  10.7/11.0 MB 220.8 kB/s eta 0:00:02\n",
      "   ---------------------------------------  10.7/11.0 MB 220.8 kB/s eta 0:00:02\n",
      "   ---------------------------------------  10.7/11.0 MB 220.8 kB/s eta 0:00:02\n",
      "   ---------------------------------------  10.7/11.0 MB 220.8 kB/s eta 0:00:02\n",
      "   ---------------------------------------- 11.0/11.0 MB 217.8 kB/s eta 0:00:00\n",
      "Using cached pytz-2025.2-py2.py3-none-any.whl (509 kB)\n",
      "Using cached tzdata-2025.2-py2.py3-none-any.whl (347 kB)\n",
      "Installing collected packages: pytz, tzdata, pandas\n",
      "Successfully installed pandas-2.3.1 pytz-2025.2 tzdata-2025.2\n"
     ]
    }
   ],
   "source": [
    "!pip install pandas\n"
   ]
  },
  {
   "cell_type": "code",
   "execution_count": 7,
   "id": "ee64cdf0-8e4c-49b8-b5f8-e57a6c90ffdc",
   "metadata": {},
   "outputs": [
    {
     "name": "stdout",
     "output_type": "stream",
     "text": [
      "Index(['ID', 'Name', 'Sex', 'Age', 'Height', 'Weight', 'Team', 'NOC', 'Games',\n",
      "       'Year', 'Season', 'City', 'Sport', 'Event', 'Medal', 'region', 'notes'],\n",
      "      dtype='object')\n"
     ]
    }
   ],
   "source": [
    "import pandas as pd\n",
    "\n",
    "# Load datasets\n",
    "df = pd.read_csv(\"athlete_events.csv\")\n",
    "region_df = pd.read_csv(\"noc_regions.csv\")\n",
    "\n",
    "# Merge on NOC column to add region info\n",
    "df = df.merge(region_df, on=\"NOC\", how=\"left\")\n",
    "\n",
    "print(df.columns)  # Check if 'region' is now present\n"
   ]
  },
  {
   "cell_type": "code",
   "execution_count": 4,
   "id": "a4d2e463-ef4d-4a94-b7b6-cbf8703cec73",
   "metadata": {},
   "outputs": [
    {
     "name": "stdout",
     "output_type": "stream",
     "text": [
      "(42,)\n"
     ]
    }
   ],
   "source": [
    "import pandas as pd\n",
    "\n",
    "# Load CSV file into df\n",
    "df = pd.read_csv(\"athlete_events.csv\")\n",
    "\n",
    "# Now this will work\n",
    "print(df['City'].unique().shape)\n"
   ]
  },
  {
   "cell_type": "code",
   "execution_count": 5,
   "id": "d83bb4dc-5253-4162-9df1-f634ed9949ef",
   "metadata": {},
   "outputs": [
    {
     "data": {
      "text/plain": [
       "array(['Basketball', 'Judo', 'Football', 'Tug-Of-War', 'Speed Skating',\n",
       "       'Cross Country Skiing', 'Athletics', 'Ice Hockey', 'Swimming',\n",
       "       'Badminton', 'Sailing', 'Biathlon', 'Gymnastics',\n",
       "       'Art Competitions', 'Alpine Skiing', 'Handball', 'Weightlifting',\n",
       "       'Wrestling', 'Luge', 'Water Polo', 'Hockey', 'Rowing', 'Bobsleigh',\n",
       "       'Fencing', 'Equestrianism', 'Shooting', 'Boxing', 'Taekwondo',\n",
       "       'Cycling', 'Diving', 'Canoeing', 'Tennis', 'Modern Pentathlon',\n",
       "       'Figure Skating', 'Golf', 'Softball', 'Archery', 'Volleyball',\n",
       "       'Synchronized Swimming', 'Table Tennis', 'Nordic Combined',\n",
       "       'Baseball', 'Rhythmic Gymnastics', 'Freestyle Skiing',\n",
       "       'Rugby Sevens', 'Trampolining', 'Beach Volleyball', 'Triathlon',\n",
       "       'Ski Jumping', 'Curling', 'Snowboarding', 'Rugby',\n",
       "       'Short Track Speed Skating', 'Skeleton', 'Lacrosse', 'Polo',\n",
       "       'Cricket', 'Racquets', 'Motorboating', 'Military Ski Patrol',\n",
       "       'Croquet', 'Jeu De Paume', 'Roque', 'Alpinism', 'Basque Pelota',\n",
       "       'Aeronautics'], dtype=object)"
      ]
     },
     "execution_count": 5,
     "metadata": {},
     "output_type": "execute_result"
    }
   ],
   "source": [
    "df['Sport'].unique()"
   ]
  },
  {
   "cell_type": "code",
   "execution_count": 8,
   "id": "2f7a0bba-f465-4e9a-ab6b-b934d04b3721",
   "metadata": {},
   "outputs": [
    {
     "data": {
      "text/plain": [
       "(206,)"
      ]
     },
     "execution_count": 8,
     "metadata": {},
     "output_type": "execute_result"
    }
   ],
   "source": [
    "df['region'].unique().shape"
   ]
  },
  {
   "cell_type": "code",
   "execution_count": 10,
   "id": "3696034a-0e08-45f5-92e4-64c99ba45714",
   "metadata": {},
   "outputs": [
    {
     "data": {
      "text/plain": [
       "Year\n",
       "2016    204\n",
       "2012    203\n",
       "2008    202\n",
       "2004    200\n",
       "2000    199\n",
       "1996    196\n",
       "1992    169\n",
       "1988    157\n",
       "1984    146\n",
       "1972    120\n",
       "1968    111\n",
       "1964     94\n",
       "1976     92\n",
       "1980     89\n",
       "2014     88\n",
       "1960     83\n",
       "2010     81\n",
       "2006     78\n",
       "2002     76\n",
       "1956     74\n",
       "1998     72\n",
       "1994     67\n",
       "1952     67\n",
       "1948     61\n",
       "1936     50\n",
       "1932     47\n",
       "1924     46\n",
       "1928     46\n",
       "1900     31\n",
       "1912     29\n",
       "1920     29\n",
       "1908     22\n",
       "1906     20\n",
       "1904     14\n",
       "1896     12\n",
       "Name: count, dtype: int64"
      ]
     },
     "execution_count": 10,
     "metadata": {},
     "output_type": "execute_result"
    }
   ],
   "source": [
    "df.drop_duplicates(['Year', 'region'])['Year'].value_counts()\n"
   ]
  },
  {
   "cell_type": "code",
   "execution_count": 12,
   "id": "05d06e54-310f-4146-9be3-340f0f3b29a0",
   "metadata": {},
   "outputs": [
    {
     "data": {
      "text/plain": [
       "Year\n",
       "1896     12\n",
       "1904     14\n",
       "1906     20\n",
       "1908     22\n",
       "1912     29\n",
       "1920     29\n",
       "1900     31\n",
       "1924     46\n",
       "1928     46\n",
       "1932     47\n",
       "1936     50\n",
       "1948     61\n",
       "1952     67\n",
       "1994     67\n",
       "1998     72\n",
       "1956     74\n",
       "2002     76\n",
       "2006     78\n",
       "2010     81\n",
       "1960     83\n",
       "2014     88\n",
       "1980     89\n",
       "1976     92\n",
       "1964     94\n",
       "1968    111\n",
       "1972    120\n",
       "1984    146\n",
       "1988    157\n",
       "1992    169\n",
       "1996    196\n",
       "2000    199\n",
       "2004    200\n",
       "2008    202\n",
       "2012    203\n",
       "2016    204\n",
       "Name: count, dtype: int64"
      ]
     },
     "execution_count": 12,
     "metadata": {},
     "output_type": "execute_result"
    }
   ],
   "source": [
    "df.drop_duplicates(['Year', 'region'])['Year'].value_counts().sort_index().sort_values()\n"
   ]
  },
  {
   "cell_type": "code",
   "execution_count": 13,
   "id": "e0d94366-e984-4d88-b997-6ffb3d127c75",
   "metadata": {},
   "outputs": [],
   "source": [
    "nations_over_time=df.drop_duplicates(['Year', 'region'])['Year'].value_counts()\n"
   ]
  },
  {
   "cell_type": "code",
   "execution_count": 6,
   "id": "4c4b15cf-eeb5-4a3e-986c-4a93cb54bd0e",
   "metadata": {},
   "outputs": [
    {
     "name": "stdout",
     "output_type": "stream",
     "text": [
      "   Edition  No. of countries\n",
      "0     1896                12\n",
      "1     1900                31\n",
      "2     1904                14\n",
      "3     1906                20\n",
      "4     1908                22\n"
     ]
    }
   ],
   "source": [
    "import pandas as pd\n",
    "\n",
    "# Load data\n",
    "df = pd.read_csv('athlete_events.csv')\n",
    "region_df = pd.read_csv('noc_regions.csv')\n",
    "\n",
    "# Preprocessing\n",
    "df = df[df['Season'] == 'Summer']  # Only Summer Olympics\n",
    "df = df.merge(region_df, on='NOC', how='left')  # Add region info\n",
    "df.drop_duplicates(inplace=True)  # Remove duplicates\n",
    "\n",
    "df.fillna({'region': 'Unknown'}, inplace=True)\n",
    "\n",
    "\n",
    "# Nations over time\n",
    "nations_over_time = (\n",
    "    df.drop_duplicates(['Year', 'region'])  # Unique country per year\n",
    "      .groupby('Year')\n",
    "      .size()\n",
    "      .reset_index(name='No. of countries')\n",
    ")\n",
    "\n",
    "# Rename for clarity\n",
    "nations_over_time.rename(columns={'Year': 'Edition'}, inplace=True)\n",
    "\n",
    "# Check result\n",
    "print(nations_over_time.head())\n"
   ]
  },
  {
   "cell_type": "code",
   "execution_count": 7,
   "id": "c4720765-dc79-4668-ba39-861e1a477abb",
   "metadata": {},
   "outputs": [],
   "source": [
    "import plotly.express as px"
   ]
  },
  {
   "cell_type": "code",
   "execution_count": 11,
   "id": "b8e9d1d4-9048-41d6-8361-6678e1580cbc",
   "metadata": {},
   "outputs": [
    {
     "data": {
      "application/vnd.plotly.v1+json": {
       "config": {
        "plotlyServerURL": "https://plot.ly"
       },
       "data": [
        {
         "hovertemplate": "Year=%{x}<br>No. of Countries=%{y}<extra></extra>",
         "legendgroup": "",
         "line": {
          "color": "#636efa",
          "dash": "solid"
         },
         "marker": {
          "symbol": "circle"
         },
         "mode": "lines+markers",
         "name": "",
         "orientation": "v",
         "showlegend": false,
         "type": "scatter",
         "x": {
          "bdata": "aAdsB3AHcgd0B3gHgAeEB4gHjAeQB5wHoAekB6gHrAewB7QHuAe8B8AHxAfIB8oHzAfOB9AH0gfUB9YH2AfaB9wH3gfgBw==",
          "dtype": "i2"
         },
         "xaxis": "x",
         "y": {
          "bdata": "DAAfAA4AFAAWAB0AHQAuAC4ALwAyAD0AQwBKAFMAXgBvAHgAXABZAJIAnQCpAEMAxABIAMcATADIAE4AygBRAMsAWADMAA==",
          "dtype": "i2"
         },
         "yaxis": "y"
        }
       ],
       "layout": {
        "legend": {
         "tracegroupgap": 0
        },
        "template": {
         "data": {
          "bar": [
           {
            "error_x": {
             "color": "#2a3f5f"
            },
            "error_y": {
             "color": "#2a3f5f"
            },
            "marker": {
             "line": {
              "color": "#E5ECF6",
              "width": 0.5
             },
             "pattern": {
              "fillmode": "overlay",
              "size": 10,
              "solidity": 0.2
             }
            },
            "type": "bar"
           }
          ],
          "barpolar": [
           {
            "marker": {
             "line": {
              "color": "#E5ECF6",
              "width": 0.5
             },
             "pattern": {
              "fillmode": "overlay",
              "size": 10,
              "solidity": 0.2
             }
            },
            "type": "barpolar"
           }
          ],
          "carpet": [
           {
            "aaxis": {
             "endlinecolor": "#2a3f5f",
             "gridcolor": "white",
             "linecolor": "white",
             "minorgridcolor": "white",
             "startlinecolor": "#2a3f5f"
            },
            "baxis": {
             "endlinecolor": "#2a3f5f",
             "gridcolor": "white",
             "linecolor": "white",
             "minorgridcolor": "white",
             "startlinecolor": "#2a3f5f"
            },
            "type": "carpet"
           }
          ],
          "choropleth": [
           {
            "colorbar": {
             "outlinewidth": 0,
             "ticks": ""
            },
            "type": "choropleth"
           }
          ],
          "contour": [
           {
            "colorbar": {
             "outlinewidth": 0,
             "ticks": ""
            },
            "colorscale": [
             [
              0,
              "#0d0887"
             ],
             [
              0.1111111111111111,
              "#46039f"
             ],
             [
              0.2222222222222222,
              "#7201a8"
             ],
             [
              0.3333333333333333,
              "#9c179e"
             ],
             [
              0.4444444444444444,
              "#bd3786"
             ],
             [
              0.5555555555555556,
              "#d8576b"
             ],
             [
              0.6666666666666666,
              "#ed7953"
             ],
             [
              0.7777777777777778,
              "#fb9f3a"
             ],
             [
              0.8888888888888888,
              "#fdca26"
             ],
             [
              1,
              "#f0f921"
             ]
            ],
            "type": "contour"
           }
          ],
          "contourcarpet": [
           {
            "colorbar": {
             "outlinewidth": 0,
             "ticks": ""
            },
            "type": "contourcarpet"
           }
          ],
          "heatmap": [
           {
            "colorbar": {
             "outlinewidth": 0,
             "ticks": ""
            },
            "colorscale": [
             [
              0,
              "#0d0887"
             ],
             [
              0.1111111111111111,
              "#46039f"
             ],
             [
              0.2222222222222222,
              "#7201a8"
             ],
             [
              0.3333333333333333,
              "#9c179e"
             ],
             [
              0.4444444444444444,
              "#bd3786"
             ],
             [
              0.5555555555555556,
              "#d8576b"
             ],
             [
              0.6666666666666666,
              "#ed7953"
             ],
             [
              0.7777777777777778,
              "#fb9f3a"
             ],
             [
              0.8888888888888888,
              "#fdca26"
             ],
             [
              1,
              "#f0f921"
             ]
            ],
            "type": "heatmap"
           }
          ],
          "histogram": [
           {
            "marker": {
             "pattern": {
              "fillmode": "overlay",
              "size": 10,
              "solidity": 0.2
             }
            },
            "type": "histogram"
           }
          ],
          "histogram2d": [
           {
            "colorbar": {
             "outlinewidth": 0,
             "ticks": ""
            },
            "colorscale": [
             [
              0,
              "#0d0887"
             ],
             [
              0.1111111111111111,
              "#46039f"
             ],
             [
              0.2222222222222222,
              "#7201a8"
             ],
             [
              0.3333333333333333,
              "#9c179e"
             ],
             [
              0.4444444444444444,
              "#bd3786"
             ],
             [
              0.5555555555555556,
              "#d8576b"
             ],
             [
              0.6666666666666666,
              "#ed7953"
             ],
             [
              0.7777777777777778,
              "#fb9f3a"
             ],
             [
              0.8888888888888888,
              "#fdca26"
             ],
             [
              1,
              "#f0f921"
             ]
            ],
            "type": "histogram2d"
           }
          ],
          "histogram2dcontour": [
           {
            "colorbar": {
             "outlinewidth": 0,
             "ticks": ""
            },
            "colorscale": [
             [
              0,
              "#0d0887"
             ],
             [
              0.1111111111111111,
              "#46039f"
             ],
             [
              0.2222222222222222,
              "#7201a8"
             ],
             [
              0.3333333333333333,
              "#9c179e"
             ],
             [
              0.4444444444444444,
              "#bd3786"
             ],
             [
              0.5555555555555556,
              "#d8576b"
             ],
             [
              0.6666666666666666,
              "#ed7953"
             ],
             [
              0.7777777777777778,
              "#fb9f3a"
             ],
             [
              0.8888888888888888,
              "#fdca26"
             ],
             [
              1,
              "#f0f921"
             ]
            ],
            "type": "histogram2dcontour"
           }
          ],
          "mesh3d": [
           {
            "colorbar": {
             "outlinewidth": 0,
             "ticks": ""
            },
            "type": "mesh3d"
           }
          ],
          "parcoords": [
           {
            "line": {
             "colorbar": {
              "outlinewidth": 0,
              "ticks": ""
             }
            },
            "type": "parcoords"
           }
          ],
          "pie": [
           {
            "automargin": true,
            "type": "pie"
           }
          ],
          "scatter": [
           {
            "fillpattern": {
             "fillmode": "overlay",
             "size": 10,
             "solidity": 0.2
            },
            "type": "scatter"
           }
          ],
          "scatter3d": [
           {
            "line": {
             "colorbar": {
              "outlinewidth": 0,
              "ticks": ""
             }
            },
            "marker": {
             "colorbar": {
              "outlinewidth": 0,
              "ticks": ""
             }
            },
            "type": "scatter3d"
           }
          ],
          "scattercarpet": [
           {
            "marker": {
             "colorbar": {
              "outlinewidth": 0,
              "ticks": ""
             }
            },
            "type": "scattercarpet"
           }
          ],
          "scattergeo": [
           {
            "marker": {
             "colorbar": {
              "outlinewidth": 0,
              "ticks": ""
             }
            },
            "type": "scattergeo"
           }
          ],
          "scattergl": [
           {
            "marker": {
             "colorbar": {
              "outlinewidth": 0,
              "ticks": ""
             }
            },
            "type": "scattergl"
           }
          ],
          "scattermap": [
           {
            "marker": {
             "colorbar": {
              "outlinewidth": 0,
              "ticks": ""
             }
            },
            "type": "scattermap"
           }
          ],
          "scattermapbox": [
           {
            "marker": {
             "colorbar": {
              "outlinewidth": 0,
              "ticks": ""
             }
            },
            "type": "scattermapbox"
           }
          ],
          "scatterpolar": [
           {
            "marker": {
             "colorbar": {
              "outlinewidth": 0,
              "ticks": ""
             }
            },
            "type": "scatterpolar"
           }
          ],
          "scatterpolargl": [
           {
            "marker": {
             "colorbar": {
              "outlinewidth": 0,
              "ticks": ""
             }
            },
            "type": "scatterpolargl"
           }
          ],
          "scatterternary": [
           {
            "marker": {
             "colorbar": {
              "outlinewidth": 0,
              "ticks": ""
             }
            },
            "type": "scatterternary"
           }
          ],
          "surface": [
           {
            "colorbar": {
             "outlinewidth": 0,
             "ticks": ""
            },
            "colorscale": [
             [
              0,
              "#0d0887"
             ],
             [
              0.1111111111111111,
              "#46039f"
             ],
             [
              0.2222222222222222,
              "#7201a8"
             ],
             [
              0.3333333333333333,
              "#9c179e"
             ],
             [
              0.4444444444444444,
              "#bd3786"
             ],
             [
              0.5555555555555556,
              "#d8576b"
             ],
             [
              0.6666666666666666,
              "#ed7953"
             ],
             [
              0.7777777777777778,
              "#fb9f3a"
             ],
             [
              0.8888888888888888,
              "#fdca26"
             ],
             [
              1,
              "#f0f921"
             ]
            ],
            "type": "surface"
           }
          ],
          "table": [
           {
            "cells": {
             "fill": {
              "color": "#EBF0F8"
             },
             "line": {
              "color": "white"
             }
            },
            "header": {
             "fill": {
              "color": "#C8D4E3"
             },
             "line": {
              "color": "white"
             }
            },
            "type": "table"
           }
          ]
         },
         "layout": {
          "annotationdefaults": {
           "arrowcolor": "#2a3f5f",
           "arrowhead": 0,
           "arrowwidth": 1
          },
          "autotypenumbers": "strict",
          "coloraxis": {
           "colorbar": {
            "outlinewidth": 0,
            "ticks": ""
           }
          },
          "colorscale": {
           "diverging": [
            [
             0,
             "#8e0152"
            ],
            [
             0.1,
             "#c51b7d"
            ],
            [
             0.2,
             "#de77ae"
            ],
            [
             0.3,
             "#f1b6da"
            ],
            [
             0.4,
             "#fde0ef"
            ],
            [
             0.5,
             "#f7f7f7"
            ],
            [
             0.6,
             "#e6f5d0"
            ],
            [
             0.7,
             "#b8e186"
            ],
            [
             0.8,
             "#7fbc41"
            ],
            [
             0.9,
             "#4d9221"
            ],
            [
             1,
             "#276419"
            ]
           ],
           "sequential": [
            [
             0,
             "#0d0887"
            ],
            [
             0.1111111111111111,
             "#46039f"
            ],
            [
             0.2222222222222222,
             "#7201a8"
            ],
            [
             0.3333333333333333,
             "#9c179e"
            ],
            [
             0.4444444444444444,
             "#bd3786"
            ],
            [
             0.5555555555555556,
             "#d8576b"
            ],
            [
             0.6666666666666666,
             "#ed7953"
            ],
            [
             0.7777777777777778,
             "#fb9f3a"
            ],
            [
             0.8888888888888888,
             "#fdca26"
            ],
            [
             1,
             "#f0f921"
            ]
           ],
           "sequentialminus": [
            [
             0,
             "#0d0887"
            ],
            [
             0.1111111111111111,
             "#46039f"
            ],
            [
             0.2222222222222222,
             "#7201a8"
            ],
            [
             0.3333333333333333,
             "#9c179e"
            ],
            [
             0.4444444444444444,
             "#bd3786"
            ],
            [
             0.5555555555555556,
             "#d8576b"
            ],
            [
             0.6666666666666666,
             "#ed7953"
            ],
            [
             0.7777777777777778,
             "#fb9f3a"
            ],
            [
             0.8888888888888888,
             "#fdca26"
            ],
            [
             1,
             "#f0f921"
            ]
           ]
          },
          "colorway": [
           "#636efa",
           "#EF553B",
           "#00cc96",
           "#ab63fa",
           "#FFA15A",
           "#19d3f3",
           "#FF6692",
           "#B6E880",
           "#FF97FF",
           "#FECB52"
          ],
          "font": {
           "color": "#2a3f5f"
          },
          "geo": {
           "bgcolor": "white",
           "lakecolor": "white",
           "landcolor": "#E5ECF6",
           "showlakes": true,
           "showland": true,
           "subunitcolor": "white"
          },
          "hoverlabel": {
           "align": "left"
          },
          "hovermode": "closest",
          "mapbox": {
           "style": "light"
          },
          "paper_bgcolor": "white",
          "plot_bgcolor": "#E5ECF6",
          "polar": {
           "angularaxis": {
            "gridcolor": "white",
            "linecolor": "white",
            "ticks": ""
           },
           "bgcolor": "#E5ECF6",
           "radialaxis": {
            "gridcolor": "white",
            "linecolor": "white",
            "ticks": ""
           }
          },
          "scene": {
           "xaxis": {
            "backgroundcolor": "#E5ECF6",
            "gridcolor": "white",
            "gridwidth": 2,
            "linecolor": "white",
            "showbackground": true,
            "ticks": "",
            "zerolinecolor": "white"
           },
           "yaxis": {
            "backgroundcolor": "#E5ECF6",
            "gridcolor": "white",
            "gridwidth": 2,
            "linecolor": "white",
            "showbackground": true,
            "ticks": "",
            "zerolinecolor": "white"
           },
           "zaxis": {
            "backgroundcolor": "#E5ECF6",
            "gridcolor": "white",
            "gridwidth": 2,
            "linecolor": "white",
            "showbackground": true,
            "ticks": "",
            "zerolinecolor": "white"
           }
          },
          "shapedefaults": {
           "line": {
            "color": "#2a3f5f"
           }
          },
          "ternary": {
           "aaxis": {
            "gridcolor": "white",
            "linecolor": "white",
            "ticks": ""
           },
           "baxis": {
            "gridcolor": "white",
            "linecolor": "white",
            "ticks": ""
           },
           "bgcolor": "#E5ECF6",
           "caxis": {
            "gridcolor": "white",
            "linecolor": "white",
            "ticks": ""
           }
          },
          "title": {
           "x": 0.05
          },
          "xaxis": {
           "automargin": true,
           "gridcolor": "white",
           "linecolor": "white",
           "ticks": "",
           "title": {
            "standoff": 15
           },
           "zerolinecolor": "white",
           "zerolinewidth": 2
          },
          "yaxis": {
           "automargin": true,
           "gridcolor": "white",
           "linecolor": "white",
           "ticks": "",
           "title": {
            "standoff": 15
           },
           "zerolinecolor": "white",
           "zerolinewidth": 2
          }
         }
        },
        "title": {
         "text": "Number of Countries Over Time in Olympics"
        },
        "xaxis": {
         "anchor": "y",
         "domain": [
          0,
          1
         ],
         "title": {
          "text": "Year"
         }
        },
        "yaxis": {
         "anchor": "x",
         "domain": [
          0,
          1
         ],
         "title": {
          "text": "No. of Countries"
         }
        }
       }
      },
      "image/png": "[encoded data removed]"
     },
     "metadata": {},
     "output_type": "display_data"
    }
   ],
   "source": [
    "import pandas as pd\n",
    "import plotly.express as px\n",
    "\n",
    "# Load datasets\n",
    "df = pd.read_csv(\"athlete_events.csv\")\n",
    "regions_df = pd.read_csv(\"noc_regions.csv\")\n",
    "\n",
    "# Merge datasets\n",
    "df = df.merge(regions_df, on='NOC', how='left')\n",
    "\n",
    "# Fill missing region values\n",
    "df['region'] = df['region'].fillna('Unknown')\n",
    "\n",
    "# Get number of unique countries each year\n",
    "nations_over_time = (\n",
    "    df.drop_duplicates(['Year', 'region'])  # Keep only unique Year-country combinations\n",
    "      .groupby('Year')['region']\n",
    "      .nunique()  # Count unique countries\n",
    "      .reset_index()  # Convert Year back to a column\n",
    "      .rename(columns={'region': 'No. of Countries'})\n",
    ")\n",
    "\n",
    "# Plot line graph\n",
    "fig = px.line(\n",
    "    nations_over_time,\n",
    "    x='Year',\n",
    "    y='No. of Countries',\n",
    "    markers=True,\n",
    "    title='Number of Countries Over Time in Olympics'\n",
    ")\n",
    "fig.show()\n"
   ]
  },
  {
   "cell_type": "code",
   "execution_count": 13,
   "id": "aa859e9e-b811-4566-80df-233e55ed9913",
   "metadata": {},
   "outputs": [
    {
     "name": "stdout",
     "output_type": "stream",
     "text": [
      "Defaulting to user installation because normal site-packages is not writeable\n",
      "Requirement already satisfied: seaborn in c:\\users\\dolly rathore\\appdata\\roaming\\python\\python311\\site-packages (0.13.2)\n",
      "Requirement already satisfied: numpy!=1.24.0,>=1.20 in c:\\users\\dolly rathore\\appdata\\roaming\\python\\python311\\site-packages (from seaborn) (1.26.4)\n",
      "Requirement already satisfied: pandas>=1.2 in c:\\users\\dolly rathore\\appdata\\roaming\\python\\python311\\site-packages (from seaborn) (2.3.1)\n",
      "Requirement already satisfied: matplotlib!=3.6.1,>=3.4 in c:\\users\\dolly rathore\\appdata\\roaming\\python\\python311\\site-packages (from seaborn) (3.10.5)\n",
      "Requirement already satisfied: contourpy>=1.0.1 in c:\\users\\dolly rathore\\appdata\\roaming\\python\\python311\\site-packages (from matplotlib!=3.6.1,>=3.4->seaborn) (1.3.3)\n",
      "Requirement already satisfied: cycler>=0.10 in c:\\users\\dolly rathore\\appdata\\roaming\\python\\python311\\site-packages (from matplotlib!=3.6.1,>=3.4->seaborn) (0.12.1)\n",
      "Requirement already satisfied: fonttools>=4.22.0 in c:\\users\\dolly rathore\\appdata\\roaming\\python\\python311\\site-packages (from matplotlib!=3.6.1,>=3.4->seaborn) (4.59.1)\n",
      "Requirement already satisfied: kiwisolver>=1.3.1 in c:\\users\\dolly rathore\\appdata\\roaming\\python\\python311\\site-packages (from matplotlib!=3.6.1,>=3.4->seaborn) (1.4.9)\n",
      "Requirement already satisfied: packaging>=20.0 in c:\\users\\dolly rathore\\appdata\\roaming\\python\\python311\\site-packages (from matplotlib!=3.6.1,>=3.4->seaborn) (25.0)\n",
      "Requirement already satisfied: pillow>=8 in c:\\users\\dolly rathore\\appdata\\roaming\\python\\python311\\site-packages (from matplotlib!=3.6.1,>=3.4->seaborn) (11.3.0)\n",
      "Requirement already satisfied: pyparsing>=2.3.1 in c:\\users\\dolly rathore\\appdata\\roaming\\python\\python311\\site-packages (from matplotlib!=3.6.1,>=3.4->seaborn) (3.2.3)\n",
      "Requirement already satisfied: python-dateutil>=2.7 in c:\\users\\dolly rathore\\appdata\\roaming\\python\\python311\\site-packages (from matplotlib!=3.6.1,>=3.4->seaborn) (2.9.0.post0)\n",
      "Requirement already satisfied: pytz>=2020.1 in c:\\users\\dolly rathore\\appdata\\roaming\\python\\python311\\site-packages (from pandas>=1.2->seaborn) (2025.2)\n",
      "Requirement already satisfied: tzdata>=2022.7 in c:\\users\\dolly rathore\\appdata\\roaming\\python\\python311\\site-packages (from pandas>=1.2->seaborn) (2025.2)\n",
      "Requirement already satisfied: six>=1.5 in c:\\users\\dolly rathore\\appdata\\roaming\\python\\python311\\site-packages (from python-dateutil>=2.7->matplotlib!=3.6.1,>=3.4->seaborn) (1.17.0)\n"
     ]
    }
   ],
   "source": [
    "!pip install seaborn\n"
   ]
  },
  {
   "cell_type": "code",
   "execution_count": 9,
   "id": "2eb84839-41d9-439c-b595-16ba14d8172c",
   "metadata": {},
   "outputs": [
    {
     "data": {
      "application/vnd.plotly.v1+json": {
       "config": {
        "plotlyServerURL": "https://plot.ly"
       },
       "data": [
        {
         "hovertemplate": "Year=%{x}<br>No. of Countries=%{y}<extra></extra>",
         "legendgroup": "",
         "line": {
          "color": "#636efa",
          "dash": "solid"
         },
         "marker": {
          "symbol": "circle"
         },
         "mode": "lines+markers",
         "name": "",
         "orientation": "v",
         "showlegend": false,
         "type": "scatter",
         "x": {
          "bdata": "aAdsB3AHcgd0B3gHgAeEB4gHjAeQB5wHoAekB6gHrAewB7QHuAe8B8AHxAfIB8oHzAfOB9AH0gfUB9YH2AfaB9wH3gfgBw==",
          "dtype": "i2"
         },
         "xaxis": "x",
         "y": {
          "bdata": "DAAfAA4AFAAWAB0AHQAuAC4ALwAyAD0AQwBKAFMAXgBvAHgAXABZAJIAnQCpAEMAxABIAMcATADIAE4AygBRAMsAWADMAA==",
          "dtype": "i2"
         },
         "yaxis": "y"
        }
       ],
       "layout": {
        "legend": {
         "tracegroupgap": 0
        },
        "template": {
         "data": {
          "bar": [
           {
            "error_x": {
             "color": "#2a3f5f"
            },
            "error_y": {
             "color": "#2a3f5f"
            },
            "marker": {
             "line": {
              "color": "#E5ECF6",
              "width": 0.5
             },
             "pattern": {
              "fillmode": "overlay",
              "size": 10,
              "solidity": 0.2
             }
            },
            "type": "bar"
           }
          ],
          "barpolar": [
           {
            "marker": {
             "line": {
              "color": "#E5ECF6",
              "width": 0.5
             },
             "pattern": {
              "fillmode": "overlay",
              "size": 10,
              "solidity": 0.2
             }
            },
            "type": "barpolar"
           }
          ],
          "carpet": [
           {
            "aaxis": {
             "endlinecolor": "#2a3f5f",
             "gridcolor": "white",
             "linecolor": "white",
             "minorgridcolor": "white",
             "startlinecolor": "#2a3f5f"
            },
            "baxis": {
             "endlinecolor": "#2a3f5f",
             "gridcolor": "white",
             "linecolor": "white",
             "minorgridcolor": "white",
             "startlinecolor": "#2a3f5f"
            },
            "type": "carpet"
           }
          ],
          "choropleth": [
           {
            "colorbar": {
             "outlinewidth": 0,
             "ticks": ""
            },
            "type": "choropleth"
           }
          ],
          "contour": [
           {
            "colorbar": {
             "outlinewidth": 0,
             "ticks": ""
            },
            "colorscale": [
             [
              0,
              "#0d0887"
             ],
             [
              0.1111111111111111,
              "#46039f"
             ],
             [
              0.2222222222222222,
              "#7201a8"
             ],
             [
              0.3333333333333333,
              "#9c179e"
             ],
             [
              0.4444444444444444,
              "#bd3786"
             ],
             [
              0.5555555555555556,
              "#d8576b"
             ],
             [
              0.6666666666666666,
              "#ed7953"
             ],
             [
              0.7777777777777778,
              "#fb9f3a"
             ],
             [
              0.8888888888888888,
              "#fdca26"
             ],
             [
              1,
              "#f0f921"
             ]
            ],
            "type": "contour"
           }
          ],
          "contourcarpet": [
           {
            "colorbar": {
             "outlinewidth": 0,
             "ticks": ""
            },
            "type": "contourcarpet"
           }
          ],
          "heatmap": [
           {
            "colorbar": {
             "outlinewidth": 0,
             "ticks": ""
            },
            "colorscale": [
             [
              0,
              "#0d0887"
             ],
             [
              0.1111111111111111,
              "#46039f"
             ],
             [
              0.2222222222222222,
              "#7201a8"
             ],
             [
              0.3333333333333333,
              "#9c179e"
             ],
             [
              0.4444444444444444,
              "#bd3786"
             ],
             [
              0.5555555555555556,
              "#d8576b"
             ],
             [
              0.6666666666666666,
              "#ed7953"
             ],
             [
              0.7777777777777778,
              "#fb9f3a"
             ],
             [
              0.8888888888888888,
              "#fdca26"
             ],
             [
              1,
              "#f0f921"
             ]
            ],
            "type": "heatmap"
           }
          ],
          "histogram": [
           {
            "marker": {
             "pattern": {
              "fillmode": "overlay",
              "size": 10,
              "solidity": 0.2
             }
            },
            "type": "histogram"
           }
          ],
          "histogram2d": [
           {
            "colorbar": {
             "outlinewidth": 0,
             "ticks": ""
            },
            "colorscale": [
             [
              0,
              "#0d0887"
             ],
             [
              0.1111111111111111,
              "#46039f"
             ],
             [
              0.2222222222222222,
              "#7201a8"
             ],
             [
              0.3333333333333333,
              "#9c179e"
             ],
             [
              0.4444444444444444,
              "#bd3786"
             ],
             [
              0.5555555555555556,
              "#d8576b"
             ],
             [
              0.6666666666666666,
              "#ed7953"
             ],
             [
              0.7777777777777778,
              "#fb9f3a"
             ],
             [
              0.8888888888888888,
              "#fdca26"
             ],
             [
              1,
              "#f0f921"
             ]
            ],
            "type": "histogram2d"
           }
          ],
          "histogram2dcontour": [
           {
            "colorbar": {
             "outlinewidth": 0,
             "ticks": ""
            },
            "colorscale": [
             [
              0,
              "#0d0887"
             ],
             [
              0.1111111111111111,
              "#46039f"
             ],
             [
              0.2222222222222222,
              "#7201a8"
             ],
             [
              0.3333333333333333,
              "#9c179e"
             ],
             [
              0.4444444444444444,
              "#bd3786"
             ],
             [
              0.5555555555555556,
              "#d8576b"
             ],
             [
              0.6666666666666666,
              "#ed7953"
             ],
             [
              0.7777777777777778,
              "#fb9f3a"
             ],
             [
              0.8888888888888888,
              "#fdca26"
             ],
             [
              1,
              "#f0f921"
             ]
            ],
            "type": "histogram2dcontour"
           }
          ],
          "mesh3d": [
           {
            "colorbar": {
             "outlinewidth": 0,
             "ticks": ""
            },
            "type": "mesh3d"
           }
          ],
          "parcoords": [
           {
            "line": {
             "colorbar": {
              "outlinewidth": 0,
              "ticks": ""
             }
            },
            "type": "parcoords"
           }
          ],
          "pie": [
           {
            "automargin": true,
            "type": "pie"
           }
          ],
          "scatter": [
           {
            "fillpattern": {
             "fillmode": "overlay",
             "size": 10,
             "solidity": 0.2
            },
            "type": "scatter"
           }
          ],
          "scatter3d": [
           {
            "line": {
             "colorbar": {
              "outlinewidth": 0,
              "ticks": ""
             }
            },
            "marker": {
             "colorbar": {
              "outlinewidth": 0,
              "ticks": ""
             }
            },
            "type": "scatter3d"
           }
          ],
          "scattercarpet": [
           {
            "marker": {
             "colorbar": {
              "outlinewidth": 0,
              "ticks": ""
             }
            },
            "type": "scattercarpet"
           }
          ],
          "scattergeo": [
           {
            "marker": {
             "colorbar": {
              "outlinewidth": 0,
              "ticks": ""
             }
            },
            "type": "scattergeo"
           }
          ],
          "scattergl": [
           {
            "marker": {
             "colorbar": {
              "outlinewidth": 0,
              "ticks": ""
             }
            },
            "type": "scattergl"
           }
          ],
          "scattermap": [
           {
            "marker": {
             "colorbar": {
              "outlinewidth": 0,
              "ticks": ""
             }
            },
            "type": "scattermap"
           }
          ],
          "scattermapbox": [
           {
            "marker": {
             "colorbar": {
              "outlinewidth": 0,
              "ticks": ""
             }
            },
            "type": "scattermapbox"
           }
          ],
          "scatterpolar": [
           {
            "marker": {
             "colorbar": {
              "outlinewidth": 0,
              "ticks": ""
             }
            },
            "type": "scatterpolar"
           }
          ],
          "scatterpolargl": [
           {
            "marker": {
             "colorbar": {
              "outlinewidth": 0,
              "ticks": ""
             }
            },
            "type": "scatterpolargl"
           }
          ],
          "scatterternary": [
           {
            "marker": {
             "colorbar": {
              "outlinewidth": 0,
              "ticks": ""
             }
            },
            "type": "scatterternary"
           }
          ],
          "surface": [
           {
            "colorbar": {
             "outlinewidth": 0,
             "ticks": ""
            },
            "colorscale": [
             [
              0,
              "#0d0887"
             ],
             [
              0.1111111111111111,
              "#46039f"
             ],
             [
              0.2222222222222222,
              "#7201a8"
             ],
             [
              0.3333333333333333,
              "#9c179e"
             ],
             [
              0.4444444444444444,
              "#bd3786"
             ],
             [
              0.5555555555555556,
              "#d8576b"
             ],
             [
              0.6666666666666666,
              "#ed7953"
             ],
             [
              0.7777777777777778,
              "#fb9f3a"
             ],
             [
              0.8888888888888888,
              "#fdca26"
             ],
             [
              1,
              "#f0f921"
             ]
            ],
            "type": "surface"
           }
          ],
          "table": [
           {
            "cells": {
             "fill": {
              "color": "#EBF0F8"
             },
             "line": {
              "color": "white"
             }
            },
            "header": {
             "fill": {
              "color": "#C8D4E3"
             },
             "line": {
              "color": "white"
             }
            },
            "type": "table"
           }
          ]
         },
         "layout": {
          "annotationdefaults": {
           "arrowcolor": "#2a3f5f",
           "arrowhead": 0,
           "arrowwidth": 1
          },
          "autotypenumbers": "strict",
          "coloraxis": {
           "colorbar": {
            "outlinewidth": 0,
            "ticks": ""
           }
          },
          "colorscale": {
           "diverging": [
            [
             0,
             "#8e0152"
            ],
            [
             0.1,
             "#c51b7d"
            ],
            [
             0.2,
             "#de77ae"
            ],
            [
             0.3,
             "#f1b6da"
            ],
            [
             0.4,
             "#fde0ef"
            ],
            [
             0.5,
             "#f7f7f7"
            ],
            [
             0.6,
             "#e6f5d0"
            ],
            [
             0.7,
             "#b8e186"
            ],
            [
             0.8,
             "#7fbc41"
            ],
            [
             0.9,
             "#4d9221"
            ],
            [
             1,
             "#276419"
            ]
           ],
           "sequential": [
            [
             0,
             "#0d0887"
            ],
            [
             0.1111111111111111,
             "#46039f"
            ],
            [
             0.2222222222222222,
             "#7201a8"
            ],
            [
             0.3333333333333333,
             "#9c179e"
            ],
            [
             0.4444444444444444,
             "#bd3786"
            ],
            [
             0.5555555555555556,
             "#d8576b"
            ],
            [
             0.6666666666666666,
             "#ed7953"
            ],
            [
             0.7777777777777778,
             "#fb9f3a"
            ],
            [
             0.8888888888888888,
             "#fdca26"
            ],
            [
             1,
             "#f0f921"
            ]
           ],
           "sequentialminus": [
            [
             0,
             "#0d0887"
            ],
            [
             0.1111111111111111,
             "#46039f"
            ],
            [
             0.2222222222222222,
             "#7201a8"
            ],
            [
             0.3333333333333333,
             "#9c179e"
            ],
            [
             0.4444444444444444,
             "#bd3786"
            ],
            [
             0.5555555555555556,
             "#d8576b"
            ],
            [
             0.6666666666666666,
             "#ed7953"
            ],
            [
             0.7777777777777778,
             "#fb9f3a"
            ],
            [
             0.8888888888888888,
             "#fdca26"
            ],
            [
             1,
             "#f0f921"
            ]
           ]
          },
          "colorway": [
           "#636efa",
           "#EF553B",
           "#00cc96",
           "#ab63fa",
           "#FFA15A",
           "#19d3f3",
           "#FF6692",
           "#B6E880",
           "#FF97FF",
           "#FECB52"
          ],
          "font": {
           "color": "#2a3f5f"
          },
          "geo": {
           "bgcolor": "white",
           "lakecolor": "white",
           "landcolor": "#E5ECF6",
           "showlakes": true,
           "showland": true,
           "subunitcolor": "white"
          },
          "hoverlabel": {
           "align": "left"
          },
          "hovermode": "closest",
          "mapbox": {
           "style": "light"
          },
          "paper_bgcolor": "white",
          "plot_bgcolor": "#E5ECF6",
          "polar": {
           "angularaxis": {
            "gridcolor": "white",
            "linecolor": "white",
            "ticks": ""
           },
           "bgcolor": "#E5ECF6",
           "radialaxis": {
            "gridcolor": "white",
            "linecolor": "white",
            "ticks": ""
           }
          },
          "scene": {
           "xaxis": {
            "backgroundcolor": "#E5ECF6",
            "gridcolor": "white",
            "gridwidth": 2,
            "linecolor": "white",
            "showbackground": true,
            "ticks": "",
            "zerolinecolor": "white"
           },
           "yaxis": {
            "backgroundcolor": "#E5ECF6",
            "gridcolor": "white",
            "gridwidth": 2,
            "linecolor": "white",
            "showbackground": true,
            "ticks": "",
            "zerolinecolor": "white"
           },
           "zaxis": {
            "backgroundcolor": "#E5ECF6",
            "gridcolor": "white",
            "gridwidth": 2,
            "linecolor": "white",
            "showbackground": true,
            "ticks": "",
            "zerolinecolor": "white"
           }
          },
          "shapedefaults": {
           "line": {
            "color": "#2a3f5f"
           }
          },
          "ternary": {
           "aaxis": {
            "gridcolor": "white",
            "linecolor": "white",
            "ticks": ""
           },
           "baxis": {
            "gridcolor": "white",
            "linecolor": "white",
            "ticks": ""
           },
           "bgcolor": "#E5ECF6",
           "caxis": {
            "gridcolor": "white",
            "linecolor": "white",
            "ticks": ""
           }
          },
          "title": {
           "x": 0.05
          },
          "xaxis": {
           "automargin": true,
           "gridcolor": "white",
           "linecolor": "white",
           "ticks": "",
           "title": {
            "standoff": 15
           },
           "zerolinecolor": "white",
           "zerolinewidth": 2
          },
          "yaxis": {
           "automargin": true,
           "gridcolor": "white",
           "linecolor": "white",
           "ticks": "",
           "title": {
            "standoff": 15
           },
           "zerolinecolor": "white",
           "zerolinewidth": 2
          }
         }
        },
        "title": {
         "text": "Number of Countries Over Time in Olympics"
        },
        "xaxis": {
         "anchor": "y",
         "domain": [
          0,
          1
         ],
         "title": {
          "text": "Year"
         }
        },
        "yaxis": {
         "anchor": "x",
         "domain": [
          0,
          1
         ],
         "title": {
          "text": "No. of Countries"
         }
        }
       }
      },
      "image/png": "[encoded data removed]"
     },
     "metadata": {},
     "output_type": "display_data"
    },
    {
     "data": {
      "application/vnd.plotly.v1+json": {
       "config": {
        "plotlyServerURL": "https://plot.ly"
       },
       "data": [
        {
         "hovertemplate": "Year=%{x}<br>No. of Events=%{y}<extra></extra>",
         "legendgroup": "",
         "line": {
          "color": "#636efa",
          "dash": "solid"
         },
         "marker": {
          "symbol": "circle"
         },
         "mode": "lines+markers",
         "name": "",
         "orientation": "v",
         "showlegend": false,
         "type": "scatter",
         "x": {
          "bdata": "aAdsB3AHcgd0B3gHgAeEB4gHjAeQB5wHoAekB6gHrAewB7QHuAe8B8AHxAfIB8oHzAfOB9AH0gfUB9YH2AfaB9wH3gfgBw==",
          "dtype": "i2"
         },
         "xaxis": "x",
         "y": {
          "bdata": "KwBaAF8ASgBtAGsAngCUAIgAkQCnAK8AqwCvALEAxQDPAOQA6wDxAAQBGwE6AT0ADwFEACwBTgAtAVQALgFWAC4BYgAyAQ==",
          "dtype": "i2"
         },
         "yaxis": "y"
        }
       ],
       "layout": {
        "legend": {
         "tracegroupgap": 0
        },
        "template": {
         "data": {
          "bar": [
           {
            "error_x": {
             "color": "#2a3f5f"
            },
            "error_y": {
             "color": "#2a3f5f"
            },
            "marker": {
             "line": {
              "color": "#E5ECF6",
              "width": 0.5
             },
             "pattern": {
              "fillmode": "overlay",
              "size": 10,
              "solidity": 0.2
             }
            },
            "type": "bar"
           }
          ],
          "barpolar": [
           {
            "marker": {
             "line": {
              "color": "#E5ECF6",
              "width": 0.5
             },
             "pattern": {
              "fillmode": "overlay",
              "size": 10,
              "solidity": 0.2
             }
            },
            "type": "barpolar"
           }
          ],
          "carpet": [
           {
            "aaxis": {
             "endlinecolor": "#2a3f5f",
             "gridcolor": "white",
             "linecolor": "white",
             "minorgridcolor": "white",
             "startlinecolor": "#2a3f5f"
            },
            "baxis": {
             "endlinecolor": "#2a3f5f",
             "gridcolor": "white",
             "linecolor": "white",
             "minorgridcolor": "white",
             "startlinecolor": "#2a3f5f"
            },
            "type": "carpet"
           }
          ],
          "choropleth": [
           {
            "colorbar": {
             "outlinewidth": 0,
             "ticks": ""
            },
            "type": "choropleth"
           }
          ],
          "contour": [
           {
            "colorbar": {
             "outlinewidth": 0,
             "ticks": ""
            },
            "colorscale": [
             [
              0,
              "#0d0887"
             ],
             [
              0.1111111111111111,
              "#46039f"
             ],
             [
              0.2222222222222222,
              "#7201a8"
             ],
             [
              0.3333333333333333,
              "#9c179e"
             ],
             [
              0.4444444444444444,
              "#bd3786"
             ],
             [
              0.5555555555555556,
              "#d8576b"
             ],
             [
              0.6666666666666666,
              "#ed7953"
             ],
             [
              0.7777777777777778,
              "#fb9f3a"
             ],
             [
              0.8888888888888888,
              "#fdca26"
             ],
             [
              1,
              "#f0f921"
             ]
            ],
            "type": "contour"
           }
          ],
          "contourcarpet": [
           {
            "colorbar": {
             "outlinewidth": 0,
             "ticks": ""
            },
            "type": "contourcarpet"
           }
          ],
          "heatmap": [
           {
            "colorbar": {
             "outlinewidth": 0,
             "ticks": ""
            },
            "colorscale": [
             [
              0,
              "#0d0887"
             ],
             [
              0.1111111111111111,
              "#46039f"
             ],
             [
              0.2222222222222222,
              "#7201a8"
             ],
             [
              0.3333333333333333,
              "#9c179e"
             ],
             [
              0.4444444444444444,
              "#bd3786"
             ],
             [
              0.5555555555555556,
              "#d8576b"
             ],
             [
              0.6666666666666666,
              "#ed7953"
             ],
             [
              0.7777777777777778,
              "#fb9f3a"
             ],
             [
              0.8888888888888888,
              "#fdca26"
             ],
             [
              1,
              "#f0f921"
             ]
            ],
            "type": "heatmap"
           }
          ],
          "histogram": [
           {
            "marker": {
             "pattern": {
              "fillmode": "overlay",
              "size": 10,
              "solidity": 0.2
             }
            },
            "type": "histogram"
           }
          ],
          "histogram2d": [
           {
            "colorbar": {
             "outlinewidth": 0,
             "ticks": ""
            },
            "colorscale": [
             [
              0,
              "#0d0887"
             ],
             [
              0.1111111111111111,
              "#46039f"
             ],
             [
              0.2222222222222222,
              "#7201a8"
             ],
             [
              0.3333333333333333,
              "#9c179e"
             ],
             [
              0.4444444444444444,
              "#bd3786"
             ],
             [
              0.5555555555555556,
              "#d8576b"
             ],
             [
              0.6666666666666666,
              "#ed7953"
             ],
             [
              0.7777777777777778,
              "#fb9f3a"
             ],
             [
              0.8888888888888888,
              "#fdca26"
             ],
             [
              1,
              "#f0f921"
             ]
            ],
            "type": "histogram2d"
           }
          ],
          "histogram2dcontour": [
           {
            "colorbar": {
             "outlinewidth": 0,
             "ticks": ""
            },
            "colorscale": [
             [
              0,
              "#0d0887"
             ],
             [
              0.1111111111111111,
              "#46039f"
             ],
             [
              0.2222222222222222,
              "#7201a8"
             ],
             [
              0.3333333333333333,
              "#9c179e"
             ],
             [
              0.4444444444444444,
              "#bd3786"
             ],
             [
              0.5555555555555556,
              "#d8576b"
             ],
             [
              0.6666666666666666,
              "#ed7953"
             ],
             [
              0.7777777777777778,
              "#fb9f3a"
             ],
             [
              0.8888888888888888,
              "#fdca26"
             ],
             [
              1,
              "#f0f921"
             ]
            ],
            "type": "histogram2dcontour"
           }
          ],
          "mesh3d": [
           {
            "colorbar": {
             "outlinewidth": 0,
             "ticks": ""
            },
            "type": "mesh3d"
           }
          ],
          "parcoords": [
           {
            "line": {
             "colorbar": {
              "outlinewidth": 0,
              "ticks": ""
             }
            },
            "type": "parcoords"
           }
          ],
          "pie": [
           {
            "automargin": true,
            "type": "pie"
           }
          ],
          "scatter": [
           {
            "fillpattern": {
             "fillmode": "overlay",
             "size": 10,
             "solidity": 0.2
            },
            "type": "scatter"
           }
          ],
          "scatter3d": [
           {
            "line": {
             "colorbar": {
              "outlinewidth": 0,
              "ticks": ""
             }
            },
            "marker": {
             "colorbar": {
              "outlinewidth": 0,
              "ticks": ""
             }
            },
            "type": "scatter3d"
           }
          ],
          "scattercarpet": [
           {
            "marker": {
             "colorbar": {
              "outlinewidth": 0,
              "ticks": ""
             }
            },
            "type": "scattercarpet"
           }
          ],
          "scattergeo": [
           {
            "marker": {
             "colorbar": {
              "outlinewidth": 0,
              "ticks": ""
             }
            },
            "type": "scattergeo"
           }
          ],
          "scattergl": [
           {
            "marker": {
             "colorbar": {
              "outlinewidth": 0,
              "ticks": ""
             }
            },
            "type": "scattergl"
           }
          ],
          "scattermap": [
           {
            "marker": {
             "colorbar": {
              "outlinewidth": 0,
              "ticks": ""
             }
            },
            "type": "scattermap"
           }
          ],
          "scattermapbox": [
           {
            "marker": {
             "colorbar": {
              "outlinewidth": 0,
              "ticks": ""
             }
            },
            "type": "scattermapbox"
           }
          ],
          "scatterpolar": [
           {
            "marker": {
             "colorbar": {
              "outlinewidth": 0,
              "ticks": ""
             }
            },
            "type": "scatterpolar"
           }
          ],
          "scatterpolargl": [
           {
            "marker": {
             "colorbar": {
              "outlinewidth": 0,
              "ticks": ""
             }
            },
            "type": "scatterpolargl"
           }
          ],
          "scatterternary": [
           {
            "marker": {
             "colorbar": {
              "outlinewidth": 0,
              "ticks": ""
             }
            },
            "type": "scatterternary"
           }
          ],
          "surface": [
           {
            "colorbar": {
             "outlinewidth": 0,
             "ticks": ""
            },
            "colorscale": [
             [
              0,
              "#0d0887"
             ],
             [
              0.1111111111111111,
              "#46039f"
             ],
             [
              0.2222222222222222,
              "#7201a8"
             ],
             [
              0.3333333333333333,
              "#9c179e"
             ],
             [
              0.4444444444444444,
              "#bd3786"
             ],
             [
              0.5555555555555556,
              "#d8576b"
             ],
             [
              0.6666666666666666,
              "#ed7953"
             ],
             [
              0.7777777777777778,
              "#fb9f3a"
             ],
             [
              0.8888888888888888,
              "#fdca26"
             ],
             [
              1,
              "#f0f921"
             ]
            ],
            "type": "surface"
           }
          ],
          "table": [
           {
            "cells": {
             "fill": {
              "color": "#EBF0F8"
             },
             "line": {
              "color": "white"
             }
            },
            "header": {
             "fill": {
              "color": "#C8D4E3"
             },
             "line": {
              "color": "white"
             }
            },
            "type": "table"
           }
          ]
         },
         "layout": {
          "annotationdefaults": {
           "arrowcolor": "#2a3f5f",
           "arrowhead": 0,
           "arrowwidth": 1
          },
          "autotypenumbers": "strict",
          "coloraxis": {
           "colorbar": {
            "outlinewidth": 0,
            "ticks": ""
           }
          },
          "colorscale": {
           "diverging": [
            [
             0,
             "#8e0152"
            ],
            [
             0.1,
             "#c51b7d"
            ],
            [
             0.2,
             "#de77ae"
            ],
            [
             0.3,
             "#f1b6da"
            ],
            [
             0.4,
             "#fde0ef"
            ],
            [
             0.5,
             "#f7f7f7"
            ],
            [
             0.6,
             "#e6f5d0"
            ],
            [
             0.7,
             "#b8e186"
            ],
            [
             0.8,
             "#7fbc41"
            ],
            [
             0.9,
             "#4d9221"
            ],
            [
             1,
             "#276419"
            ]
           ],
           "sequential": [
            [
             0,
             "#0d0887"
            ],
            [
             0.1111111111111111,
             "#46039f"
            ],
            [
             0.2222222222222222,
             "#7201a8"
            ],
            [
             0.3333333333333333,
             "#9c179e"
            ],
            [
             0.4444444444444444,
             "#bd3786"
            ],
            [
             0.5555555555555556,
             "#d8576b"
            ],
            [
             0.6666666666666666,
             "#ed7953"
            ],
            [
             0.7777777777777778,
             "#fb9f3a"
            ],
            [
             0.8888888888888888,
             "#fdca26"
            ],
            [
             1,
             "#f0f921"
            ]
           ],
           "sequentialminus": [
            [
             0,
             "#0d0887"
            ],
            [
             0.1111111111111111,
             "#46039f"
            ],
            [
             0.2222222222222222,
             "#7201a8"
            ],
            [
             0.3333333333333333,
             "#9c179e"
            ],
            [
             0.4444444444444444,
             "#bd3786"
            ],
            [
             0.5555555555555556,
             "#d8576b"
            ],
            [
             0.6666666666666666,
             "#ed7953"
            ],
            [
             0.7777777777777778,
             "#fb9f3a"
            ],
            [
             0.8888888888888888,
             "#fdca26"
            ],
            [
             1,
             "#f0f921"
            ]
           ]
          },
          "colorway": [
           "#636efa",
           "#EF553B",
           "#00cc96",
           "#ab63fa",
           "#FFA15A",
           "#19d3f3",
           "#FF6692",
           "#B6E880",
           "#FF97FF",
           "#FECB52"
          ],
          "font": {
           "color": "#2a3f5f"
          },
          "geo": {
           "bgcolor": "white",
           "lakecolor": "white",
           "landcolor": "#E5ECF6",
           "showlakes": true,
           "showland": true,
           "subunitcolor": "white"
          },
          "hoverlabel": {
           "align": "left"
          },
          "hovermode": "closest",
          "mapbox": {
           "style": "light"
          },
          "paper_bgcolor": "white",
          "plot_bgcolor": "#E5ECF6",
          "polar": {
           "angularaxis": {
            "gridcolor": "white",
            "linecolor": "white",
            "ticks": ""
           },
           "bgcolor": "#E5ECF6",
           "radialaxis": {
            "gridcolor": "white",
            "linecolor": "white",
            "ticks": ""
           }
          },
          "scene": {
           "xaxis": {
            "backgroundcolor": "#E5ECF6",
            "gridcolor": "white",
            "gridwidth": 2,
            "linecolor": "white",
            "showbackground": true,
            "ticks": "",
            "zerolinecolor": "white"
           },
           "yaxis": {
            "backgroundcolor": "#E5ECF6",
            "gridcolor": "white",
            "gridwidth": 2,
            "linecolor": "white",
            "showbackground": true,
            "ticks": "",
            "zerolinecolor": "white"
           },
           "zaxis": {
            "backgroundcolor": "#E5ECF6",
            "gridcolor": "white",
            "gridwidth": 2,
            "linecolor": "white",
            "showbackground": true,
            "ticks": "",
            "zerolinecolor": "white"
           }
          },
          "shapedefaults": {
           "line": {
            "color": "#2a3f5f"
           }
          },
          "ternary": {
           "aaxis": {
            "gridcolor": "white",
            "linecolor": "white",
            "ticks": ""
           },
           "baxis": {
            "gridcolor": "white",
            "linecolor": "white",
            "ticks": ""
           },
           "bgcolor": "#E5ECF6",
           "caxis": {
            "gridcolor": "white",
            "linecolor": "white",
            "ticks": ""
           }
          },
          "title": {
           "x": 0.05
          },
          "xaxis": {
           "automargin": true,
           "gridcolor": "white",
           "linecolor": "white",
           "ticks": "",
           "title": {
            "standoff": 15
           },
           "zerolinecolor": "white",
           "zerolinewidth": 2
          },
          "yaxis": {
           "automargin": true,
           "gridcolor": "white",
           "linecolor": "white",
           "ticks": "",
           "title": {
            "standoff": 15
           },
           "zerolinecolor": "white",
           "zerolinewidth": 2
          }
         }
        },
        "title": {
         "text": "Number of Events Over Time in Olympics"
        },
        "xaxis": {
         "anchor": "y",
         "domain": [
          0,
          1
         ],
         "title": {
          "text": "Year"
         }
        },
        "yaxis": {
         "anchor": "x",
         "domain": [
          0,
          1
         ],
         "title": {
          "text": "No. of Events"
         }
        }
       }
      },
      "image/png": "[encoded data removed]"
     },
     "metadata": {},
     "output_type": "display_data"
    },
    {
     "data": {
      "application/vnd.plotly.v1+json": {
       "config": {
        "plotlyServerURL": "https://plot.ly"
       },
       "data": [
        {
         "hovertemplate": "Year=%{x}<br>No. of Athletes=%{y}<extra></extra>",
         "legendgroup": "",
         "line": {
          "color": "#636efa",
          "dash": "solid"
         },
         "marker": {
          "symbol": "circle"
         },
         "mode": "lines+markers",
         "name": "",
         "orientation": "v",
         "showlegend": false,
         "type": "scatter",
         "x": {
          "bdata": "aAdsB3AHcgd0B3gHgAeEB4gHjAeQB5wHoAekB6gHrAewB7QHuAe8B8AHxAfIB8oHzAfOB9AH0gfUB9YH2AfaB9wH3gfgBw==",
          "dtype": "i2"
         },
         "xaxis": "x",
         "y": {
          "bdata": "sADEBIoCSQPoB2kJcwrtDXYOfggSFMwT9RVGEHwXUhg3Gq8fGhyzGHkfhCakK8oGVCiCCI8pXQkpKb4JgCrnCQYpuAqmKw==",
          "dtype": "i2"
         },
         "yaxis": "y"
        }
       ],
       "layout": {
        "legend": {
         "tracegroupgap": 0
        },
        "template": {
         "data": {
          "bar": [
           {
            "error_x": {
             "color": "#2a3f5f"
            },
            "error_y": {
             "color": "#2a3f5f"
            },
            "marker": {
             "line": {
              "color": "#E5ECF6",
              "width": 0.5
             },
             "pattern": {
              "fillmode": "overlay",
              "size": 10,
              "solidity": 0.2
             }
            },
            "type": "bar"
           }
          ],
          "barpolar": [
           {
            "marker": {
             "line": {
              "color": "#E5ECF6",
              "width": 0.5
             },
             "pattern": {
              "fillmode": "overlay",
              "size": 10,
              "solidity": 0.2
             }
            },
            "type": "barpolar"
           }
          ],
          "carpet": [
           {
            "aaxis": {
             "endlinecolor": "#2a3f5f",
             "gridcolor": "white",
             "linecolor": "white",
             "minorgridcolor": "white",
             "startlinecolor": "#2a3f5f"
            },
            "baxis": {
             "endlinecolor": "#2a3f5f",
             "gridcolor": "white",
             "linecolor": "white",
             "minorgridcolor": "white",
             "startlinecolor": "#2a3f5f"
            },
            "type": "carpet"
           }
          ],
          "choropleth": [
           {
            "colorbar": {
             "outlinewidth": 0,
             "ticks": ""
            },
            "type": "choropleth"
           }
          ],
          "contour": [
           {
            "colorbar": {
             "outlinewidth": 0,
             "ticks": ""
            },
            "colorscale": [
             [
              0,
              "#0d0887"
             ],
             [
              0.1111111111111111,
              "#46039f"
             ],
             [
              0.2222222222222222,
              "#7201a8"
             ],
             [
              0.3333333333333333,
              "#9c179e"
             ],
             [
              0.4444444444444444,
              "#bd3786"
             ],
             [
              0.5555555555555556,
              "#d8576b"
             ],
             [
              0.6666666666666666,
              "#ed7953"
             ],
             [
              0.7777777777777778,
              "#fb9f3a"
             ],
             [
              0.8888888888888888,
              "#fdca26"
             ],
             [
              1,
              "#f0f921"
             ]
            ],
            "type": "contour"
           }
          ],
          "contourcarpet": [
           {
            "colorbar": {
             "outlinewidth": 0,
             "ticks": ""
            },
            "type": "contourcarpet"
           }
          ],
          "heatmap": [
           {
            "colorbar": {
             "outlinewidth": 0,
             "ticks": ""
            },
            "colorscale": [
             [
              0,
              "#0d0887"
             ],
             [
              0.1111111111111111,
              "#46039f"
             ],
             [
              0.2222222222222222,
              "#7201a8"
             ],
             [
              0.3333333333333333,
              "#9c179e"
             ],
             [
              0.4444444444444444,
              "#bd3786"
             ],
             [
              0.5555555555555556,
              "#d8576b"
             ],
             [
              0.6666666666666666,
              "#ed7953"
             ],
             [
              0.7777777777777778,
              "#fb9f3a"
             ],
             [
              0.8888888888888888,
              "#fdca26"
             ],
             [
              1,
              "#f0f921"
             ]
            ],
            "type": "heatmap"
           }
          ],
          "histogram": [
           {
            "marker": {
             "pattern": {
              "fillmode": "overlay",
              "size": 10,
              "solidity": 0.2
             }
            },
            "type": "histogram"
           }
          ],
          "histogram2d": [
           {
            "colorbar": {
             "outlinewidth": 0,
             "ticks": ""
            },
            "colorscale": [
             [
              0,
              "#0d0887"
             ],
             [
              0.1111111111111111,
              "#46039f"
             ],
             [
              0.2222222222222222,
              "#7201a8"
             ],
             [
              0.3333333333333333,
              "#9c179e"
             ],
             [
              0.4444444444444444,
              "#bd3786"
             ],
             [
              0.5555555555555556,
              "#d8576b"
             ],
             [
              0.6666666666666666,
              "#ed7953"
             ],
             [
              0.7777777777777778,
              "#fb9f3a"
             ],
             [
              0.8888888888888888,
              "#fdca26"
             ],
             [
              1,
              "#f0f921"
             ]
            ],
            "type": "histogram2d"
           }
          ],
          "histogram2dcontour": [
           {
            "colorbar": {
             "outlinewidth": 0,
             "ticks": ""
            },
            "colorscale": [
             [
              0,
              "#0d0887"
             ],
             [
              0.1111111111111111,
              "#46039f"
             ],
             [
              0.2222222222222222,
              "#7201a8"
             ],
             [
              0.3333333333333333,
              "#9c179e"
             ],
             [
              0.4444444444444444,
              "#bd3786"
             ],
             [
              0.5555555555555556,
              "#d8576b"
             ],
             [
              0.6666666666666666,
              "#ed7953"
             ],
             [
              0.7777777777777778,
              "#fb9f3a"
             ],
             [
              0.8888888888888888,
              "#fdca26"
             ],
             [
              1,
              "#f0f921"
             ]
            ],
            "type": "histogram2dcontour"
           }
          ],
          "mesh3d": [
           {
            "colorbar": {
             "outlinewidth": 0,
             "ticks": ""
            },
            "type": "mesh3d"
           }
          ],
          "parcoords": [
           {
            "line": {
             "colorbar": {
              "outlinewidth": 0,
              "ticks": ""
             }
            },
            "type": "parcoords"
           }
          ],
          "pie": [
           {
            "automargin": true,
            "type": "pie"
           }
          ],
          "scatter": [
           {
            "fillpattern": {
             "fillmode": "overlay",
             "size": 10,
             "solidity": 0.2
            },
            "type": "scatter"
           }
          ],
          "scatter3d": [
           {
            "line": {
             "colorbar": {
              "outlinewidth": 0,
              "ticks": ""
             }
            },
            "marker": {
             "colorbar": {
              "outlinewidth": 0,
              "ticks": ""
             }
            },
            "type": "scatter3d"
           }
          ],
          "scattercarpet": [
           {
            "marker": {
             "colorbar": {
              "outlinewidth": 0,
              "ticks": ""
             }
            },
            "type": "scattercarpet"
           }
          ],
          "scattergeo": [
           {
            "marker": {
             "colorbar": {
              "outlinewidth": 0,
              "ticks": ""
             }
            },
            "type": "scattergeo"
           }
          ],
          "scattergl": [
           {
            "marker": {
             "colorbar": {
              "outlinewidth": 0,
              "ticks": ""
             }
            },
            "type": "scattergl"
           }
          ],
          "scattermap": [
           {
            "marker": {
             "colorbar": {
              "outlinewidth": 0,
              "ticks": ""
             }
            },
            "type": "scattermap"
           }
          ],
          "scattermapbox": [
           {
            "marker": {
             "colorbar": {
              "outlinewidth": 0,
              "ticks": ""
             }
            },
            "type": "scattermapbox"
           }
          ],
          "scatterpolar": [
           {
            "marker": {
             "colorbar": {
              "outlinewidth": 0,
              "ticks": ""
             }
            },
            "type": "scatterpolar"
           }
          ],
          "scatterpolargl": [
           {
            "marker": {
             "colorbar": {
              "outlinewidth": 0,
              "ticks": ""
             }
            },
            "type": "scatterpolargl"
           }
          ],
          "scatterternary": [
           {
            "marker": {
             "colorbar": {
              "outlinewidth": 0,
              "ticks": ""
             }
            },
            "type": "scatterternary"
           }
          ],
          "surface": [
           {
            "colorbar": {
             "outlinewidth": 0,
             "ticks": ""
            },
            "colorscale": [
             [
              0,
              "#0d0887"
             ],
             [
              0.1111111111111111,
              "#46039f"
             ],
             [
              0.2222222222222222,
              "#7201a8"
             ],
             [
              0.3333333333333333,
              "#9c179e"
             ],
             [
              0.4444444444444444,
              "#bd3786"
             ],
             [
              0.5555555555555556,
              "#d8576b"
             ],
             [
              0.6666666666666666,
              "#ed7953"
             ],
             [
              0.7777777777777778,
              "#fb9f3a"
             ],
             [
              0.8888888888888888,
              "#fdca26"
             ],
             [
              1,
              "#f0f921"
             ]
            ],
            "type": "surface"
           }
          ],
          "table": [
           {
            "cells": {
             "fill": {
              "color": "#EBF0F8"
             },
             "line": {
              "color": "white"
             }
            },
            "header": {
             "fill": {
              "color": "#C8D4E3"
             },
             "line": {
              "color": "white"
             }
            },
            "type": "table"
           }
          ]
         },
         "layout": {
          "annotationdefaults": {
           "arrowcolor": "#2a3f5f",
           "arrowhead": 0,
           "arrowwidth": 1
          },
          "autotypenumbers": "strict",
          "coloraxis": {
           "colorbar": {
            "outlinewidth": 0,
            "ticks": ""
           }
          },
          "colorscale": {
           "diverging": [
            [
             0,
             "#8e0152"
            ],
            [
             0.1,
             "#c51b7d"
            ],
            [
             0.2,
             "#de77ae"
            ],
            [
             0.3,
             "#f1b6da"
            ],
            [
             0.4,
             "#fde0ef"
            ],
            [
             0.5,
             "#f7f7f7"
            ],
            [
             0.6,
             "#e6f5d0"
            ],
            [
             0.7,
             "#b8e186"
            ],
            [
             0.8,
             "#7fbc41"
            ],
            [
             0.9,
             "#4d9221"
            ],
            [
             1,
             "#276419"
            ]
           ],
           "sequential": [
            [
             0,
             "#0d0887"
            ],
            [
             0.1111111111111111,
             "#46039f"
            ],
            [
             0.2222222222222222,
             "#7201a8"
            ],
            [
             0.3333333333333333,
             "#9c179e"
            ],
            [
             0.4444444444444444,
             "#bd3786"
            ],
            [
             0.5555555555555556,
             "#d8576b"
            ],
            [
             0.6666666666666666,
             "#ed7953"
            ],
            [
             0.7777777777777778,
             "#fb9f3a"
            ],
            [
             0.8888888888888888,
             "#fdca26"
            ],
            [
             1,
             "#f0f921"
            ]
           ],
           "sequentialminus": [
            [
             0,
             "#0d0887"
            ],
            [
             0.1111111111111111,
             "#46039f"
            ],
            [
             0.2222222222222222,
             "#7201a8"
            ],
            [
             0.3333333333333333,
             "#9c179e"
            ],
            [
             0.4444444444444444,
             "#bd3786"
            ],
            [
             0.5555555555555556,
             "#d8576b"
            ],
            [
             0.6666666666666666,
             "#ed7953"
            ],
            [
             0.7777777777777778,
             "#fb9f3a"
            ],
            [
             0.8888888888888888,
             "#fdca26"
            ],
            [
             1,
             "#f0f921"
            ]
           ]
          },
          "colorway": [
           "#636efa",
           "#EF553B",
           "#00cc96",
           "#ab63fa",
           "#FFA15A",
           "#19d3f3",
           "#FF6692",
           "#B6E880",
           "#FF97FF",
           "#FECB52"
          ],
          "font": {
           "color": "#2a3f5f"
          },
          "geo": {
           "bgcolor": "white",
           "lakecolor": "white",
           "landcolor": "#E5ECF6",
           "showlakes": true,
           "showland": true,
           "subunitcolor": "white"
          },
          "hoverlabel": {
           "align": "left"
          },
          "hovermode": "closest",
          "mapbox": {
           "style": "light"
          },
          "paper_bgcolor": "white",
          "plot_bgcolor": "#E5ECF6",
          "polar": {
           "angularaxis": {
            "gridcolor": "white",
            "linecolor": "white",
            "ticks": ""
           },
           "bgcolor": "#E5ECF6",
           "radialaxis": {
            "gridcolor": "white",
            "linecolor": "white",
            "ticks": ""
           }
          },
          "scene": {
           "xaxis": {
            "backgroundcolor": "#E5ECF6",
            "gridcolor": "white",
            "gridwidth": 2,
            "linecolor": "white",
            "showbackground": true,
            "ticks": "",
            "zerolinecolor": "white"
           },
           "yaxis": {
            "backgroundcolor": "#E5ECF6",
            "gridcolor": "white",
            "gridwidth": 2,
            "linecolor": "white",
            "showbackground": true,
            "ticks": "",
            "zerolinecolor": "white"
           },
           "zaxis": {
            "backgroundcolor": "#E5ECF6",
            "gridcolor": "white",
            "gridwidth": 2,
            "linecolor": "white",
            "showbackground": true,
            "ticks": "",
            "zerolinecolor": "white"
           }
          },
          "shapedefaults": {
           "line": {
            "color": "#2a3f5f"
           }
          },
          "ternary": {
           "aaxis": {
            "gridcolor": "white",
            "linecolor": "white",
            "ticks": ""
           },
           "baxis": {
            "gridcolor": "white",
            "linecolor": "white",
            "ticks": ""
           },
           "bgcolor": "#E5ECF6",
           "caxis": {
            "gridcolor": "white",
            "linecolor": "white",
            "ticks": ""
           }
          },
          "title": {
           "x": 0.05
          },
          "xaxis": {
           "automargin": true,
           "gridcolor": "white",
           "linecolor": "white",
           "ticks": "",
           "title": {
            "standoff": 15
           },
           "zerolinecolor": "white",
           "zerolinewidth": 2
          },
          "yaxis": {
           "automargin": true,
           "gridcolor": "white",
           "linecolor": "white",
           "ticks": "",
           "title": {
            "standoff": 15
           },
           "zerolinecolor": "white",
           "zerolinewidth": 2
          }
         }
        },
        "title": {
         "text": "Number of Athletes Over Time in Olympics"
        },
        "xaxis": {
         "anchor": "y",
         "domain": [
          0,
          1
         ],
         "title": {
          "text": "Year"
         }
        },
        "yaxis": {
         "anchor": "x",
         "domain": [
          0,
          1
         ],
         "title": {
          "text": "No. of Athletes"
         }
        }
       }
      },
      "image/png": "[encoded data removed]"
     },
     "metadata": {},
     "output_type": "display_data"
    },
    {
     "data": {
      "image/png": "[encoded data removed]",
      "text/plain": [
       "<Figure size 1500x1000 with 2 Axes>"
      ]
     },
     "metadata": {},
     "output_type": "display_data"
    }
   ],
   "source": [
    "import numpy as np\n",
    "import pandas as pd\n",
    "import plotly.express as px\n",
    "import seaborn as sns\n",
    "import matplotlib.pyplot as plt\n",
    "\n",
    "# -------------------\n",
    "# Load and merge data\n",
    "# -------------------\n",
    "df = pd.read_csv(\"athlete_events.csv\")\n",
    "regions_df = pd.read_csv(\"noc_regions.csv\")\n",
    "\n",
    "df = df.merge(regions_df, on='NOC', how='left')\n",
    "df['region'] = df['region'].fillna('Unknown')\n",
    "\n",
    "# -------------------\n",
    "# 1. Number of Countries Over Time\n",
    "# -------------------\n",
    "nations_over_time = (\n",
    "    df.drop_duplicates(['Year', 'region'])\n",
    "      .groupby('Year')['region']\n",
    "      .nunique()\n",
    "      .reset_index()\n",
    "      .rename(columns={'region': 'No. of Countries'})\n",
    ")\n",
    "\n",
    "fig = px.line(\n",
    "    nations_over_time,\n",
    "    x='Year', y='No. of Countries',\n",
    "    markers=True,\n",
    "    title='Number of Countries Over Time in Olympics'\n",
    ")\n",
    "fig.show()\n",
    "\n",
    "# -------------------\n",
    "# 2. Number of Events Over Time\n",
    "# -------------------\n",
    "events_over_time = (\n",
    "    df.drop_duplicates(['Year', 'Event'])\n",
    "      .groupby('Year')['Event']\n",
    "      .count()\n",
    "      .reset_index()\n",
    "      .rename(columns={'Event': 'No. of Events'})\n",
    ")\n",
    "\n",
    "fig = px.line(\n",
    "    events_over_time,\n",
    "    x='Year', y='No. of Events',\n",
    "    markers=True,\n",
    "    title='Number of Events Over Time in Olympics'\n",
    ")\n",
    "fig.show()\n",
    "\n",
    "# -------------------\n",
    "# 3. Number of Athletes Over Time\n",
    "# -------------------\n",
    "athletes_over_time = (\n",
    "    df.drop_duplicates(['Year', 'Name'])\n",
    "      .groupby('Year')['Name']\n",
    "      .count()\n",
    "      .reset_index()\n",
    "      .rename(columns={'Name': 'No. of Athletes'})\n",
    ")\n",
    "\n",
    "fig = px.line(\n",
    "    athletes_over_time,\n",
    "    x='Year', y='No. of Athletes',\n",
    "    markers=True,\n",
    "    title='Number of Athletes Over Time in Olympics'\n",
    ")\n",
    "fig.show()\n",
    "\n",
    "# -------------------\n",
    "# 4. Heatmap: Sports vs Editions\n",
    "# -------------------\n",
    "pivot = df.drop_duplicates(['Year', 'Sport', 'Event']) \\\n",
    "          .pivot_table(index='Sport', columns='Year', values='Event', aggfunc='count') \\\n",
    "          .fillna(0)\n",
    "\n",
    "plt.figure(figsize=(15,10))\n",
    "sns.heatmap(pivot, cmap=\"YlGnBu\")\n",
    "plt.title(\"Number of Events per Sport across Olympic Editions\")\n",
    "plt.show()\n"
   ]
  },
  {
   "cell_type": "code",
   "execution_count": 10,
   "id": "2c8d7ebb-b2df-4132-adac-2b658f7c2060",
   "metadata": {},
   "outputs": [
    {
     "data": {
      "image/png": "[encoded data removed]",
      "text/plain": [
       "<Figure size 1200x600 with 1 Axes>"
      ]
     },
     "metadata": {},
     "output_type": "display_data"
    }
   ],
   "source": [
    "import pandas as pd\n",
    "import seaborn as sns\n",
    "import matplotlib.pyplot as plt\n",
    "\n",
    "# Load datasets (change path if needed)\n",
    "df = pd.read_csv(\"athlete_events.csv\")\n",
    "region_df = pd.read_csv(\"noc_regions.csv\")\n",
    "\n",
    "# Merge to add \"region\" column\n",
    "df = df.merge(region_df, on=\"NOC\", how=\"left\")\n",
    "\n",
    "# Nations over time\n",
    "nations_over_time = df.drop_duplicates([\"Year\", \"region\"]) \\\n",
    "                      .groupby(\"Year\")[\"region\"].count().reset_index()\n",
    "\n",
    "# Rename columns for clarity\n",
    "nations_over_time.rename(columns={\"Year\": \"Edition\", \"region\": \"No. of Nations\"}, inplace=True)\n",
    "\n",
    "# Plot line chart\n",
    "plt.figure(figsize=(12,6))\n",
    "sns.lineplot(data=nations_over_time, x=\"Edition\", y=\"No. of Nations\", marker=\"o\")\n",
    "plt.title(\"Number of Nations Participating Over Time\")\n",
    "plt.xlabel(\"Olympic Edition (Year)\")\n",
    "plt.ylabel(\"No. of Nations\")\n",
    "plt.show()\n"
   ]
  },
  {
   "cell_type": "raw",
   "id": "60531864-ce5c-4b21-8222-3167a7c80d65",
   "metadata": {},
   "source": [
    "df.drop_duplicates"
   ]
  },
  {
   "cell_type": "code",
   "execution_count": 11,
   "id": "d0b8da76-1ad1-4529-b690-5587a3684d2a",
   "metadata": {},
   "outputs": [],
   "source": [
    "x=df.drop_duplicates(['Year','Sport','Event'])"
   ]
  },
  {
   "cell_type": "code",
   "execution_count": 12,
   "id": "8781f061-ad88-41c4-ad96-5324a0ea8f08",
   "metadata": {},
   "outputs": [
    {
     "data": {
      "image/png": "[encoded data removed]",
      "text/plain": [
       "<Figure size 1500x800 with 2 Axes>"
      ]
     },
     "metadata": {},
     "output_type": "display_data"
    }
   ],
   "source": [
    "import pandas as pd\n",
    "import matplotlib.pyplot as plt\n",
    "\n",
    "# Load dataset (update path if needed)\n",
    "df = pd.read_csv(\"athlete_events.csv\")\n",
    "\n",
    "# Pivot table: Sport vs Year with medal counts\n",
    "pivot = df.pivot_table(index='Sport', columns='Year', values='Medal', aggfunc='count').fillna(0).astype(int)\n",
    "\n",
    "# Plot heatmap\n",
    "plt.figure(figsize=(15,8))\n",
    "import seaborn as sns\n",
    "sns.heatmap(pivot, cmap=\"YlGnBu\")\n",
    "plt.title(\"Medals by Sport and Year\")\n",
    "plt.show()\n"
   ]
  },
  {
   "cell_type": "code",
   "execution_count": 4,
   "id": "fa1c1bcb-e05c-4cea-b6b6-95c04c878022",
   "metadata": {},
   "outputs": [
    {
     "name": "stdout",
     "output_type": "stream",
     "text": [
      "   ID                      Name Sex   Age  Height  Weight            Team  \\\n",
      "0   1                 A Dijiang   M  24.0   180.0    80.0           China   \n",
      "1   2                  A Lamusi   M  23.0   170.0    60.0           China   \n",
      "2   3       Gunnar Nielsen Aaby   M  24.0     NaN     NaN         Denmark   \n",
      "3   4      Edgar Lindenau Aabye   M  34.0     NaN     NaN  Denmark/Sweden   \n",
      "4   5  Christine Jacoba Aaftink   F  21.0   185.0    82.0     Netherlands   \n",
      "\n",
      "   NOC        Games  Year  Season       City          Sport  \\\n",
      "0  CHN  1992 Summer  1992  Summer  Barcelona     Basketball   \n",
      "1  CHN  2012 Summer  2012  Summer     London           Judo   \n",
      "2  DEN  1920 Summer  1920  Summer  Antwerpen       Football   \n",
      "3  DEN  1900 Summer  1900  Summer      Paris     Tug-Of-War   \n",
      "4  NED  1988 Winter  1988  Winter    Calgary  Speed Skating   \n",
      "\n",
      "                              Event Medal       region notes  \n",
      "0       Basketball Men's Basketball   NaN        China   NaN  \n",
      "1      Judo Men's Extra-Lightweight   NaN        China   NaN  \n",
      "2           Football Men's Football   NaN      Denmark   NaN  \n",
      "3       Tug-Of-War Men's Tug-Of-War  Gold      Denmark   NaN  \n",
      "4  Speed Skating Women's 500 metres   NaN  Netherlands   NaN  \n"
     ]
    }
   ],
   "source": [
    "import pandas as pd\n",
    "\n",
    "# Load dataset\n",
    "df = pd.read_csv(\"athlete_events.csv\")\n",
    "noc_df = pd.read_csv(\"noc_regions.csv\")\n",
    "\n",
    "# Merge with NOC regions\n",
    "df = df.merge(noc_df, on=\"NOC\", how=\"left\")\n",
    "\n",
    "print(df.head())\n"
   ]
  },
  {
   "cell_type": "code",
   "execution_count": 5,
   "id": "914bdbc9-a92d-45dc-89fe-5e3ddae7b866",
   "metadata": {},
   "outputs": [
    {
     "name": "stdout",
     "output_type": "stream",
     "text": [
      "   ID                      Name Sex   Age  Height  Weight            Team  \\\n",
      "0   1                 A Dijiang   M  24.0   180.0    80.0           China   \n",
      "1   2                  A Lamusi   M  23.0   170.0    60.0           China   \n",
      "2   3       Gunnar Nielsen Aaby   M  24.0     NaN     NaN         Denmark   \n",
      "3   4      Edgar Lindenau Aabye   M  34.0     NaN     NaN  Denmark/Sweden   \n",
      "4   5  Christine Jacoba Aaftink   F  21.0   185.0    82.0     Netherlands   \n",
      "\n",
      "   NOC        Games  Year  Season       City          Sport  \\\n",
      "0  CHN  1992 Summer  1992  Summer  Barcelona     Basketball   \n",
      "1  CHN  2012 Summer  2012  Summer     London           Judo   \n",
      "2  DEN  1920 Summer  1920  Summer  Antwerpen       Football   \n",
      "3  DEN  1900 Summer  1900  Summer      Paris     Tug-Of-War   \n",
      "4  NED  1988 Winter  1988  Winter    Calgary  Speed Skating   \n",
      "\n",
      "                              Event Medal       region notes  Medal_Count  \n",
      "0       Basketball Men's Basketball   NaN        China   NaN            0  \n",
      "1      Judo Men's Extra-Lightweight   NaN        China   NaN            0  \n",
      "2           Football Men's Football   NaN      Denmark   NaN            0  \n",
      "3       Tug-Of-War Men's Tug-Of-War  Gold      Denmark   NaN            1  \n",
      "4  Speed Skating Women's 500 metres   NaN  Netherlands   NaN            0  \n"
     ]
    }
   ],
   "source": [
    "# Count medals per athlete\n",
    "df1 = df.dropna(subset=[\"Medal\"]) \\\n",
    "        .groupby(\"Name\")[\"Medal\"] \\\n",
    "        .count() \\\n",
    "        .reset_index()\n",
    "\n",
    "# Rename for clarity\n",
    "df1.columns = [\"Name\", \"Medal_Count\"]\n",
    "\n",
    "# Merge with original dataframe\n",
    "merged = df.merge(df1, on=\"Name\", how=\"left\")\n",
    "\n",
    "# Fill NaN with 0 for athletes who never won medals\n",
    "merged[\"Medal_Count\"] = merged[\"Medal_Count\"].fillna(0).astype(int)\n",
    "\n",
    "print(merged.head())\n"
   ]
  },
  {
   "cell_type": "code",
   "execution_count": 15,
   "id": "e4718478-3586-42b0-a6ad-07f8a721d21a",
   "metadata": {},
   "outputs": [],
   "source": [
    "def most_successful(df, sport):\n",
    "    temp_df = df.dropna(subset=[\"Medal\"])\n",
    "\n",
    "    if sport != \"Overall\":\n",
    "        temp_df = temp_df[temp_df[\"Sport\"] == sport]\n",
    "\n",
    "    # Count medals per athlete\n",
    "    medal_counts = temp_df.groupby(\"Name\")[\"Medal\"].count().reset_index()\n",
    "    medal_counts = medal_counts.rename(columns={\"Medal\": \"Total_Medals\"})\n",
    "\n",
    "    # Get the most frequent Sport and region for each athlete\n",
    "    sport_region = temp_df.groupby(\"Name\").agg({\n",
    "        \"Sport\": lambda x: x.value_counts().index[0],\n",
    "        \"region\": lambda x: x.value_counts().index[0]\n",
    "    }).reset_index()\n",
    "\n",
    "    # Merge counts with sport & region\n",
    "    top_athletes = medal_counts.merge(sport_region, on=\"Name\", how=\"left\")\n",
    "\n",
    "    # Sort by total medals\n",
    "    top_athletes = top_athletes.sort_values(\"Total_Medals\", ascending=False).head(15)\n",
    "\n",
    "    return top_athletes\n"
   ]
  },
  {
   "cell_type": "code",
   "execution_count": 17,
   "id": "9c6ae150-abed-406f-a90a-d5992f105132",
   "metadata": {},
   "outputs": [
    {
     "name": "stdout",
     "output_type": "stream",
     "text": [
      "                                    Name  Total_Medals       Sport  \\\n",
      "736   Larysa Semenivna Latynina (Diriy-)            18  Gymnastics   \n",
      "914         Nikolay Yefimovich Andrianov            15  Gymnastics   \n",
      "154          Borys Anfiyanovych Shakhlin            13  Gymnastics   \n",
      "1136                         Takashi Ono            13  Gymnastics   \n",
      "28               Aleksey Yuryevich Nemov            12  Gymnastics   \n",
      "1072                          Sawao Kato            12  Gymnastics   \n",
      "1201           Viktor Ivanovych Chukarin            11  Gymnastics   \n",
      "1228              Vra slavsk (-Odloilov)            11  Gymnastics   \n",
      "1013         Polina Hryhorivna Astakhova            10  Gymnastics   \n",
      "11                      Akinori Nakayama            10  Gymnastics   \n",
      "1306           gnes Keleti-Srkny (Klein)            10  Gymnastics   \n",
      "23       Aleksandr Nikolayevich Dityatin            10  Gymnastics   \n",
      "1212       Vitaly Venediktovich Shcherbo            10  Gymnastics   \n",
      "1286           Yury Yevlampiyevich Titov             9  Gymnastics   \n",
      "885                     Mitsuo Tsukahara             9  Gymnastics   \n",
      "\n",
      "              region  \n",
      "736           Russia  \n",
      "914           Russia  \n",
      "154           Russia  \n",
      "1136           Japan  \n",
      "28            Russia  \n",
      "1072           Japan  \n",
      "1201          Russia  \n",
      "1228  Czech Republic  \n",
      "1013          Russia  \n",
      "11             Japan  \n",
      "1306         Hungary  \n",
      "23            Russia  \n",
      "1212          Russia  \n",
      "1286          Russia  \n",
      "885            Japan  \n"
     ]
    }
   ],
   "source": [
    "top_gymnasts = most_successful(df, \"Gymnastics\")\n",
    "print(top_gymnasts)\n"
   ]
  },
  {
   "cell_type": "markdown",
   "id": "ab2fd768-420d-4403-9e1e-b4176a0127ec",
   "metadata": {},
   "source": [
    "Country Wise"
   ]
  },
  {
   "cell_type": "code",
   "execution_count": 18,
   "id": "dd38d2fd-624e-48ca-bf19-1bcf091a6a76",
   "metadata": {},
   "outputs": [
    {
     "data": {
      "text/html": [
       "<div>\n",
       "<style scoped>\n",
       "    .dataframe tbody tr th:only-of-type {\n",
       "        vertical-align: middle;\n",
       "    }\n",
       "\n",
       "    .dataframe tbody tr th {\n",
       "        vertical-align: top;\n",
       "    }\n",
       "\n",
       "    .dataframe thead th {\n",
       "        text-align: right;\n",
       "    }\n",
       "</style>\n",
       "<table border=\"1\" class=\"dataframe\">\n",
       "  <thead>\n",
       "    <tr style=\"text-align: right;\">\n",
       "      <th></th>\n",
       "      <th>ID</th>\n",
       "      <th>Name</th>\n",
       "      <th>Sex</th>\n",
       "      <th>Age</th>\n",
       "      <th>Height</th>\n",
       "      <th>Weight</th>\n",
       "      <th>Team</th>\n",
       "      <th>NOC</th>\n",
       "      <th>Games</th>\n",
       "      <th>Year</th>\n",
       "      <th>Season</th>\n",
       "      <th>City</th>\n",
       "      <th>Sport</th>\n",
       "      <th>Event</th>\n",
       "      <th>Medal</th>\n",
       "      <th>region</th>\n",
       "      <th>notes</th>\n",
       "    </tr>\n",
       "  </thead>\n",
       "  <tbody>\n",
       "    <tr>\n",
       "      <th>0</th>\n",
       "      <td>1</td>\n",
       "      <td>A Dijiang</td>\n",
       "      <td>M</td>\n",
       "      <td>24.0</td>\n",
       "      <td>180.0</td>\n",
       "      <td>80.0</td>\n",
       "      <td>China</td>\n",
       "      <td>CHN</td>\n",
       "      <td>1992 Summer</td>\n",
       "      <td>1992</td>\n",
       "      <td>Summer</td>\n",
       "      <td>Barcelona</td>\n",
       "      <td>Basketball</td>\n",
       "      <td>Basketball Men's Basketball</td>\n",
       "      <td>NaN</td>\n",
       "      <td>China</td>\n",
       "      <td>NaN</td>\n",
       "    </tr>\n",
       "    <tr>\n",
       "      <th>1</th>\n",
       "      <td>2</td>\n",
       "      <td>A Lamusi</td>\n",
       "      <td>M</td>\n",
       "      <td>23.0</td>\n",
       "      <td>170.0</td>\n",
       "      <td>60.0</td>\n",
       "      <td>China</td>\n",
       "      <td>CHN</td>\n",
       "      <td>2012 Summer</td>\n",
       "      <td>2012</td>\n",
       "      <td>Summer</td>\n",
       "      <td>London</td>\n",
       "      <td>Judo</td>\n",
       "      <td>Judo Men's Extra-Lightweight</td>\n",
       "      <td>NaN</td>\n",
       "      <td>China</td>\n",
       "      <td>NaN</td>\n",
       "    </tr>\n",
       "    <tr>\n",
       "      <th>2</th>\n",
       "      <td>3</td>\n",
       "      <td>Gunnar Nielsen Aaby</td>\n",
       "      <td>M</td>\n",
       "      <td>24.0</td>\n",
       "      <td>NaN</td>\n",
       "      <td>NaN</td>\n",
       "      <td>Denmark</td>\n",
       "      <td>DEN</td>\n",
       "      <td>1920 Summer</td>\n",
       "      <td>1920</td>\n",
       "      <td>Summer</td>\n",
       "      <td>Antwerpen</td>\n",
       "      <td>Football</td>\n",
       "      <td>Football Men's Football</td>\n",
       "      <td>NaN</td>\n",
       "      <td>Denmark</td>\n",
       "      <td>NaN</td>\n",
       "    </tr>\n",
       "    <tr>\n",
       "      <th>3</th>\n",
       "      <td>4</td>\n",
       "      <td>Edgar Lindenau Aabye</td>\n",
       "      <td>M</td>\n",
       "      <td>34.0</td>\n",
       "      <td>NaN</td>\n",
       "      <td>NaN</td>\n",
       "      <td>Denmark/Sweden</td>\n",
       "      <td>DEN</td>\n",
       "      <td>1900 Summer</td>\n",
       "      <td>1900</td>\n",
       "      <td>Summer</td>\n",
       "      <td>Paris</td>\n",
       "      <td>Tug-Of-War</td>\n",
       "      <td>Tug-Of-War Men's Tug-Of-War</td>\n",
       "      <td>Gold</td>\n",
       "      <td>Denmark</td>\n",
       "      <td>NaN</td>\n",
       "    </tr>\n",
       "    <tr>\n",
       "      <th>4</th>\n",
       "      <td>5</td>\n",
       "      <td>Christine Jacoba Aaftink</td>\n",
       "      <td>F</td>\n",
       "      <td>21.0</td>\n",
       "      <td>185.0</td>\n",
       "      <td>82.0</td>\n",
       "      <td>Netherlands</td>\n",
       "      <td>NED</td>\n",
       "      <td>1988 Winter</td>\n",
       "      <td>1988</td>\n",
       "      <td>Winter</td>\n",
       "      <td>Calgary</td>\n",
       "      <td>Speed Skating</td>\n",
       "      <td>Speed Skating Women's 500 metres</td>\n",
       "      <td>NaN</td>\n",
       "      <td>Netherlands</td>\n",
       "      <td>NaN</td>\n",
       "    </tr>\n",
       "    <tr>\n",
       "      <th>...</th>\n",
       "      <td>...</td>\n",
       "      <td>...</td>\n",
       "      <td>...</td>\n",
       "      <td>...</td>\n",
       "      <td>...</td>\n",
       "      <td>...</td>\n",
       "      <td>...</td>\n",
       "      <td>...</td>\n",
       "      <td>...</td>\n",
       "      <td>...</td>\n",
       "      <td>...</td>\n",
       "      <td>...</td>\n",
       "      <td>...</td>\n",
       "      <td>...</td>\n",
       "      <td>...</td>\n",
       "      <td>...</td>\n",
       "      <td>...</td>\n",
       "    </tr>\n",
       "    <tr>\n",
       "      <th>271111</th>\n",
       "      <td>135569</td>\n",
       "      <td>Andrzej ya</td>\n",
       "      <td>M</td>\n",
       "      <td>29.0</td>\n",
       "      <td>179.0</td>\n",
       "      <td>89.0</td>\n",
       "      <td>Poland-1</td>\n",
       "      <td>POL</td>\n",
       "      <td>1976 Winter</td>\n",
       "      <td>1976</td>\n",
       "      <td>Winter</td>\n",
       "      <td>Innsbruck</td>\n",
       "      <td>Luge</td>\n",
       "      <td>Luge Mixed (Men)'s Doubles</td>\n",
       "      <td>NaN</td>\n",
       "      <td>Poland</td>\n",
       "      <td>NaN</td>\n",
       "    </tr>\n",
       "    <tr>\n",
       "      <th>271112</th>\n",
       "      <td>135570</td>\n",
       "      <td>Piotr ya</td>\n",
       "      <td>M</td>\n",
       "      <td>27.0</td>\n",
       "      <td>176.0</td>\n",
       "      <td>59.0</td>\n",
       "      <td>Poland</td>\n",
       "      <td>POL</td>\n",
       "      <td>2014 Winter</td>\n",
       "      <td>2014</td>\n",
       "      <td>Winter</td>\n",
       "      <td>Sochi</td>\n",
       "      <td>Ski Jumping</td>\n",
       "      <td>Ski Jumping Men's Large Hill, Individual</td>\n",
       "      <td>NaN</td>\n",
       "      <td>Poland</td>\n",
       "      <td>NaN</td>\n",
       "    </tr>\n",
       "    <tr>\n",
       "      <th>271113</th>\n",
       "      <td>135570</td>\n",
       "      <td>Piotr ya</td>\n",
       "      <td>M</td>\n",
       "      <td>27.0</td>\n",
       "      <td>176.0</td>\n",
       "      <td>59.0</td>\n",
       "      <td>Poland</td>\n",
       "      <td>POL</td>\n",
       "      <td>2014 Winter</td>\n",
       "      <td>2014</td>\n",
       "      <td>Winter</td>\n",
       "      <td>Sochi</td>\n",
       "      <td>Ski Jumping</td>\n",
       "      <td>Ski Jumping Men's Large Hill, Team</td>\n",
       "      <td>NaN</td>\n",
       "      <td>Poland</td>\n",
       "      <td>NaN</td>\n",
       "    </tr>\n",
       "    <tr>\n",
       "      <th>271114</th>\n",
       "      <td>135571</td>\n",
       "      <td>Tomasz Ireneusz ya</td>\n",
       "      <td>M</td>\n",
       "      <td>30.0</td>\n",
       "      <td>185.0</td>\n",
       "      <td>96.0</td>\n",
       "      <td>Poland</td>\n",
       "      <td>POL</td>\n",
       "      <td>1998 Winter</td>\n",
       "      <td>1998</td>\n",
       "      <td>Winter</td>\n",
       "      <td>Nagano</td>\n",
       "      <td>Bobsleigh</td>\n",
       "      <td>Bobsleigh Men's Four</td>\n",
       "      <td>NaN</td>\n",
       "      <td>Poland</td>\n",
       "      <td>NaN</td>\n",
       "    </tr>\n",
       "    <tr>\n",
       "      <th>271115</th>\n",
       "      <td>135571</td>\n",
       "      <td>Tomasz Ireneusz ya</td>\n",
       "      <td>M</td>\n",
       "      <td>34.0</td>\n",
       "      <td>185.0</td>\n",
       "      <td>96.0</td>\n",
       "      <td>Poland</td>\n",
       "      <td>POL</td>\n",
       "      <td>2002 Winter</td>\n",
       "      <td>2002</td>\n",
       "      <td>Winter</td>\n",
       "      <td>Salt Lake City</td>\n",
       "      <td>Bobsleigh</td>\n",
       "      <td>Bobsleigh Men's Four</td>\n",
       "      <td>NaN</td>\n",
       "      <td>Poland</td>\n",
       "      <td>NaN</td>\n",
       "    </tr>\n",
       "  </tbody>\n",
       "</table>\n",
       "<p>271116 rows × 17 columns</p>\n",
       "</div>"
      ],
      "text/plain": [
       "            ID                      Name Sex   Age  Height  Weight  \\\n",
       "0            1                 A Dijiang   M  24.0   180.0    80.0   \n",
       "1            2                  A Lamusi   M  23.0   170.0    60.0   \n",
       "2            3       Gunnar Nielsen Aaby   M  24.0     NaN     NaN   \n",
       "3            4      Edgar Lindenau Aabye   M  34.0     NaN     NaN   \n",
       "4            5  Christine Jacoba Aaftink   F  21.0   185.0    82.0   \n",
       "...        ...                       ...  ..   ...     ...     ...   \n",
       "271111  135569                Andrzej ya   M  29.0   179.0    89.0   \n",
       "271112  135570                  Piotr ya   M  27.0   176.0    59.0   \n",
       "271113  135570                  Piotr ya   M  27.0   176.0    59.0   \n",
       "271114  135571        Tomasz Ireneusz ya   M  30.0   185.0    96.0   \n",
       "271115  135571        Tomasz Ireneusz ya   M  34.0   185.0    96.0   \n",
       "\n",
       "                  Team  NOC        Games  Year  Season            City  \\\n",
       "0                China  CHN  1992 Summer  1992  Summer       Barcelona   \n",
       "1                China  CHN  2012 Summer  2012  Summer          London   \n",
       "2              Denmark  DEN  1920 Summer  1920  Summer       Antwerpen   \n",
       "3       Denmark/Sweden  DEN  1900 Summer  1900  Summer           Paris   \n",
       "4          Netherlands  NED  1988 Winter  1988  Winter         Calgary   \n",
       "...                ...  ...          ...   ...     ...             ...   \n",
       "271111        Poland-1  POL  1976 Winter  1976  Winter       Innsbruck   \n",
       "271112          Poland  POL  2014 Winter  2014  Winter           Sochi   \n",
       "271113          Poland  POL  2014 Winter  2014  Winter           Sochi   \n",
       "271114          Poland  POL  1998 Winter  1998  Winter          Nagano   \n",
       "271115          Poland  POL  2002 Winter  2002  Winter  Salt Lake City   \n",
       "\n",
       "                Sport                                     Event Medal  \\\n",
       "0          Basketball               Basketball Men's Basketball   NaN   \n",
       "1                Judo              Judo Men's Extra-Lightweight   NaN   \n",
       "2            Football                   Football Men's Football   NaN   \n",
       "3          Tug-Of-War               Tug-Of-War Men's Tug-Of-War  Gold   \n",
       "4       Speed Skating          Speed Skating Women's 500 metres   NaN   \n",
       "...               ...                                       ...   ...   \n",
       "271111           Luge                Luge Mixed (Men)'s Doubles   NaN   \n",
       "271112    Ski Jumping  Ski Jumping Men's Large Hill, Individual   NaN   \n",
       "271113    Ski Jumping        Ski Jumping Men's Large Hill, Team   NaN   \n",
       "271114      Bobsleigh                      Bobsleigh Men's Four   NaN   \n",
       "271115      Bobsleigh                      Bobsleigh Men's Four   NaN   \n",
       "\n",
       "             region notes  \n",
       "0             China   NaN  \n",
       "1             China   NaN  \n",
       "2           Denmark   NaN  \n",
       "3           Denmark   NaN  \n",
       "4       Netherlands   NaN  \n",
       "...             ...   ...  \n",
       "271111       Poland   NaN  \n",
       "271112       Poland   NaN  \n",
       "271113       Poland   NaN  \n",
       "271114       Poland   NaN  \n",
       "271115       Poland   NaN  \n",
       "\n",
       "[271116 rows x 17 columns]"
      ]
     },
     "execution_count": 18,
     "metadata": {},
     "output_type": "execute_result"
    }
   ],
   "source": [
    "df"
   ]
  },
  {
   "cell_type": "code",
   "execution_count": 20,
   "id": "09ded257-f4a7-4324-81b2-7ab68e42688f",
   "metadata": {},
   "outputs": [],
   "source": [
    "temp_df=df.dropna(subset=['Medal'])"
   ]
  },
  {
   "cell_type": "code",
   "execution_count": 23,
   "id": "edd18c8f-6512-42bd-bf05-49e1cd5d0f76",
   "metadata": {},
   "outputs": [
    {
     "data": {
      "text/plain": [
       "Year\n",
       "1896     143\n",
       "1900     604\n",
       "1904     486\n",
       "1906     458\n",
       "1908     831\n",
       "1912     941\n",
       "1920    1308\n",
       "1924     962\n",
       "1928     823\n",
       "1932     739\n",
       "1936    1025\n",
       "1948     987\n",
       "1952    1033\n",
       "1956    1043\n",
       "1960    1058\n",
       "1964    1215\n",
       "1968    1256\n",
       "1972    1414\n",
       "1976    1531\n",
       "1980    1602\n",
       "1984    1698\n",
       "1988    1845\n",
       "1992    2030\n",
       "1994     331\n",
       "1996    1842\n",
       "1998     440\n",
       "2000    2004\n",
       "2002     478\n",
       "2004    2001\n",
       "2006     526\n",
       "2008    2048\n",
       "2010     520\n",
       "2012    1941\n",
       "2014     597\n",
       "2016    2023\n",
       "Name: Medal, dtype: int64"
      ]
     },
     "execution_count": 23,
     "metadata": {},
     "output_type": "execute_result"
    }
   ],
   "source": [
    "temp_df[temp_df['region']=='USA']\n",
    "temp_df.groupby('Year').count()['Medal']"
   ]
  },
  {
   "cell_type": "code",
   "execution_count": 26,
   "id": "4e01fd93-6249-4060-aca1-f24e9620d026",
   "metadata": {},
   "outputs": [],
   "source": [
    "import plotly.express as px\n"
   ]
  },
  {
   "cell_type": "code",
   "execution_count": 10,
   "id": "7de2cfbf-a513-4f9c-99ab-05b2356c9172",
   "metadata": {},
   "outputs": [
    {
     "data": {
      "application/vnd.plotly.v1+json": {
       "config": {
        "plotlyServerURL": "https://plot.ly"
       },
       "data": [
        {
         "hovertemplate": "Year=%{x}<br>No. of Countries=%{y}<extra></extra>",
         "legendgroup": "",
         "line": {
          "color": "#000001",
          "dash": "solid"
         },
         "marker": {
          "symbol": "circle"
         },
         "mode": "lines+markers",
         "name": "",
         "orientation": "v",
         "showlegend": false,
         "type": "scatter",
         "x": {
          "bdata": "aAdsB3AHcgd0B3gHgAeEB4gHjAeQB5wHoAekB6gHrAewB7QHuAe8B8AHxAfIB8oHzAfOB9AH0gfUB9YH2AfaB9wH3gfgBw==",
          "dtype": "i2"
         },
         "xaxis": "x",
         "y": {
          "bdata": "DAAfAA4AFAAWAB0AHQAuAC4ALwAyAD0AQwBKAFMAXgBvAHgAXABZAJIAnQCpAEMAxABIAMcATADIAE4AygBRAMsAWADMAA==",
          "dtype": "i2"
         },
         "yaxis": "y"
        }
       ],
       "layout": {
        "legend": {
         "tracegroupgap": 0
        },
        "template": {
         "data": {
          "candlestick": [
           {
            "decreasing": {
             "line": {
              "color": "#000033"
             }
            },
            "increasing": {
             "line": {
              "color": "#000032"
             }
            },
            "type": "candlestick"
           }
          ],
          "contour": [
           {
            "colorscale": [
             [
              0,
              "#000011"
             ],
             [
              0.1111111111111111,
              "#000012"
             ],
             [
              0.2222222222222222,
              "#000013"
             ],
             [
              0.3333333333333333,
              "#000014"
             ],
             [
              0.4444444444444444,
              "#000015"
             ],
             [
              0.5555555555555556,
              "#000016"
             ],
             [
              0.6666666666666666,
              "#000017"
             ],
             [
              0.7777777777777778,
              "#000018"
             ],
             [
              0.8888888888888888,
              "#000019"
             ],
             [
              1,
              "#000020"
             ]
            ],
            "type": "contour"
           }
          ],
          "contourcarpet": [
           {
            "colorscale": [
             [
              0,
              "#000011"
             ],
             [
              0.1111111111111111,
              "#000012"
             ],
             [
              0.2222222222222222,
              "#000013"
             ],
             [
              0.3333333333333333,
              "#000014"
             ],
             [
              0.4444444444444444,
              "#000015"
             ],
             [
              0.5555555555555556,
              "#000016"
             ],
             [
              0.6666666666666666,
              "#000017"
             ],
             [
              0.7777777777777778,
              "#000018"
             ],
             [
              0.8888888888888888,
              "#000019"
             ],
             [
              1,
              "#000020"
             ]
            ],
            "type": "contourcarpet"
           }
          ],
          "heatmap": [
           {
            "colorscale": [
             [
              0,
              "#000011"
             ],
             [
              0.1111111111111111,
              "#000012"
             ],
             [
              0.2222222222222222,
              "#000013"
             ],
             [
              0.3333333333333333,
              "#000014"
             ],
             [
              0.4444444444444444,
              "#000015"
             ],
             [
              0.5555555555555556,
              "#000016"
             ],
             [
              0.6666666666666666,
              "#000017"
             ],
             [
              0.7777777777777778,
              "#000018"
             ],
             [
              0.8888888888888888,
              "#000019"
             ],
             [
              1,
              "#000020"
             ]
            ],
            "type": "heatmap"
           }
          ],
          "histogram2d": [
           {
            "colorscale": [
             [
              0,
              "#000011"
             ],
             [
              0.1111111111111111,
              "#000012"
             ],
             [
              0.2222222222222222,
              "#000013"
             ],
             [
              0.3333333333333333,
              "#000014"
             ],
             [
              0.4444444444444444,
              "#000015"
             ],
             [
              0.5555555555555556,
              "#000016"
             ],
             [
              0.6666666666666666,
              "#000017"
             ],
             [
              0.7777777777777778,
              "#000018"
             ],
             [
              0.8888888888888888,
              "#000019"
             ],
             [
              1,
              "#000020"
             ]
            ],
            "type": "histogram2d"
           }
          ],
          "icicle": [
           {
            "textfont": {
             "color": "white"
            },
            "type": "icicle"
           }
          ],
          "sankey": [
           {
            "textfont": {
             "color": "#000036"
            },
            "type": "sankey"
           }
          ],
          "scatter": [
           {
            "marker": {
             "line": {
              "width": 0
             }
            },
            "type": "scatter"
           }
          ],
          "table": [
           {
            "cells": {
             "fill": {
              "color": "#000038"
             },
             "font": {
              "color": "#000037"
             },
             "line": {
              "color": "#000039"
             }
            },
            "header": {
             "fill": {
              "color": "#000040"
             },
             "font": {
              "color": "#000036"
             },
             "line": {
              "color": "#000039"
             }
            },
            "type": "table"
           }
          ],
          "waterfall": [
           {
            "connector": {
             "line": {
              "color": "#000036",
              "width": 2
             }
            },
            "decreasing": {
             "marker": {
              "color": "#000033"
             }
            },
            "increasing": {
             "marker": {
              "color": "#000032"
             }
            },
            "totals": {
             "marker": {
              "color": "#000034"
             }
            },
            "type": "waterfall"
           }
          ]
         },
         "layout": {
          "coloraxis": {
           "colorscale": [
            [
             0,
             "#000011"
            ],
            [
             0.1111111111111111,
             "#000012"
            ],
            [
             0.2222222222222222,
             "#000013"
            ],
            [
             0.3333333333333333,
             "#000014"
            ],
            [
             0.4444444444444444,
             "#000015"
            ],
            [
             0.5555555555555556,
             "#000016"
            ],
            [
             0.6666666666666666,
             "#000017"
            ],
            [
             0.7777777777777778,
             "#000018"
            ],
            [
             0.8888888888888888,
             "#000019"
            ],
            [
             1,
             "#000020"
            ]
           ]
          },
          "colorscale": {
           "diverging": [
            [
             0,
             "#000021"
            ],
            [
             0.1,
             "#000022"
            ],
            [
             0.2,
             "#000023"
            ],
            [
             0.3,
             "#000024"
            ],
            [
             0.4,
             "#000025"
            ],
            [
             0.5,
             "#000026"
            ],
            [
             0.6,
             "#000027"
            ],
            [
             0.7,
             "#000028"
            ],
            [
             0.8,
             "#000029"
            ],
            [
             0.9,
             "#000030"
            ],
            [
             1,
             "#000031"
            ]
           ],
           "sequential": [
            [
             0,
             "#000011"
            ],
            [
             0.1111111111111111,
             "#000012"
            ],
            [
             0.2222222222222222,
             "#000013"
            ],
            [
             0.3333333333333333,
             "#000014"
            ],
            [
             0.4444444444444444,
             "#000015"
            ],
            [
             0.5555555555555556,
             "#000016"
            ],
            [
             0.6666666666666666,
             "#000017"
            ],
            [
             0.7777777777777778,
             "#000018"
            ],
            [
             0.8888888888888888,
             "#000019"
            ],
            [
             1,
             "#000020"
            ]
           ],
           "sequentialminus": [
            [
             0,
             "#000011"
            ],
            [
             0.1111111111111111,
             "#000012"
            ],
            [
             0.2222222222222222,
             "#000013"
            ],
            [
             0.3333333333333333,
             "#000014"
            ],
            [
             0.4444444444444444,
             "#000015"
            ],
            [
             0.5555555555555556,
             "#000016"
            ],
            [
             0.6666666666666666,
             "#000017"
            ],
            [
             0.7777777777777778,
             "#000018"
            ],
            [
             0.8888888888888888,
             "#000019"
            ],
            [
             1,
             "#000020"
            ]
           ]
          },
          "colorway": [
           "#000001",
           "#000002",
           "#000003",
           "#000004",
           "#000005",
           "#000006",
           "#000007",
           "#000008",
           "#000009",
           "#000010"
          ]
         }
        },
        "title": {
         "text": "Number of Countries Over Time in Olympics"
        },
        "xaxis": {
         "anchor": "y",
         "domain": [
          0,
          1
         ],
         "title": {
          "text": "Year"
         }
        },
        "yaxis": {
         "anchor": "x",
         "domain": [
          0,
          1
         ],
         "title": {
          "text": "No. of Countries"
         }
        }
       }
      }
     },
     "metadata": {},
     "output_type": "display_data"
    }
   ],
   "source": [
    "# Import necessary libraries\n",
    "import pandas as pd\n",
    "import plotly.express as px\n",
    "\n",
    "# Load your Olympics dataset\n",
    "df = pd.read_csv(\"athlete_events.csv\")\n",
    "regions_df = pd.read_csv(\"noc_regions.csv\")\n",
    "\n",
    "# Merge NOC regions\n",
    "df = df.merge(regions_df, on=\"NOC\", how=\"left\")\n",
    "\n",
    "# Fill missing regions\n",
    "df['region'] = df['region'].fillna('Unknown')\n",
    "\n",
    "# Calculate number of countries participating each year\n",
    "nations_over_time = (\n",
    "    df.drop_duplicates(['Year', 'region'])  # Keep unique Year-Country pairs\n",
    "      .groupby('Year')['region']\n",
    "      .nunique()  # Count unique countries\n",
    "      .reset_index()\n",
    "      .rename(columns={'region': 'No. of Countries'})\n",
    ")\n",
    "\n",
    "# Plot line chart using Plotly Express\n",
    "fig = px.line(\n",
    "    nations_over_time,\n",
    "    x='Year',\n",
    "    y='No. of Countries',\n",
    "    markers=True,\n",
    "    title='Number of Countries Over Time in Olympics'\n",
    ")\n",
    "\n",
    "fig.show()\n"
   ]
  },
  {
   "cell_type": "code",
   "execution_count": 13,
   "id": "1799869f-3692-41ba-8e1d-936a5fee5fdd",
   "metadata": {},
   "outputs": [
    {
     "data": {
      "image/png": "[encoded data removed]",
      "text/plain": [
       "<Figure size 640x480 with 1 Axes>"
      ]
     },
     "metadata": {},
     "output_type": "display_data"
    },
    {
     "data": {
      "image/png": "[encoded data removed]",
      "text/plain": [
       "<Figure size 1000x600 with 1 Axes>"
      ]
     },
     "metadata": {},
     "output_type": "display_data"
    }
   ],
   "source": [
    "import pandas as pd\n",
    "import seaborn as sns\n",
    "import matplotlib.pyplot as plt\n",
    "\n",
    "# Optional: only needed for Jupyter notebooks\n",
    "try:\n",
    "    get_ipython\n",
    "    %matplotlib inline\n",
    "except NameError:\n",
    "    pass\n",
    "\n",
    "# Example: Generic DataFrame with Weight and Height columns\n",
    "# Replace this with your actual DataFrame\n",
    "athlete_df = pd.DataFrame({\n",
    "    'Weight': [55, 70, 65, 80],\n",
    "    'Height': [165, 180, 175, 190]\n",
    "})\n",
    "\n",
    "# Check if required columns exist\n",
    "if 'Weight' in athlete_df.columns and 'Height' in athlete_df.columns:\n",
    "    # Create the scatter plot\n",
    "    sns.scatterplot(data=athlete_df, x='Weight', y='Height')\n",
    "\n",
    "    # Set plot title and labels\n",
    "    plt.title('Scatter Plot of Weight vs Height')\n",
    "    plt.xlabel('Weight')\n",
    "    plt.ylabel('Height')\n",
    "\n",
    "    # Save the plot to a file\n",
    "    plt.savefig('scatter_plot_weight_vs_height.png', bbox_inches='tight')\n",
    "\n",
    "    # Display the plot\n",
    "    plt.show()\n",
    "else:\n",
    "    print(\"Error: DataFrame must contain 'Weight' and 'Height' columns.\")\n"
   ]
  },
  {
   "cell_type": "code",
   "execution_count": 14,
   "id": "6ae065a4-347a-4140-85ae-6a5f15daadad",
   "metadata": {},
   "outputs": [
    {
     "name": "stdout",
     "output_type": "stream",
     "text": [
      "Year                  1900  1920  1924  1928  1932  1936  1948  1952  1956  \\\n",
      "Sport                                                                        \n",
      "Alpine Skiing            0     0     0     0     0     0     0     0     0   \n",
      "Alpinism                 0     0     7     0     0     0     0     0     0   \n",
      "Archery                  0     0     0     0     0     0     0     0     0   \n",
      "Art Competitions         0     0     0     0     0     0     0     0     0   \n",
      "Athletics                2     0     0     0     0     0     0     0     0   \n",
      "Badminton                0     0     0     0     0     0     0     0     0   \n",
      "Basketball               0     0     0     0     0     0     0     0     0   \n",
      "Boxing                   0     0     0     0     0     0     0     0     0   \n",
      "Cross Country Skiing     0     0     0     0     0     0     0     0     0   \n",
      "Cycling                  0     0     0     0     0     0     0     0     0   \n",
      "Diving                   0     0     0     0     0     0     0     0     0   \n",
      "Equestrianism            0     0     0     0     0     0     0     0     0   \n",
      "Football                 0     0     0     0     0     0     0     0     0   \n",
      "Golf                     0     0     0     0     0     0     0     0     0   \n",
      "Gymnastics               0     0     0     0     0     0     0     0     0   \n",
      "Hockey                   0     0     0    14    15    19    20    14    17   \n",
      "Judo                     0     0     0     0     0     0     0     0     0   \n",
      "Luge                     0     0     0     0     0     0     0     0     0   \n",
      "Rowing                   0     0     0     0     0     0     0     0     0   \n",
      "Sailing                  0     0     0     0     0     0     0     0     0   \n",
      "Shooting                 0     0     0     0     0     0     0     0     0   \n",
      "Swimming                 0     0     0     0     0     0     0     0     0   \n",
      "Table Tennis             0     0     0     0     0     0     0     0     0   \n",
      "Tennis                   0     0     0     0     0     0     0     0     0   \n",
      "Water Polo               0     0     0     0     0     0     0     0     0   \n",
      "Weightlifting            0     0     0     0     0     0     0     0     0   \n",
      "Wrestling                0     0     0     0     0     0     0     1     0   \n",
      "\n",
      "Year                  1960  ...  1998  2000  2002  2004  2006  2008  2010  \\\n",
      "Sport                       ...                                             \n",
      "Alpine Skiing            0  ...     0     0     0     0     0     0     0   \n",
      "Alpinism                 0  ...     0     0     0     0     0     0     0   \n",
      "Archery                  0  ...     0     0     0     0     0     0     0   \n",
      "Art Competitions         0  ...     0     0     0     0     0     0     0   \n",
      "Athletics                0  ...     0     0     0     0     0     0     0   \n",
      "Badminton                0  ...     0     0     0     0     0     0     0   \n",
      "Basketball               0  ...     0     0     0     0     0     0     0   \n",
      "Boxing                   0  ...     0     0     0     0     0     1     0   \n",
      "Cross Country Skiing     0  ...     0     0     0     0     0     0     0   \n",
      "Cycling                  0  ...     0     0     0     0     0     0     0   \n",
      "Diving                   0  ...     0     0     0     0     0     0     0   \n",
      "Equestrianism            0  ...     0     0     0     0     0     0     0   \n",
      "Football                 0  ...     0     0     0     0     0     0     0   \n",
      "Golf                     0  ...     0     0     0     0     0     0     0   \n",
      "Gymnastics               0  ...     0     0     0     0     0     0     0   \n",
      "Hockey                  13  ...     0     0     0     0     0     0     0   \n",
      "Judo                     0  ...     0     0     0     0     0     0     0   \n",
      "Luge                     0  ...     0     0     0     0     0     0     0   \n",
      "Rowing                   0  ...     0     0     0     0     0     0     0   \n",
      "Sailing                  0  ...     0     0     0     0     0     0     0   \n",
      "Shooting                 0  ...     0     0     0     1     0     1     0   \n",
      "Swimming                 0  ...     0     0     0     0     0     0     0   \n",
      "Table Tennis             0  ...     0     0     0     0     0     0     0   \n",
      "Tennis                   0  ...     0     0     0     0     0     0     0   \n",
      "Water Polo               0  ...     0     0     0     0     0     0     0   \n",
      "Weightlifting            0  ...     0     1     0     0     0     0     0   \n",
      "Wrestling                0  ...     0     0     0     0     0     1     0   \n",
      "\n",
      "Year                  2012  2014  2016  \n",
      "Sport                                   \n",
      "Alpine Skiing            0     0     0  \n",
      "Alpinism                 0     0     0  \n",
      "Archery                  0     0     0  \n",
      "Art Competitions         0     0     0  \n",
      "Athletics                0     0     0  \n",
      "Badminton                1     0     1  \n",
      "Basketball               0     0     0  \n",
      "Boxing                   1     0     0  \n",
      "Cross Country Skiing     0     0     0  \n",
      "Cycling                  0     0     0  \n",
      "Diving                   0     0     0  \n",
      "Equestrianism            0     0     0  \n",
      "Football                 0     0     0  \n",
      "Golf                     0     0     0  \n",
      "Gymnastics               0     0     0  \n",
      "Hockey                   0     0     0  \n",
      "Judo                     0     0     0  \n",
      "Luge                     0     0     0  \n",
      "Rowing                   0     0     0  \n",
      "Sailing                  0     0     0  \n",
      "Shooting                 2     0     0  \n",
      "Swimming                 0     0     0  \n",
      "Table Tennis             0     0     0  \n",
      "Tennis                   0     0     0  \n",
      "Water Polo               0     0     0  \n",
      "Weightlifting            0     0     0  \n",
      "Wrestling                2     0     1  \n",
      "\n",
      "[27 rows x 29 columns]\n"
     ]
    },
    {
     "data": {
      "image/png": "[encoded data removed]",
      "text/plain": [
       "<Figure size 1500x1000 with 2 Axes>"
      ]
     },
     "metadata": {},
     "output_type": "display_data"
    }
   ],
   "source": [
    "import pandas as pd\n",
    "import matplotlib.pyplot as plt\n",
    "import seaborn as sns\n",
    "\n",
    "# Load your preprocessed DataFrame\n",
    "# Example: df = pd.read_csv(\"athlete_events.csv\")\n",
    "# Or if you have a preprocessing function:\n",
    "# df = prep.preprocesser()\n",
    "\n",
    "# Filter for India\n",
    "india_df = df[df['region'] == 'India']\n",
    "\n",
    "# Create a pivot table: number of medals per sport per year\n",
    "pivot = india_df.pivot_table(\n",
    "    index='Sport',\n",
    "    columns='Year',\n",
    "    values='Medal',    # you can use 'ID' if you want total entries\n",
    "    aggfunc='count',\n",
    "    fill_value=0\n",
    ")\n",
    "\n",
    "# Display the pivot table\n",
    "print(pivot)\n",
    "\n",
    "# Optional: plot heatmap\n",
    "plt.figure(figsize=(15, 10))\n",
    "sns.heatmap(pivot, annot=True, fmt=\"d\", cmap=\"YlGnBu\")\n",
    "plt.title(\"India: Medals per Sport per Year\")\n",
    "plt.show()\n"
   ]
  },
  {
   "cell_type": "code",
   "execution_count": 15,
   "id": "27237907-ead7-41ba-a733-a5151760b17d",
   "metadata": {},
   "outputs": [],
   "source": [
    "import plotly.figure_factory as ft"
   ]
  },
  {
   "cell_type": "code",
   "execution_count": 16,
   "id": "b1a30d15-24bd-4461-baaf-d33a52c9806d",
   "metadata": {},
   "outputs": [],
   "source": [
    "import pandas as pd\n",
    "\n",
    "# Filter only rows where Medal is not null\n",
    "athlete_df = df[df['Medal'].notna()]\n",
    "\n",
    "# Now filter by medal type and get the Age column\n",
    "gold_ages = athlete_df[athlete_df['Medal'] == 'Gold']['Age'].dropna()\n",
    "silver_ages = athlete_df[athlete_df['Medal'] == 'Silver']['Age'].dropna()\n",
    "bronze_ages = athlete_df[athlete_df['Medal'] == 'Bronze']['Age'].dropna()\n"
   ]
  },
  {
   "cell_type": "code",
   "execution_count": 17,
   "id": "38cc2212-f4af-4599-87ab-7b50c8b70e0f",
   "metadata": {},
   "outputs": [
    {
     "data": {
      "image/png": "[encoded data removed]",
      "text/plain": [
       "<Figure size 1200x600 with 1 Axes>"
      ]
     },
     "metadata": {},
     "output_type": "display_data"
    }
   ],
   "source": [
    "import pandas as pd\n",
    "import matplotlib.pyplot as plt\n",
    "\n",
    "# Filter only medal winners and drop missing Age values\n",
    "athlete_df = df[df['Medal'].notna()]\n",
    "\n",
    "gold_ages = athlete_df[athlete_df['Medal'] == 'Gold']['Age'].dropna()\n",
    "silver_ages = athlete_df[athlete_df['Medal'] == 'Silver']['Age'].dropna()\n",
    "bronze_ages = athlete_df[athlete_df['Medal'] == 'Bronze']['Age'].dropna()\n",
    "\n",
    "# Plot histogram\n",
    "plt.figure(figsize=(12,6))\n",
    "plt.hist(gold_ages, bins=30, alpha=0.6, label='Gold', color='gold')\n",
    "plt.hist(silver_ages, bins=30, alpha=0.6, label='Silver', color='silver')\n",
    "plt.hist(bronze_ages, bins=30, alpha=0.6, label='Bronze', color='#cd7f32')  # bronze color\n",
    "\n",
    "plt.xlabel(\"Age\")\n",
    "plt.ylabel(\"Number of Athletes\")\n",
    "plt.title(\"Age Distribution of Medal Winners\")\n",
    "plt.legend()\n",
    "plt.show()\n"
   ]
  },
  {
   "cell_type": "code",
   "execution_count": 18,
   "id": "7a1b949e-20f8-47ca-9f86-ab67bbca620c",
   "metadata": {},
   "outputs": [
    {
     "data": {
      "image/png": "[encoded data removed]",
      "text/plain": [
       "<Figure size 1200x600 with 1 Axes>"
      ]
     },
     "metadata": {},
     "output_type": "display_data"
    }
   ],
   "source": [
    "import pandas as pd\n",
    "import matplotlib.pyplot as plt\n",
    "import seaborn as sns\n",
    "\n",
    "# Load dataset\n",
    "df = pd.read_csv(\"athlete_events.csv\")\n",
    "\n",
    "# Count number of athletes per sport\n",
    "top_sports = df['Sport'].value_counts().head(10)\n",
    "\n",
    "# Plot horizontal bar chart\n",
    "plt.figure(figsize=(12, 6))\n",
    "sns.barplot(\n",
    "    x=top_sports.values,\n",
    "    y=top_sports.index,\n",
    "    hue=top_sports.index,   # explicitly assign hue\n",
    "    palette=\"viridis\",\n",
    "    legend=False            # hide duplicate legend\n",
    ")\n",
    "plt.xlabel(\"Number of Athletes\")\n",
    "plt.ylabel(\"Sport\")\n",
    "plt.title(\"Top 10 Famous Sports in Olympics by Number of Athletes\")\n",
    "plt.show()\n"
   ]
  },
  {
   "cell_type": "code",
   "execution_count": 19,
   "id": "233dc567-2820-41f6-9a2d-0f8bc2591a37",
   "metadata": {},
   "outputs": [
    {
     "name": "stdout",
     "output_type": "stream",
     "text": [
      "Defaulting to user installation because normal site-packages is not writeable\n",
      "Requirement already satisfied: scipy in c:\\users\\dolly rathore\\appdata\\roaming\\python\\python311\\site-packages (1.16.1)\n",
      "Requirement already satisfied: numpy<2.6,>=1.25.2 in c:\\users\\dolly rathore\\appdata\\roaming\\python\\python311\\site-packages (from scipy) (1.26.4)\n",
      "Note: you may need to restart the kernel to use updated packages.\n"
     ]
    }
   ],
   "source": [
    "pip install scipy\n"
   ]
  },
  {
   "cell_type": "code",
   "execution_count": 20,
   "id": "54d70a21-9c50-4373-b610-68e26a07387c",
   "metadata": {},
   "outputs": [
    {
     "name": "stdout",
     "output_type": "stream",
     "text": [
      "Defaulting to user installation because normal site-packages is not writeable\n",
      "Requirement already satisfied: streamlit-jupyter in c:\\users\\dolly rathore\\appdata\\roaming\\python\\python311\\site-packages (0.3.1)\n",
      "Requirement already satisfied: fastcore in c:\\users\\dolly rathore\\appdata\\roaming\\python\\python311\\site-packages (from streamlit-jupyter) (1.8.7)\n",
      "Requirement already satisfied: ipywidgets>=8 in c:\\users\\dolly rathore\\appdata\\roaming\\python\\python311\\site-packages (from streamlit-jupyter) (8.1.7)\n",
      "Requirement already satisfied: jupyter in c:\\users\\dolly rathore\\appdata\\roaming\\python\\python311\\site-packages (from streamlit-jupyter) (1.1.1)\n",
      "Requirement already satisfied: stqdm in c:\\users\\dolly rathore\\appdata\\roaming\\python\\python311\\site-packages (from streamlit-jupyter) (0.0.5)\n",
      "Requirement already satisfied: streamlit>=1.19 in c:\\users\\dolly rathore\\appdata\\roaming\\python\\python311\\site-packages (from streamlit-jupyter) (1.47.1)\n",
      "Requirement already satisfied: tabulate in c:\\users\\dolly rathore\\appdata\\roaming\\python\\python311\\site-packages (from streamlit-jupyter) (0.9.0)\n",
      "Requirement already satisfied: tqdm in c:\\users\\dolly rathore\\appdata\\roaming\\python\\python311\\site-packages (from streamlit-jupyter) (4.67.1)\n",
      "Requirement already satisfied: comm>=0.1.3 in c:\\users\\dolly rathore\\appdata\\roaming\\python\\python311\\site-packages (from ipywidgets>=8->streamlit-jupyter) (0.2.3)\n",
      "Requirement already satisfied: ipython>=6.1.0 in c:\\users\\dolly rathore\\appdata\\roaming\\python\\python311\\site-packages (from ipywidgets>=8->streamlit-jupyter) (9.4.0)\n",
      "Requirement already satisfied: traitlets>=4.3.1 in c:\\users\\dolly rathore\\appdata\\roaming\\python\\python311\\site-packages (from ipywidgets>=8->streamlit-jupyter) (5.14.3)\n",
      "Requirement already satisfied: widgetsnbextension~=4.0.14 in c:\\users\\dolly rathore\\appdata\\roaming\\python\\python311\\site-packages (from ipywidgets>=8->streamlit-jupyter) (4.0.14)\n",
      "Requirement already satisfied: jupyterlab_widgets~=3.0.15 in c:\\users\\dolly rathore\\appdata\\roaming\\python\\python311\\site-packages (from ipywidgets>=8->streamlit-jupyter) (3.0.15)\n",
      "Requirement already satisfied: colorama in c:\\users\\dolly rathore\\appdata\\roaming\\python\\python311\\site-packages (from ipython>=6.1.0->ipywidgets>=8->streamlit-jupyter) (0.4.6)\n",
      "Requirement already satisfied: decorator in c:\\users\\dolly rathore\\appdata\\roaming\\python\\python311\\site-packages (from ipython>=6.1.0->ipywidgets>=8->streamlit-jupyter) (5.2.1)\n",
      "Requirement already satisfied: ipython-pygments-lexers in c:\\users\\dolly rathore\\appdata\\roaming\\python\\python311\\site-packages (from ipython>=6.1.0->ipywidgets>=8->streamlit-jupyter) (1.1.1)\n",
      "Requirement already satisfied: jedi>=0.16 in c:\\users\\dolly rathore\\appdata\\roaming\\python\\python311\\site-packages (from ipython>=6.1.0->ipywidgets>=8->streamlit-jupyter) (0.19.2)\n",
      "Requirement already satisfied: matplotlib-inline in c:\\users\\dolly rathore\\appdata\\roaming\\python\\python311\\site-packages (from ipython>=6.1.0->ipywidgets>=8->streamlit-jupyter) (0.1.7)\n",
      "Requirement already satisfied: prompt_toolkit<3.1.0,>=3.0.41 in c:\\users\\dolly rathore\\appdata\\roaming\\python\\python311\\site-packages (from ipython>=6.1.0->ipywidgets>=8->streamlit-jupyter) (3.0.51)\n",
      "Requirement already satisfied: pygments>=2.4.0 in c:\\users\\dolly rathore\\appdata\\roaming\\python\\python311\\site-packages (from ipython>=6.1.0->ipywidgets>=8->streamlit-jupyter) (2.19.2)\n",
      "Requirement already satisfied: stack_data in c:\\users\\dolly rathore\\appdata\\roaming\\python\\python311\\site-packages (from ipython>=6.1.0->ipywidgets>=8->streamlit-jupyter) (0.6.3)\n",
      "Requirement already satisfied: typing_extensions>=4.6 in c:\\users\\dolly rathore\\appdata\\roaming\\python\\python311\\site-packages (from ipython>=6.1.0->ipywidgets>=8->streamlit-jupyter) (4.14.0)\n",
      "Requirement already satisfied: wcwidth in c:\\users\\dolly rathore\\appdata\\roaming\\python\\python311\\site-packages (from prompt_toolkit<3.1.0,>=3.0.41->ipython>=6.1.0->ipywidgets>=8->streamlit-jupyter) (0.2.13)\n",
      "Requirement already satisfied: parso<0.9.0,>=0.8.4 in c:\\users\\dolly rathore\\appdata\\roaming\\python\\python311\\site-packages (from jedi>=0.16->ipython>=6.1.0->ipywidgets>=8->streamlit-jupyter) (0.8.4)\n",
      "Requirement already satisfied: altair<6,>=4.0 in c:\\users\\dolly rathore\\appdata\\roaming\\python\\python311\\site-packages (from streamlit>=1.19->streamlit-jupyter) (5.5.0)\n",
      "Requirement already satisfied: blinker<2,>=1.5.0 in c:\\users\\dolly rathore\\appdata\\roaming\\python\\python311\\site-packages (from streamlit>=1.19->streamlit-jupyter) (1.9.0)\n",
      "Requirement already satisfied: cachetools<7,>=4.0 in c:\\users\\dolly rathore\\appdata\\roaming\\python\\python311\\site-packages (from streamlit>=1.19->streamlit-jupyter) (6.1.0)\n",
      "Requirement already satisfied: click<9,>=7.0 in c:\\users\\dolly rathore\\appdata\\roaming\\python\\python311\\site-packages (from streamlit>=1.19->streamlit-jupyter) (8.2.1)\n",
      "Requirement already satisfied: numpy<3,>=1.23 in c:\\users\\dolly rathore\\appdata\\roaming\\python\\python311\\site-packages (from streamlit>=1.19->streamlit-jupyter) (1.26.4)\n",
      "Requirement already satisfied: packaging<26,>=20 in c:\\users\\dolly rathore\\appdata\\roaming\\python\\python311\\site-packages (from streamlit>=1.19->streamlit-jupyter) (25.0)\n",
      "Requirement already satisfied: pandas<3,>=1.4.0 in c:\\users\\dolly rathore\\appdata\\roaming\\python\\python311\\site-packages (from streamlit>=1.19->streamlit-jupyter) (2.3.1)\n",
      "Requirement already satisfied: pillow<12,>=7.1.0 in c:\\users\\dolly rathore\\appdata\\roaming\\python\\python311\\site-packages (from streamlit>=1.19->streamlit-jupyter) (11.3.0)\n",
      "Requirement already satisfied: protobuf<7,>=3.20 in c:\\users\\dolly rathore\\appdata\\roaming\\python\\python311\\site-packages (from streamlit>=1.19->streamlit-jupyter) (4.25.8)\n",
      "Requirement already satisfied: pyarrow>=7.0 in c:\\users\\dolly rathore\\appdata\\roaming\\python\\python311\\site-packages (from streamlit>=1.19->streamlit-jupyter) (21.0.0)\n",
      "Requirement already satisfied: requests<3,>=2.27 in c:\\users\\dolly rathore\\appdata\\roaming\\python\\python311\\site-packages (from streamlit>=1.19->streamlit-jupyter) (2.32.4)\n",
      "Requirement already satisfied: tenacity<10,>=8.1.0 in c:\\users\\dolly rathore\\appdata\\roaming\\python\\python311\\site-packages (from streamlit>=1.19->streamlit-jupyter) (9.1.2)\n",
      "Requirement already satisfied: toml<2,>=0.10.1 in c:\\users\\dolly rathore\\appdata\\roaming\\python\\python311\\site-packages (from streamlit>=1.19->streamlit-jupyter) (0.10.2)\n",
      "Requirement already satisfied: watchdog<7,>=2.1.5 in c:\\users\\dolly rathore\\appdata\\roaming\\python\\python311\\site-packages (from streamlit>=1.19->streamlit-jupyter) (6.0.0)\n",
      "Requirement already satisfied: gitpython!=3.1.19,<4,>=3.0.7 in c:\\users\\dolly rathore\\appdata\\roaming\\python\\python311\\site-packages (from streamlit>=1.19->streamlit-jupyter) (3.1.45)\n",
      "Requirement already satisfied: pydeck<1,>=0.8.0b4 in c:\\users\\dolly rathore\\appdata\\roaming\\python\\python311\\site-packages (from streamlit>=1.19->streamlit-jupyter) (0.9.1)\n",
      "Requirement already satisfied: tornado!=6.5.0,<7,>=6.0.3 in c:\\users\\dolly rathore\\appdata\\roaming\\python\\python311\\site-packages (from streamlit>=1.19->streamlit-jupyter) (6.5.1)\n",
      "Requirement already satisfied: jinja2 in c:\\users\\dolly rathore\\appdata\\roaming\\python\\python311\\site-packages (from altair<6,>=4.0->streamlit>=1.19->streamlit-jupyter) (3.1.6)\n",
      "Requirement already satisfied: jsonschema>=3.0 in c:\\users\\dolly rathore\\appdata\\roaming\\python\\python311\\site-packages (from altair<6,>=4.0->streamlit>=1.19->streamlit-jupyter) (4.25.0)\n",
      "Requirement already satisfied: narwhals>=1.14.2 in c:\\users\\dolly rathore\\appdata\\roaming\\python\\python311\\site-packages (from altair<6,>=4.0->streamlit>=1.19->streamlit-jupyter) (2.0.1)\n",
      "Requirement already satisfied: gitdb<5,>=4.0.1 in c:\\users\\dolly rathore\\appdata\\roaming\\python\\python311\\site-packages (from gitpython!=3.1.19,<4,>=3.0.7->streamlit>=1.19->streamlit-jupyter) (4.0.12)\n",
      "Requirement already satisfied: smmap<6,>=3.0.1 in c:\\users\\dolly rathore\\appdata\\roaming\\python\\python311\\site-packages (from gitdb<5,>=4.0.1->gitpython!=3.1.19,<4,>=3.0.7->streamlit>=1.19->streamlit-jupyter) (5.0.2)\n",
      "Requirement already satisfied: python-dateutil>=2.8.2 in c:\\users\\dolly rathore\\appdata\\roaming\\python\\python311\\site-packages (from pandas<3,>=1.4.0->streamlit>=1.19->streamlit-jupyter) (2.9.0.post0)\n",
      "Requirement already satisfied: pytz>=2020.1 in c:\\users\\dolly rathore\\appdata\\roaming\\python\\python311\\site-packages (from pandas<3,>=1.4.0->streamlit>=1.19->streamlit-jupyter) (2025.2)\n",
      "Requirement already satisfied: tzdata>=2022.7 in c:\\users\\dolly rathore\\appdata\\roaming\\python\\python311\\site-packages (from pandas<3,>=1.4.0->streamlit>=1.19->streamlit-jupyter) (2025.2)\n",
      "Requirement already satisfied: charset_normalizer<4,>=2 in c:\\users\\dolly rathore\\appdata\\roaming\\python\\python311\\site-packages (from requests<3,>=2.27->streamlit>=1.19->streamlit-jupyter) (3.4.2)\n",
      "Requirement already satisfied: idna<4,>=2.5 in c:\\users\\dolly rathore\\appdata\\roaming\\python\\python311\\site-packages (from requests<3,>=2.27->streamlit>=1.19->streamlit-jupyter) (3.10)\n",
      "Requirement already satisfied: urllib3<3,>=1.21.1 in c:\\users\\dolly rathore\\appdata\\roaming\\python\\python311\\site-packages (from requests<3,>=2.27->streamlit>=1.19->streamlit-jupyter) (2.5.0)\n",
      "Requirement already satisfied: certifi>=2017.4.17 in c:\\users\\dolly rathore\\appdata\\roaming\\python\\python311\\site-packages (from requests<3,>=2.27->streamlit>=1.19->streamlit-jupyter) (2025.6.15)\n",
      "Requirement already satisfied: MarkupSafe>=2.0 in c:\\users\\dolly rathore\\appdata\\roaming\\python\\python311\\site-packages (from jinja2->altair<6,>=4.0->streamlit>=1.19->streamlit-jupyter) (3.0.2)\n",
      "Requirement already satisfied: attrs>=22.2.0 in c:\\users\\dolly rathore\\appdata\\roaming\\python\\python311\\site-packages (from jsonschema>=3.0->altair<6,>=4.0->streamlit>=1.19->streamlit-jupyter) (25.3.0)\n",
      "Requirement already satisfied: jsonschema-specifications>=2023.03.6 in c:\\users\\dolly rathore\\appdata\\roaming\\python\\python311\\site-packages (from jsonschema>=3.0->altair<6,>=4.0->streamlit>=1.19->streamlit-jupyter) (2025.4.1)\n",
      "Requirement already satisfied: referencing>=0.28.4 in c:\\users\\dolly rathore\\appdata\\roaming\\python\\python311\\site-packages (from jsonschema>=3.0->altair<6,>=4.0->streamlit>=1.19->streamlit-jupyter) (0.36.2)\n",
      "Requirement already satisfied: rpds-py>=0.7.1 in c:\\users\\dolly rathore\\appdata\\roaming\\python\\python311\\site-packages (from jsonschema>=3.0->altair<6,>=4.0->streamlit>=1.19->streamlit-jupyter) (0.26.0)\n",
      "Requirement already satisfied: six>=1.5 in c:\\users\\dolly rathore\\appdata\\roaming\\python\\python311\\site-packages (from python-dateutil>=2.8.2->pandas<3,>=1.4.0->streamlit>=1.19->streamlit-jupyter) (1.17.0)\n",
      "Requirement already satisfied: notebook in c:\\users\\dolly rathore\\appdata\\roaming\\python\\python311\\site-packages (from jupyter->streamlit-jupyter) (7.4.4)\n",
      "Requirement already satisfied: jupyter-console in c:\\users\\dolly rathore\\appdata\\roaming\\python\\python311\\site-packages (from jupyter->streamlit-jupyter) (6.6.3)\n",
      "Requirement already satisfied: nbconvert in c:\\users\\dolly rathore\\appdata\\roaming\\python\\python311\\site-packages (from jupyter->streamlit-jupyter) (7.16.6)\n",
      "Requirement already satisfied: ipykernel in c:\\users\\dolly rathore\\appdata\\roaming\\python\\python311\\site-packages (from jupyter->streamlit-jupyter) (6.30.0)\n",
      "Requirement already satisfied: jupyterlab in c:\\users\\dolly rathore\\appdata\\roaming\\python\\python311\\site-packages (from jupyter->streamlit-jupyter) (4.4.5)\n",
      "Requirement already satisfied: debugpy>=1.6.5 in c:\\users\\dolly rathore\\appdata\\roaming\\python\\python311\\site-packages (from ipykernel->jupyter->streamlit-jupyter) (1.8.15)\n",
      "Requirement already satisfied: jupyter-client>=8.0.0 in c:\\users\\dolly rathore\\appdata\\roaming\\python\\python311\\site-packages (from ipykernel->jupyter->streamlit-jupyter) (8.6.3)\n",
      "Requirement already satisfied: jupyter-core!=5.0.*,>=4.12 in c:\\users\\dolly rathore\\appdata\\roaming\\python\\python311\\site-packages (from ipykernel->jupyter->streamlit-jupyter) (5.8.1)\n",
      "Requirement already satisfied: nest-asyncio>=1.4 in c:\\users\\dolly rathore\\appdata\\roaming\\python\\python311\\site-packages (from ipykernel->jupyter->streamlit-jupyter) (1.6.0)\n",
      "Requirement already satisfied: psutil>=5.7 in c:\\users\\dolly rathore\\appdata\\roaming\\python\\python311\\site-packages (from ipykernel->jupyter->streamlit-jupyter) (7.0.0)\n",
      "Requirement already satisfied: pyzmq>=25 in c:\\users\\dolly rathore\\appdata\\roaming\\python\\python311\\site-packages (from ipykernel->jupyter->streamlit-jupyter) (27.0.0)\n",
      "Requirement already satisfied: platformdirs>=2.5 in c:\\users\\dolly rathore\\appdata\\roaming\\python\\python311\\site-packages (from jupyter-core!=5.0.*,>=4.12->ipykernel->jupyter->streamlit-jupyter) (4.3.8)\n",
      "Requirement already satisfied: pywin32>=300 in c:\\users\\dolly rathore\\appdata\\roaming\\python\\python311\\site-packages (from jupyter-core!=5.0.*,>=4.12->ipykernel->jupyter->streamlit-jupyter) (311)\n",
      "Requirement already satisfied: async-lru>=1.0.0 in c:\\users\\dolly rathore\\appdata\\roaming\\python\\python311\\site-packages (from jupyterlab->jupyter->streamlit-jupyter) (2.0.5)\n",
      "Requirement already satisfied: httpx>=0.25.0 in c:\\users\\dolly rathore\\appdata\\roaming\\python\\python311\\site-packages (from jupyterlab->jupyter->streamlit-jupyter) (0.28.1)\n",
      "Requirement already satisfied: jupyter-lsp>=2.0.0 in c:\\users\\dolly rathore\\appdata\\roaming\\python\\python311\\site-packages (from jupyterlab->jupyter->streamlit-jupyter) (2.2.6)\n",
      "Requirement already satisfied: jupyter-server<3,>=2.4.0 in c:\\users\\dolly rathore\\appdata\\roaming\\python\\python311\\site-packages (from jupyterlab->jupyter->streamlit-jupyter) (2.16.0)\n",
      "Requirement already satisfied: jupyterlab-server<3,>=2.27.1 in c:\\users\\dolly rathore\\appdata\\roaming\\python\\python311\\site-packages (from jupyterlab->jupyter->streamlit-jupyter) (2.27.3)\n",
      "Requirement already satisfied: notebook-shim>=0.2 in c:\\users\\dolly rathore\\appdata\\roaming\\python\\python311\\site-packages (from jupyterlab->jupyter->streamlit-jupyter) (0.2.4)\n",
      "Requirement already satisfied: setuptools>=41.1.0 in c:\\program files\\python311\\lib\\site-packages (from jupyterlab->jupyter->streamlit-jupyter) (65.5.0)\n",
      "Requirement already satisfied: anyio>=3.1.0 in c:\\users\\dolly rathore\\appdata\\roaming\\python\\python311\\site-packages (from jupyter-server<3,>=2.4.0->jupyterlab->jupyter->streamlit-jupyter) (4.9.0)\n",
      "Requirement already satisfied: argon2-cffi>=21.1 in c:\\users\\dolly rathore\\appdata\\roaming\\python\\python311\\site-packages (from jupyter-server<3,>=2.4.0->jupyterlab->jupyter->streamlit-jupyter) (25.1.0)\n",
      "Requirement already satisfied: jupyter-events>=0.11.0 in c:\\users\\dolly rathore\\appdata\\roaming\\python\\python311\\site-packages (from jupyter-server<3,>=2.4.0->jupyterlab->jupyter->streamlit-jupyter) (0.12.0)\n",
      "Requirement already satisfied: jupyter-server-terminals>=0.4.4 in c:\\users\\dolly rathore\\appdata\\roaming\\python\\python311\\site-packages (from jupyter-server<3,>=2.4.0->jupyterlab->jupyter->streamlit-jupyter) (0.5.3)\n",
      "Requirement already satisfied: nbformat>=5.3.0 in c:\\users\\dolly rathore\\appdata\\roaming\\python\\python311\\site-packages (from jupyter-server<3,>=2.4.0->jupyterlab->jupyter->streamlit-jupyter) (5.10.4)\n",
      "Requirement already satisfied: overrides>=5.0 in c:\\users\\dolly rathore\\appdata\\roaming\\python\\python311\\site-packages (from jupyter-server<3,>=2.4.0->jupyterlab->jupyter->streamlit-jupyter) (7.7.0)\n",
      "Requirement already satisfied: prometheus-client>=0.9 in c:\\users\\dolly rathore\\appdata\\roaming\\python\\python311\\site-packages (from jupyter-server<3,>=2.4.0->jupyterlab->jupyter->streamlit-jupyter) (0.22.1)\n",
      "Requirement already satisfied: pywinpty>=2.0.1 in c:\\users\\dolly rathore\\appdata\\roaming\\python\\python311\\site-packages (from jupyter-server<3,>=2.4.0->jupyterlab->jupyter->streamlit-jupyter) (2.0.15)\n",
      "Requirement already satisfied: send2trash>=1.8.2 in c:\\users\\dolly rathore\\appdata\\roaming\\python\\python311\\site-packages (from jupyter-server<3,>=2.4.0->jupyterlab->jupyter->streamlit-jupyter) (1.8.3)\n",
      "Requirement already satisfied: terminado>=0.8.3 in c:\\users\\dolly rathore\\appdata\\roaming\\python\\python311\\site-packages (from jupyter-server<3,>=2.4.0->jupyterlab->jupyter->streamlit-jupyter) (0.18.1)\n",
      "Requirement already satisfied: websocket-client>=1.7 in c:\\users\\dolly rathore\\appdata\\roaming\\python\\python311\\site-packages (from jupyter-server<3,>=2.4.0->jupyterlab->jupyter->streamlit-jupyter) (1.8.0)\n",
      "Requirement already satisfied: babel>=2.10 in c:\\users\\dolly rathore\\appdata\\roaming\\python\\python311\\site-packages (from jupyterlab-server<3,>=2.27.1->jupyterlab->jupyter->streamlit-jupyter) (2.17.0)\n",
      "Requirement already satisfied: json5>=0.9.0 in c:\\users\\dolly rathore\\appdata\\roaming\\python\\python311\\site-packages (from jupyterlab-server<3,>=2.27.1->jupyterlab->jupyter->streamlit-jupyter) (0.12.0)\n",
      "Requirement already satisfied: sniffio>=1.1 in c:\\users\\dolly rathore\\appdata\\roaming\\python\\python311\\site-packages (from anyio>=3.1.0->jupyter-server<3,>=2.4.0->jupyterlab->jupyter->streamlit-jupyter) (1.3.1)\n",
      "Requirement already satisfied: argon2-cffi-bindings in c:\\users\\dolly rathore\\appdata\\roaming\\python\\python311\\site-packages (from argon2-cffi>=21.1->jupyter-server<3,>=2.4.0->jupyterlab->jupyter->streamlit-jupyter) (25.1.0)\n",
      "Requirement already satisfied: httpcore==1.* in c:\\users\\dolly rathore\\appdata\\roaming\\python\\python311\\site-packages (from httpx>=0.25.0->jupyterlab->jupyter->streamlit-jupyter) (1.0.9)\n",
      "Requirement already satisfied: h11>=0.16 in c:\\users\\dolly rathore\\appdata\\roaming\\python\\python311\\site-packages (from httpcore==1.*->httpx>=0.25.0->jupyterlab->jupyter->streamlit-jupyter) (0.16.0)\n",
      "Requirement already satisfied: python-json-logger>=2.0.4 in c:\\users\\dolly rathore\\appdata\\roaming\\python\\python311\\site-packages (from jupyter-events>=0.11.0->jupyter-server<3,>=2.4.0->jupyterlab->jupyter->streamlit-jupyter) (3.3.0)\n",
      "Requirement already satisfied: pyyaml>=5.3 in c:\\users\\dolly rathore\\appdata\\roaming\\python\\python311\\site-packages (from jupyter-events>=0.11.0->jupyter-server<3,>=2.4.0->jupyterlab->jupyter->streamlit-jupyter) (6.0.2)\n",
      "Requirement already satisfied: rfc3339-validator in c:\\users\\dolly rathore\\appdata\\roaming\\python\\python311\\site-packages (from jupyter-events>=0.11.0->jupyter-server<3,>=2.4.0->jupyterlab->jupyter->streamlit-jupyter) (0.1.4)\n",
      "Requirement already satisfied: rfc3986-validator>=0.1.1 in c:\\users\\dolly rathore\\appdata\\roaming\\python\\python311\\site-packages (from jupyter-events>=0.11.0->jupyter-server<3,>=2.4.0->jupyterlab->jupyter->streamlit-jupyter) (0.1.1)\n",
      "Requirement already satisfied: fqdn in c:\\users\\dolly rathore\\appdata\\roaming\\python\\python311\\site-packages (from jsonschema[format-nongpl]>=4.18.0->jupyter-events>=0.11.0->jupyter-server<3,>=2.4.0->jupyterlab->jupyter->streamlit-jupyter) (1.5.1)\n",
      "Requirement already satisfied: isoduration in c:\\users\\dolly rathore\\appdata\\roaming\\python\\python311\\site-packages (from jsonschema[format-nongpl]>=4.18.0->jupyter-events>=0.11.0->jupyter-server<3,>=2.4.0->jupyterlab->jupyter->streamlit-jupyter) (20.11.0)\n",
      "Requirement already satisfied: jsonpointer>1.13 in c:\\users\\dolly rathore\\appdata\\roaming\\python\\python311\\site-packages (from jsonschema[format-nongpl]>=4.18.0->jupyter-events>=0.11.0->jupyter-server<3,>=2.4.0->jupyterlab->jupyter->streamlit-jupyter) (3.0.0)\n",
      "Requirement already satisfied: rfc3987-syntax>=1.1.0 in c:\\users\\dolly rathore\\appdata\\roaming\\python\\python311\\site-packages (from jsonschema[format-nongpl]>=4.18.0->jupyter-events>=0.11.0->jupyter-server<3,>=2.4.0->jupyterlab->jupyter->streamlit-jupyter) (1.1.0)\n",
      "Requirement already satisfied: uri-template in c:\\users\\dolly rathore\\appdata\\roaming\\python\\python311\\site-packages (from jsonschema[format-nongpl]>=4.18.0->jupyter-events>=0.11.0->jupyter-server<3,>=2.4.0->jupyterlab->jupyter->streamlit-jupyter) (1.3.0)\n",
      "Requirement already satisfied: webcolors>=24.6.0 in c:\\users\\dolly rathore\\appdata\\roaming\\python\\python311\\site-packages (from jsonschema[format-nongpl]>=4.18.0->jupyter-events>=0.11.0->jupyter-server<3,>=2.4.0->jupyterlab->jupyter->streamlit-jupyter) (24.11.1)\n",
      "Requirement already satisfied: beautifulsoup4 in c:\\users\\dolly rathore\\appdata\\roaming\\python\\python311\\site-packages (from nbconvert->jupyter->streamlit-jupyter) (4.13.4)\n",
      "Requirement already satisfied: bleach!=5.0.0 in c:\\users\\dolly rathore\\appdata\\roaming\\python\\python311\\site-packages (from bleach[css]!=5.0.0->nbconvert->jupyter->streamlit-jupyter) (6.2.0)\n",
      "Requirement already satisfied: defusedxml in c:\\users\\dolly rathore\\appdata\\roaming\\python\\python311\\site-packages (from nbconvert->jupyter->streamlit-jupyter) (0.7.1)\n",
      "Requirement already satisfied: jupyterlab-pygments in c:\\users\\dolly rathore\\appdata\\roaming\\python\\python311\\site-packages (from nbconvert->jupyter->streamlit-jupyter) (0.3.0)\n",
      "Requirement already satisfied: mistune<4,>=2.0.3 in c:\\users\\dolly rathore\\appdata\\roaming\\python\\python311\\site-packages (from nbconvert->jupyter->streamlit-jupyter) (3.1.3)\n",
      "Requirement already satisfied: nbclient>=0.5.0 in c:\\users\\dolly rathore\\appdata\\roaming\\python\\python311\\site-packages (from nbconvert->jupyter->streamlit-jupyter) (0.10.2)\n",
      "Requirement already satisfied: pandocfilters>=1.4.1 in c:\\users\\dolly rathore\\appdata\\roaming\\python\\python311\\site-packages (from nbconvert->jupyter->streamlit-jupyter) (1.5.1)\n",
      "Requirement already satisfied: webencodings in c:\\users\\dolly rathore\\appdata\\roaming\\python\\python311\\site-packages (from bleach!=5.0.0->bleach[css]!=5.0.0->nbconvert->jupyter->streamlit-jupyter) (0.5.1)\n",
      "Requirement already satisfied: tinycss2<1.5,>=1.1.0 in c:\\users\\dolly rathore\\appdata\\roaming\\python\\python311\\site-packages (from bleach[css]!=5.0.0->nbconvert->jupyter->streamlit-jupyter) (1.4.0)\n",
      "Requirement already satisfied: fastjsonschema>=2.15 in c:\\users\\dolly rathore\\appdata\\roaming\\python\\python311\\site-packages (from nbformat>=5.3.0->jupyter-server<3,>=2.4.0->jupyterlab->jupyter->streamlit-jupyter) (2.21.1)\n",
      "Requirement already satisfied: lark>=1.2.2 in c:\\users\\dolly rathore\\appdata\\roaming\\python\\python311\\site-packages (from rfc3987-syntax>=1.1.0->jsonschema[format-nongpl]>=4.18.0->jupyter-events>=0.11.0->jupyter-server<3,>=2.4.0->jupyterlab->jupyter->streamlit-jupyter) (1.2.2)\n",
      "Requirement already satisfied: cffi>=1.0.1 in c:\\users\\dolly rathore\\appdata\\roaming\\python\\python311\\site-packages (from argon2-cffi-bindings->argon2-cffi>=21.1->jupyter-server<3,>=2.4.0->jupyterlab->jupyter->streamlit-jupyter) (1.17.1)\n",
      "Requirement already satisfied: pycparser in c:\\users\\dolly rathore\\appdata\\roaming\\python\\python311\\site-packages (from cffi>=1.0.1->argon2-cffi-bindings->argon2-cffi>=21.1->jupyter-server<3,>=2.4.0->jupyterlab->jupyter->streamlit-jupyter) (2.22)\n",
      "Requirement already satisfied: soupsieve>1.2 in c:\\users\\dolly rathore\\appdata\\roaming\\python\\python311\\site-packages (from beautifulsoup4->nbconvert->jupyter->streamlit-jupyter) (2.7)\n",
      "Requirement already satisfied: arrow>=0.15.0 in c:\\users\\dolly rathore\\appdata\\roaming\\python\\python311\\site-packages (from isoduration->jsonschema[format-nongpl]>=4.18.0->jupyter-events>=0.11.0->jupyter-server<3,>=2.4.0->jupyterlab->jupyter->streamlit-jupyter) (1.3.0)\n",
      "Requirement already satisfied: types-python-dateutil>=2.8.10 in c:\\users\\dolly rathore\\appdata\\roaming\\python\\python311\\site-packages (from arrow>=0.15.0->isoduration->jsonschema[format-nongpl]>=4.18.0->jupyter-events>=0.11.0->jupyter-server<3,>=2.4.0->jupyterlab->jupyter->streamlit-jupyter) (2.9.0.20250708)\n",
      "Requirement already satisfied: executing>=1.2.0 in c:\\users\\dolly rathore\\appdata\\roaming\\python\\python311\\site-packages (from stack_data->ipython>=6.1.0->ipywidgets>=8->streamlit-jupyter) (2.2.0)\n",
      "Requirement already satisfied: asttokens>=2.1.0 in c:\\users\\dolly rathore\\appdata\\roaming\\python\\python311\\site-packages (from stack_data->ipython>=6.1.0->ipywidgets>=8->streamlit-jupyter) (3.0.0)\n",
      "Requirement already satisfied: pure-eval in c:\\users\\dolly rathore\\appdata\\roaming\\python\\python311\\site-packages (from stack_data->ipython>=6.1.0->ipywidgets>=8->streamlit-jupyter) (0.2.3)\n",
      "Note: you may need to restart the kernel to use updated packages.\n"
     ]
    }
   ],
   "source": [
    "pip install streamlit-jupyter\n"
   ]
  },
  {
   "cell_type": "code",
   "execution_count": 21,
   "id": "81253031-c0cb-42b6-9ad8-07b3bc42e19e",
   "metadata": {},
   "outputs": [],
   "source": [
    "# preprocessor.py\n",
    "import pandas as pd\n",
    "\n",
    "def preprocessor():\n",
    "    # Load datasets\n",
    "    df = pd.read_csv(\"athlete_events.csv\")\n",
    "    regions = pd.read_csv(\"noc_regions.csv\")\n",
    "\n",
    "    # Merge with regions\n",
    "    df = df.merge(regions, how=\"left\", on=\"NOC\")\n",
    "\n",
    "    # Drop duplicates\n",
    "    df.drop_duplicates(inplace=True)\n",
    "\n",
    "    # Convert Medal to dummy columns\n",
    "    df[\"Gold\"] = (df[\"Medal\"] == \"Gold\").astype(int)\n",
    "    df[\"Silver\"] = (df[\"Medal\"] == \"Silver\").astype(int)\n",
    "    df[\"Bronze\"] = (df[\"Medal\"] == \"Bronze\").astype(int)\n",
    "\n",
    "    return df\n",
    "\n",
    "def country_year_list(df):\n",
    "    # Unique years\n",
    "    years = df[\"Year\"].unique().tolist()\n",
    "    years.sort()\n",
    "    years.insert(0, \"Overall\")\n",
    "\n",
    "    # Unique countries\n",
    "    countries = df[\"region\"].dropna().unique().tolist()\n",
    "    countries.sort()\n",
    "    countries.insert(0, \"Overall\")\n",
    "\n",
    "    return years, countries\n"
   ]
  },
  {
   "cell_type": "code",
   "execution_count": 22,
   "id": "a13fb2db-f180-4850-be2a-3ddf0b85a6c4",
   "metadata": {},
   "outputs": [
    {
     "name": "stdout",
     "output_type": "stream",
     "text": [
      "      Name     Medal\n",
      "0    Alice      Gold\n",
      "1      Bob    Silver\n",
      "2  Charlie  No Medal\n",
      "3    David    Bronze\n"
     ]
    }
   ],
   "source": [
    "import pandas as pd\n",
    "\n",
    "# Sample DataFrame creation (for context)\n",
    "athlete_df = pd.DataFrame({\n",
    "    'Name': ['Alice', 'Bob', 'Charlie', 'David'],\n",
    "    'Medal': ['Gold', 'Silver', None, 'Bronze']\n",
    "})\n",
    "\n",
    "# Correct approach #1: Assigning filled values back to the column\n",
    "athlete_df['Medal'] = athlete_df['Medal'].fillna('No Medal')\n",
    "\n",
    "# Alternatively, correct approach #2: Using loc indexer\n",
    "# athlete_df.loc[athlete_df['Medal'].isna(), 'Medal'] = 'No Medal'\n",
    "\n",
    "print(athlete_df)\n"
   ]
  },
  {
   "cell_type": "code",
   "execution_count": 24,
   "id": "6d0ef5fb-d709-4f5d-9795-fcc37f0507f2",
   "metadata": {},
   "outputs": [
    {
     "data": {
      "image/png": "[encoded data removed]",
      "text/plain": [
       "<Figure size 640x480 with 1 Axes>"
      ]
     },
     "metadata": {},
     "output_type": "display_data"
    }
   ],
   "source": [
    "import pandas as pd\n",
    "import seaborn as sns\n",
    "import matplotlib.pyplot as plt\n",
    "\n",
    "# Sample DataFrame creation (for context)\n",
    "athlete_df = pd.DataFrame({\n",
    "    'Name': ['Alice', 'Bob', 'Charlie', 'David'],\n",
    "    'Weight': [55, 70, 65, 80],\n",
    "    'Height': [165, 180, 175, 190]\n",
    "})\n",
    "\n",
    "# Create the scatter plot\n",
    "sns.scatterplot(data=athlete_df, x='Weight', y='Height')\n",
    "\n",
    "# Set plot title and labels\n",
    "plt.title('Scatter Plot of Weight vs Height')\n",
    "plt.xlabel('Weight')\n",
    "plt.ylabel('Height')\n",
    "\n",
    "# Save the plot to a file\n",
    "plt.savefig('scatter_plot_weight_vs_height.png')\n",
    "\n",
    "# Optionally, you can still call plt.show() if you want to see it in an interactive window\n",
    "plt.show()\n"
   ]
  },
  {
   "cell_type": "code",
   "execution_count": null,
   "id": "7194d8e2-6326-4cf8-b062-a31b12ff56f9",
   "metadata": {},
   "outputs": [],
   "source": []
  },
  {
   "cell_type": "code",
   "execution_count": null,
   "id": "383bb9b8-0c20-42be-ab2a-de544d4986ac",
   "metadata": {},
   "outputs": [],
   "source": []
  }
 ],
 "metadata": {
  "kernelspec": {
   "display_name": "Python 3 (ipykernel)",
   "language": "python",
   "name": "python3"
  },
  "language_info": {
   "codemirror_mode": {
    "name": "ipython",
    "version": 3
   },
   "file_extension": ".py",
   "mimetype": "text/x-python",
   "name": "python",
   "nbconvert_exporter": "python",
   "pygments_lexer": "ipython3",
   "version": "3.11.7"
  }
 },
 "nbformat": 4,
 "nbformat_minor": 5
}
